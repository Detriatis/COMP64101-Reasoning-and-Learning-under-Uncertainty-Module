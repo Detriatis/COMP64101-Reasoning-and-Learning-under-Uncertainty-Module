{
  "nbformat": 4,
  "nbformat_minor": 0,
  "metadata": {
    "colab": {
      "provenance": []
    },
    "kernelspec": {
      "name": "python3",
      "display_name": "Python 3"
    },
    "language_info": {
      "name": "python"
    },
    "widgets": {
      "application/vnd.jupyter.widget-state+json": {
        "36f8d9590ea34cb1a2baaafc196be110": {
          "model_module": "@jupyter-widgets/controls",
          "model_name": "HBoxModel",
          "model_module_version": "1.5.0",
          "state": {
            "_dom_classes": [],
            "_model_module": "@jupyter-widgets/controls",
            "_model_module_version": "1.5.0",
            "_model_name": "HBoxModel",
            "_view_count": null,
            "_view_module": "@jupyter-widgets/controls",
            "_view_module_version": "1.5.0",
            "_view_name": "HBoxView",
            "box_style": "",
            "children": [
              "IPY_MODEL_4d6ec182632c434d875a62a1e953f03b",
              "IPY_MODEL_5c6ca5cde9be4a00a63b49afe174042d",
              "IPY_MODEL_bf6bd7a1b60343619e523321abeaf238"
            ],
            "layout": "IPY_MODEL_465ecbdba05043c4b07771f9d74083ca"
          }
        },
        "4d6ec182632c434d875a62a1e953f03b": {
          "model_module": "@jupyter-widgets/controls",
          "model_name": "HTMLModel",
          "model_module_version": "1.5.0",
          "state": {
            "_dom_classes": [],
            "_model_module": "@jupyter-widgets/controls",
            "_model_module_version": "1.5.0",
            "_model_name": "HTMLModel",
            "_view_count": null,
            "_view_module": "@jupyter-widgets/controls",
            "_view_module_version": "1.5.0",
            "_view_name": "HTMLView",
            "description": "",
            "description_tooltip": null,
            "layout": "IPY_MODEL_ba9d9d3794ac471180ce7d12aeadcb82",
            "placeholder": "​",
            "style": "IPY_MODEL_51f6f1ea686f480eb50ec351a178ae41",
            "value": "Finding Elimination Order: : 100%"
          }
        },
        "5c6ca5cde9be4a00a63b49afe174042d": {
          "model_module": "@jupyter-widgets/controls",
          "model_name": "FloatProgressModel",
          "model_module_version": "1.5.0",
          "state": {
            "_dom_classes": [],
            "_model_module": "@jupyter-widgets/controls",
            "_model_module_version": "1.5.0",
            "_model_name": "FloatProgressModel",
            "_view_count": null,
            "_view_module": "@jupyter-widgets/controls",
            "_view_module_version": "1.5.0",
            "_view_name": "ProgressView",
            "bar_style": "success",
            "description": "",
            "description_tooltip": null,
            "layout": "IPY_MODEL_daec7ab2627c4c439186d4e286a86e08",
            "max": 1,
            "min": 0,
            "orientation": "horizontal",
            "style": "IPY_MODEL_f55843c0b32a434ca99b7e61019f1ba8",
            "value": 1
          }
        },
        "bf6bd7a1b60343619e523321abeaf238": {
          "model_module": "@jupyter-widgets/controls",
          "model_name": "HTMLModel",
          "model_module_version": "1.5.0",
          "state": {
            "_dom_classes": [],
            "_model_module": "@jupyter-widgets/controls",
            "_model_module_version": "1.5.0",
            "_model_name": "HTMLModel",
            "_view_count": null,
            "_view_module": "@jupyter-widgets/controls",
            "_view_module_version": "1.5.0",
            "_view_name": "HTMLView",
            "description": "",
            "description_tooltip": null,
            "layout": "IPY_MODEL_6c6b0415f684407b8b0dd1b17371865b",
            "placeholder": "​",
            "style": "IPY_MODEL_92dceeda2ba04ee6bdfc2929f698e194",
            "value": " 1/1 [00:00&lt;00:00, 10.14it/s]"
          }
        },
        "465ecbdba05043c4b07771f9d74083ca": {
          "model_module": "@jupyter-widgets/base",
          "model_name": "LayoutModel",
          "model_module_version": "1.2.0",
          "state": {
            "_model_module": "@jupyter-widgets/base",
            "_model_module_version": "1.2.0",
            "_model_name": "LayoutModel",
            "_view_count": null,
            "_view_module": "@jupyter-widgets/base",
            "_view_module_version": "1.2.0",
            "_view_name": "LayoutView",
            "align_content": null,
            "align_items": null,
            "align_self": null,
            "border": null,
            "bottom": null,
            "display": null,
            "flex": null,
            "flex_flow": null,
            "grid_area": null,
            "grid_auto_columns": null,
            "grid_auto_flow": null,
            "grid_auto_rows": null,
            "grid_column": null,
            "grid_gap": null,
            "grid_row": null,
            "grid_template_areas": null,
            "grid_template_columns": null,
            "grid_template_rows": null,
            "height": null,
            "justify_content": null,
            "justify_items": null,
            "left": null,
            "margin": null,
            "max_height": null,
            "max_width": null,
            "min_height": null,
            "min_width": null,
            "object_fit": null,
            "object_position": null,
            "order": null,
            "overflow": null,
            "overflow_x": null,
            "overflow_y": null,
            "padding": null,
            "right": null,
            "top": null,
            "visibility": null,
            "width": null
          }
        },
        "ba9d9d3794ac471180ce7d12aeadcb82": {
          "model_module": "@jupyter-widgets/base",
          "model_name": "LayoutModel",
          "model_module_version": "1.2.0",
          "state": {
            "_model_module": "@jupyter-widgets/base",
            "_model_module_version": "1.2.0",
            "_model_name": "LayoutModel",
            "_view_count": null,
            "_view_module": "@jupyter-widgets/base",
            "_view_module_version": "1.2.0",
            "_view_name": "LayoutView",
            "align_content": null,
            "align_items": null,
            "align_self": null,
            "border": null,
            "bottom": null,
            "display": null,
            "flex": null,
            "flex_flow": null,
            "grid_area": null,
            "grid_auto_columns": null,
            "grid_auto_flow": null,
            "grid_auto_rows": null,
            "grid_column": null,
            "grid_gap": null,
            "grid_row": null,
            "grid_template_areas": null,
            "grid_template_columns": null,
            "grid_template_rows": null,
            "height": null,
            "justify_content": null,
            "justify_items": null,
            "left": null,
            "margin": null,
            "max_height": null,
            "max_width": null,
            "min_height": null,
            "min_width": null,
            "object_fit": null,
            "object_position": null,
            "order": null,
            "overflow": null,
            "overflow_x": null,
            "overflow_y": null,
            "padding": null,
            "right": null,
            "top": null,
            "visibility": null,
            "width": null
          }
        },
        "51f6f1ea686f480eb50ec351a178ae41": {
          "model_module": "@jupyter-widgets/controls",
          "model_name": "DescriptionStyleModel",
          "model_module_version": "1.5.0",
          "state": {
            "_model_module": "@jupyter-widgets/controls",
            "_model_module_version": "1.5.0",
            "_model_name": "DescriptionStyleModel",
            "_view_count": null,
            "_view_module": "@jupyter-widgets/base",
            "_view_module_version": "1.2.0",
            "_view_name": "StyleView",
            "description_width": ""
          }
        },
        "daec7ab2627c4c439186d4e286a86e08": {
          "model_module": "@jupyter-widgets/base",
          "model_name": "LayoutModel",
          "model_module_version": "1.2.0",
          "state": {
            "_model_module": "@jupyter-widgets/base",
            "_model_module_version": "1.2.0",
            "_model_name": "LayoutModel",
            "_view_count": null,
            "_view_module": "@jupyter-widgets/base",
            "_view_module_version": "1.2.0",
            "_view_name": "LayoutView",
            "align_content": null,
            "align_items": null,
            "align_self": null,
            "border": null,
            "bottom": null,
            "display": null,
            "flex": null,
            "flex_flow": null,
            "grid_area": null,
            "grid_auto_columns": null,
            "grid_auto_flow": null,
            "grid_auto_rows": null,
            "grid_column": null,
            "grid_gap": null,
            "grid_row": null,
            "grid_template_areas": null,
            "grid_template_columns": null,
            "grid_template_rows": null,
            "height": null,
            "justify_content": null,
            "justify_items": null,
            "left": null,
            "margin": null,
            "max_height": null,
            "max_width": null,
            "min_height": null,
            "min_width": null,
            "object_fit": null,
            "object_position": null,
            "order": null,
            "overflow": null,
            "overflow_x": null,
            "overflow_y": null,
            "padding": null,
            "right": null,
            "top": null,
            "visibility": null,
            "width": null
          }
        },
        "f55843c0b32a434ca99b7e61019f1ba8": {
          "model_module": "@jupyter-widgets/controls",
          "model_name": "ProgressStyleModel",
          "model_module_version": "1.5.0",
          "state": {
            "_model_module": "@jupyter-widgets/controls",
            "_model_module_version": "1.5.0",
            "_model_name": "ProgressStyleModel",
            "_view_count": null,
            "_view_module": "@jupyter-widgets/base",
            "_view_module_version": "1.2.0",
            "_view_name": "StyleView",
            "bar_color": null,
            "description_width": ""
          }
        },
        "6c6b0415f684407b8b0dd1b17371865b": {
          "model_module": "@jupyter-widgets/base",
          "model_name": "LayoutModel",
          "model_module_version": "1.2.0",
          "state": {
            "_model_module": "@jupyter-widgets/base",
            "_model_module_version": "1.2.0",
            "_model_name": "LayoutModel",
            "_view_count": null,
            "_view_module": "@jupyter-widgets/base",
            "_view_module_version": "1.2.0",
            "_view_name": "LayoutView",
            "align_content": null,
            "align_items": null,
            "align_self": null,
            "border": null,
            "bottom": null,
            "display": null,
            "flex": null,
            "flex_flow": null,
            "grid_area": null,
            "grid_auto_columns": null,
            "grid_auto_flow": null,
            "grid_auto_rows": null,
            "grid_column": null,
            "grid_gap": null,
            "grid_row": null,
            "grid_template_areas": null,
            "grid_template_columns": null,
            "grid_template_rows": null,
            "height": null,
            "justify_content": null,
            "justify_items": null,
            "left": null,
            "margin": null,
            "max_height": null,
            "max_width": null,
            "min_height": null,
            "min_width": null,
            "object_fit": null,
            "object_position": null,
            "order": null,
            "overflow": null,
            "overflow_x": null,
            "overflow_y": null,
            "padding": null,
            "right": null,
            "top": null,
            "visibility": null,
            "width": null
          }
        },
        "92dceeda2ba04ee6bdfc2929f698e194": {
          "model_module": "@jupyter-widgets/controls",
          "model_name": "DescriptionStyleModel",
          "model_module_version": "1.5.0",
          "state": {
            "_model_module": "@jupyter-widgets/controls",
            "_model_module_version": "1.5.0",
            "_model_name": "DescriptionStyleModel",
            "_view_count": null,
            "_view_module": "@jupyter-widgets/base",
            "_view_module_version": "1.2.0",
            "_view_name": "StyleView",
            "description_width": ""
          }
        },
        "502e4c52d4164005a313ef03c7ad51a4": {
          "model_module": "@jupyter-widgets/controls",
          "model_name": "HBoxModel",
          "model_module_version": "1.5.0",
          "state": {
            "_dom_classes": [],
            "_model_module": "@jupyter-widgets/controls",
            "_model_module_version": "1.5.0",
            "_model_name": "HBoxModel",
            "_view_count": null,
            "_view_module": "@jupyter-widgets/controls",
            "_view_module_version": "1.5.0",
            "_view_name": "HBoxView",
            "box_style": "",
            "children": [
              "IPY_MODEL_1cdfe6c5ad3d4c7e8d82c6b59e248ba6",
              "IPY_MODEL_5bbf3ce3451547c5b04ffd9791ce5f17",
              "IPY_MODEL_251daf5a50f844508d4020313cd64ffd"
            ],
            "layout": "IPY_MODEL_db3824e4dfaa44a2ae2dc8d76a4367d9"
          }
        },
        "1cdfe6c5ad3d4c7e8d82c6b59e248ba6": {
          "model_module": "@jupyter-widgets/controls",
          "model_name": "HTMLModel",
          "model_module_version": "1.5.0",
          "state": {
            "_dom_classes": [],
            "_model_module": "@jupyter-widgets/controls",
            "_model_module_version": "1.5.0",
            "_model_name": "HTMLModel",
            "_view_count": null,
            "_view_module": "@jupyter-widgets/controls",
            "_view_module_version": "1.5.0",
            "_view_name": "HTMLView",
            "description": "",
            "description_tooltip": null,
            "layout": "IPY_MODEL_47e5772905ec4d9ab7e8a9a958d5f275",
            "placeholder": "​",
            "style": "IPY_MODEL_2c186171b6344bfba5c1ec73a527df21",
            "value": "Eliminating: Intel: 100%"
          }
        },
        "5bbf3ce3451547c5b04ffd9791ce5f17": {
          "model_module": "@jupyter-widgets/controls",
          "model_name": "FloatProgressModel",
          "model_module_version": "1.5.0",
          "state": {
            "_dom_classes": [],
            "_model_module": "@jupyter-widgets/controls",
            "_model_module_version": "1.5.0",
            "_model_name": "FloatProgressModel",
            "_view_count": null,
            "_view_module": "@jupyter-widgets/controls",
            "_view_module_version": "1.5.0",
            "_view_name": "ProgressView",
            "bar_style": "success",
            "description": "",
            "description_tooltip": null,
            "layout": "IPY_MODEL_f0c7d91821c04e15b4c8c29cd3c42348",
            "max": 1,
            "min": 0,
            "orientation": "horizontal",
            "style": "IPY_MODEL_47593c5f7f694431b0397cb1fae1ef6d",
            "value": 1
          }
        },
        "251daf5a50f844508d4020313cd64ffd": {
          "model_module": "@jupyter-widgets/controls",
          "model_name": "HTMLModel",
          "model_module_version": "1.5.0",
          "state": {
            "_dom_classes": [],
            "_model_module": "@jupyter-widgets/controls",
            "_model_module_version": "1.5.0",
            "_model_name": "HTMLModel",
            "_view_count": null,
            "_view_module": "@jupyter-widgets/controls",
            "_view_module_version": "1.5.0",
            "_view_name": "HTMLView",
            "description": "",
            "description_tooltip": null,
            "layout": "IPY_MODEL_8ab70f69a977464caf75fcdb45dda027",
            "placeholder": "​",
            "style": "IPY_MODEL_17c0fbcad9e2437492c7b99af96ad2af",
            "value": " 1/1 [00:00&lt;00:00, 15.02it/s]"
          }
        },
        "db3824e4dfaa44a2ae2dc8d76a4367d9": {
          "model_module": "@jupyter-widgets/base",
          "model_name": "LayoutModel",
          "model_module_version": "1.2.0",
          "state": {
            "_model_module": "@jupyter-widgets/base",
            "_model_module_version": "1.2.0",
            "_model_name": "LayoutModel",
            "_view_count": null,
            "_view_module": "@jupyter-widgets/base",
            "_view_module_version": "1.2.0",
            "_view_name": "LayoutView",
            "align_content": null,
            "align_items": null,
            "align_self": null,
            "border": null,
            "bottom": null,
            "display": null,
            "flex": null,
            "flex_flow": null,
            "grid_area": null,
            "grid_auto_columns": null,
            "grid_auto_flow": null,
            "grid_auto_rows": null,
            "grid_column": null,
            "grid_gap": null,
            "grid_row": null,
            "grid_template_areas": null,
            "grid_template_columns": null,
            "grid_template_rows": null,
            "height": null,
            "justify_content": null,
            "justify_items": null,
            "left": null,
            "margin": null,
            "max_height": null,
            "max_width": null,
            "min_height": null,
            "min_width": null,
            "object_fit": null,
            "object_position": null,
            "order": null,
            "overflow": null,
            "overflow_x": null,
            "overflow_y": null,
            "padding": null,
            "right": null,
            "top": null,
            "visibility": null,
            "width": null
          }
        },
        "47e5772905ec4d9ab7e8a9a958d5f275": {
          "model_module": "@jupyter-widgets/base",
          "model_name": "LayoutModel",
          "model_module_version": "1.2.0",
          "state": {
            "_model_module": "@jupyter-widgets/base",
            "_model_module_version": "1.2.0",
            "_model_name": "LayoutModel",
            "_view_count": null,
            "_view_module": "@jupyter-widgets/base",
            "_view_module_version": "1.2.0",
            "_view_name": "LayoutView",
            "align_content": null,
            "align_items": null,
            "align_self": null,
            "border": null,
            "bottom": null,
            "display": null,
            "flex": null,
            "flex_flow": null,
            "grid_area": null,
            "grid_auto_columns": null,
            "grid_auto_flow": null,
            "grid_auto_rows": null,
            "grid_column": null,
            "grid_gap": null,
            "grid_row": null,
            "grid_template_areas": null,
            "grid_template_columns": null,
            "grid_template_rows": null,
            "height": null,
            "justify_content": null,
            "justify_items": null,
            "left": null,
            "margin": null,
            "max_height": null,
            "max_width": null,
            "min_height": null,
            "min_width": null,
            "object_fit": null,
            "object_position": null,
            "order": null,
            "overflow": null,
            "overflow_x": null,
            "overflow_y": null,
            "padding": null,
            "right": null,
            "top": null,
            "visibility": null,
            "width": null
          }
        },
        "2c186171b6344bfba5c1ec73a527df21": {
          "model_module": "@jupyter-widgets/controls",
          "model_name": "DescriptionStyleModel",
          "model_module_version": "1.5.0",
          "state": {
            "_model_module": "@jupyter-widgets/controls",
            "_model_module_version": "1.5.0",
            "_model_name": "DescriptionStyleModel",
            "_view_count": null,
            "_view_module": "@jupyter-widgets/base",
            "_view_module_version": "1.2.0",
            "_view_name": "StyleView",
            "description_width": ""
          }
        },
        "f0c7d91821c04e15b4c8c29cd3c42348": {
          "model_module": "@jupyter-widgets/base",
          "model_name": "LayoutModel",
          "model_module_version": "1.2.0",
          "state": {
            "_model_module": "@jupyter-widgets/base",
            "_model_module_version": "1.2.0",
            "_model_name": "LayoutModel",
            "_view_count": null,
            "_view_module": "@jupyter-widgets/base",
            "_view_module_version": "1.2.0",
            "_view_name": "LayoutView",
            "align_content": null,
            "align_items": null,
            "align_self": null,
            "border": null,
            "bottom": null,
            "display": null,
            "flex": null,
            "flex_flow": null,
            "grid_area": null,
            "grid_auto_columns": null,
            "grid_auto_flow": null,
            "grid_auto_rows": null,
            "grid_column": null,
            "grid_gap": null,
            "grid_row": null,
            "grid_template_areas": null,
            "grid_template_columns": null,
            "grid_template_rows": null,
            "height": null,
            "justify_content": null,
            "justify_items": null,
            "left": null,
            "margin": null,
            "max_height": null,
            "max_width": null,
            "min_height": null,
            "min_width": null,
            "object_fit": null,
            "object_position": null,
            "order": null,
            "overflow": null,
            "overflow_x": null,
            "overflow_y": null,
            "padding": null,
            "right": null,
            "top": null,
            "visibility": null,
            "width": null
          }
        },
        "47593c5f7f694431b0397cb1fae1ef6d": {
          "model_module": "@jupyter-widgets/controls",
          "model_name": "ProgressStyleModel",
          "model_module_version": "1.5.0",
          "state": {
            "_model_module": "@jupyter-widgets/controls",
            "_model_module_version": "1.5.0",
            "_model_name": "ProgressStyleModel",
            "_view_count": null,
            "_view_module": "@jupyter-widgets/base",
            "_view_module_version": "1.2.0",
            "_view_name": "StyleView",
            "bar_color": null,
            "description_width": ""
          }
        },
        "8ab70f69a977464caf75fcdb45dda027": {
          "model_module": "@jupyter-widgets/base",
          "model_name": "LayoutModel",
          "model_module_version": "1.2.0",
          "state": {
            "_model_module": "@jupyter-widgets/base",
            "_model_module_version": "1.2.0",
            "_model_name": "LayoutModel",
            "_view_count": null,
            "_view_module": "@jupyter-widgets/base",
            "_view_module_version": "1.2.0",
            "_view_name": "LayoutView",
            "align_content": null,
            "align_items": null,
            "align_self": null,
            "border": null,
            "bottom": null,
            "display": null,
            "flex": null,
            "flex_flow": null,
            "grid_area": null,
            "grid_auto_columns": null,
            "grid_auto_flow": null,
            "grid_auto_rows": null,
            "grid_column": null,
            "grid_gap": null,
            "grid_row": null,
            "grid_template_areas": null,
            "grid_template_columns": null,
            "grid_template_rows": null,
            "height": null,
            "justify_content": null,
            "justify_items": null,
            "left": null,
            "margin": null,
            "max_height": null,
            "max_width": null,
            "min_height": null,
            "min_width": null,
            "object_fit": null,
            "object_position": null,
            "order": null,
            "overflow": null,
            "overflow_x": null,
            "overflow_y": null,
            "padding": null,
            "right": null,
            "top": null,
            "visibility": null,
            "width": null
          }
        },
        "17c0fbcad9e2437492c7b99af96ad2af": {
          "model_module": "@jupyter-widgets/controls",
          "model_name": "DescriptionStyleModel",
          "model_module_version": "1.5.0",
          "state": {
            "_model_module": "@jupyter-widgets/controls",
            "_model_module_version": "1.5.0",
            "_model_name": "DescriptionStyleModel",
            "_view_count": null,
            "_view_module": "@jupyter-widgets/base",
            "_view_module_version": "1.2.0",
            "_view_name": "StyleView",
            "description_width": ""
          }
        },
        "74a1573dbd0f432ea422d486d74f4df7": {
          "model_module": "@jupyter-widgets/controls",
          "model_name": "HBoxModel",
          "model_module_version": "1.5.0",
          "state": {
            "_dom_classes": [],
            "_model_module": "@jupyter-widgets/controls",
            "_model_module_version": "1.5.0",
            "_model_name": "HBoxModel",
            "_view_count": null,
            "_view_module": "@jupyter-widgets/controls",
            "_view_module_version": "1.5.0",
            "_view_name": "HBoxView",
            "box_style": "",
            "children": [
              "IPY_MODEL_c260efd8fb904f85b42c9b6cd13918c9",
              "IPY_MODEL_06d5c6a3cab14298a17b88feb9119f0b",
              "IPY_MODEL_bc11307b3670447bb1d331f83338a47f"
            ],
            "layout": "IPY_MODEL_c90f162c15394dc3829b3db2ab354bd6"
          }
        },
        "c260efd8fb904f85b42c9b6cd13918c9": {
          "model_module": "@jupyter-widgets/controls",
          "model_name": "HTMLModel",
          "model_module_version": "1.5.0",
          "state": {
            "_dom_classes": [],
            "_model_module": "@jupyter-widgets/controls",
            "_model_module_version": "1.5.0",
            "_model_name": "HTMLModel",
            "_view_count": null,
            "_view_module": "@jupyter-widgets/controls",
            "_view_module_version": "1.5.0",
            "_view_name": "HTMLView",
            "description": "",
            "description_tooltip": null,
            "layout": "IPY_MODEL_d22e00992d0f40cbaf2739ccbbf1d117",
            "placeholder": "​",
            "style": "IPY_MODEL_c4ee262dfd824d23bb92f39788a30810",
            "value": "Finding Elimination Order: : 100%"
          }
        },
        "06d5c6a3cab14298a17b88feb9119f0b": {
          "model_module": "@jupyter-widgets/controls",
          "model_name": "FloatProgressModel",
          "model_module_version": "1.5.0",
          "state": {
            "_dom_classes": [],
            "_model_module": "@jupyter-widgets/controls",
            "_model_module_version": "1.5.0",
            "_model_name": "FloatProgressModel",
            "_view_count": null,
            "_view_module": "@jupyter-widgets/controls",
            "_view_module_version": "1.5.0",
            "_view_name": "ProgressView",
            "bar_style": "success",
            "description": "",
            "description_tooltip": null,
            "layout": "IPY_MODEL_ea53e0cde534487ba7c8c72949d26f21",
            "max": 1,
            "min": 0,
            "orientation": "horizontal",
            "style": "IPY_MODEL_ba8124850f234318bcf935f8799cafdc",
            "value": 1
          }
        },
        "bc11307b3670447bb1d331f83338a47f": {
          "model_module": "@jupyter-widgets/controls",
          "model_name": "HTMLModel",
          "model_module_version": "1.5.0",
          "state": {
            "_dom_classes": [],
            "_model_module": "@jupyter-widgets/controls",
            "_model_module_version": "1.5.0",
            "_model_name": "HTMLModel",
            "_view_count": null,
            "_view_module": "@jupyter-widgets/controls",
            "_view_module_version": "1.5.0",
            "_view_name": "HTMLView",
            "description": "",
            "description_tooltip": null,
            "layout": "IPY_MODEL_5e92fdf7bc894210acf084c9b7851c39",
            "placeholder": "​",
            "style": "IPY_MODEL_18179ac13bca41058b1354f5350b351b",
            "value": " 1/1 [00:00&lt;00:00,  8.49it/s]"
          }
        },
        "c90f162c15394dc3829b3db2ab354bd6": {
          "model_module": "@jupyter-widgets/base",
          "model_name": "LayoutModel",
          "model_module_version": "1.2.0",
          "state": {
            "_model_module": "@jupyter-widgets/base",
            "_model_module_version": "1.2.0",
            "_model_name": "LayoutModel",
            "_view_count": null,
            "_view_module": "@jupyter-widgets/base",
            "_view_module_version": "1.2.0",
            "_view_name": "LayoutView",
            "align_content": null,
            "align_items": null,
            "align_self": null,
            "border": null,
            "bottom": null,
            "display": null,
            "flex": null,
            "flex_flow": null,
            "grid_area": null,
            "grid_auto_columns": null,
            "grid_auto_flow": null,
            "grid_auto_rows": null,
            "grid_column": null,
            "grid_gap": null,
            "grid_row": null,
            "grid_template_areas": null,
            "grid_template_columns": null,
            "grid_template_rows": null,
            "height": null,
            "justify_content": null,
            "justify_items": null,
            "left": null,
            "margin": null,
            "max_height": null,
            "max_width": null,
            "min_height": null,
            "min_width": null,
            "object_fit": null,
            "object_position": null,
            "order": null,
            "overflow": null,
            "overflow_x": null,
            "overflow_y": null,
            "padding": null,
            "right": null,
            "top": null,
            "visibility": null,
            "width": null
          }
        },
        "d22e00992d0f40cbaf2739ccbbf1d117": {
          "model_module": "@jupyter-widgets/base",
          "model_name": "LayoutModel",
          "model_module_version": "1.2.0",
          "state": {
            "_model_module": "@jupyter-widgets/base",
            "_model_module_version": "1.2.0",
            "_model_name": "LayoutModel",
            "_view_count": null,
            "_view_module": "@jupyter-widgets/base",
            "_view_module_version": "1.2.0",
            "_view_name": "LayoutView",
            "align_content": null,
            "align_items": null,
            "align_self": null,
            "border": null,
            "bottom": null,
            "display": null,
            "flex": null,
            "flex_flow": null,
            "grid_area": null,
            "grid_auto_columns": null,
            "grid_auto_flow": null,
            "grid_auto_rows": null,
            "grid_column": null,
            "grid_gap": null,
            "grid_row": null,
            "grid_template_areas": null,
            "grid_template_columns": null,
            "grid_template_rows": null,
            "height": null,
            "justify_content": null,
            "justify_items": null,
            "left": null,
            "margin": null,
            "max_height": null,
            "max_width": null,
            "min_height": null,
            "min_width": null,
            "object_fit": null,
            "object_position": null,
            "order": null,
            "overflow": null,
            "overflow_x": null,
            "overflow_y": null,
            "padding": null,
            "right": null,
            "top": null,
            "visibility": null,
            "width": null
          }
        },
        "c4ee262dfd824d23bb92f39788a30810": {
          "model_module": "@jupyter-widgets/controls",
          "model_name": "DescriptionStyleModel",
          "model_module_version": "1.5.0",
          "state": {
            "_model_module": "@jupyter-widgets/controls",
            "_model_module_version": "1.5.0",
            "_model_name": "DescriptionStyleModel",
            "_view_count": null,
            "_view_module": "@jupyter-widgets/base",
            "_view_module_version": "1.2.0",
            "_view_name": "StyleView",
            "description_width": ""
          }
        },
        "ea53e0cde534487ba7c8c72949d26f21": {
          "model_module": "@jupyter-widgets/base",
          "model_name": "LayoutModel",
          "model_module_version": "1.2.0",
          "state": {
            "_model_module": "@jupyter-widgets/base",
            "_model_module_version": "1.2.0",
            "_model_name": "LayoutModel",
            "_view_count": null,
            "_view_module": "@jupyter-widgets/base",
            "_view_module_version": "1.2.0",
            "_view_name": "LayoutView",
            "align_content": null,
            "align_items": null,
            "align_self": null,
            "border": null,
            "bottom": null,
            "display": null,
            "flex": null,
            "flex_flow": null,
            "grid_area": null,
            "grid_auto_columns": null,
            "grid_auto_flow": null,
            "grid_auto_rows": null,
            "grid_column": null,
            "grid_gap": null,
            "grid_row": null,
            "grid_template_areas": null,
            "grid_template_columns": null,
            "grid_template_rows": null,
            "height": null,
            "justify_content": null,
            "justify_items": null,
            "left": null,
            "margin": null,
            "max_height": null,
            "max_width": null,
            "min_height": null,
            "min_width": null,
            "object_fit": null,
            "object_position": null,
            "order": null,
            "overflow": null,
            "overflow_x": null,
            "overflow_y": null,
            "padding": null,
            "right": null,
            "top": null,
            "visibility": null,
            "width": null
          }
        },
        "ba8124850f234318bcf935f8799cafdc": {
          "model_module": "@jupyter-widgets/controls",
          "model_name": "ProgressStyleModel",
          "model_module_version": "1.5.0",
          "state": {
            "_model_module": "@jupyter-widgets/controls",
            "_model_module_version": "1.5.0",
            "_model_name": "ProgressStyleModel",
            "_view_count": null,
            "_view_module": "@jupyter-widgets/base",
            "_view_module_version": "1.2.0",
            "_view_name": "StyleView",
            "bar_color": null,
            "description_width": ""
          }
        },
        "5e92fdf7bc894210acf084c9b7851c39": {
          "model_module": "@jupyter-widgets/base",
          "model_name": "LayoutModel",
          "model_module_version": "1.2.0",
          "state": {
            "_model_module": "@jupyter-widgets/base",
            "_model_module_version": "1.2.0",
            "_model_name": "LayoutModel",
            "_view_count": null,
            "_view_module": "@jupyter-widgets/base",
            "_view_module_version": "1.2.0",
            "_view_name": "LayoutView",
            "align_content": null,
            "align_items": null,
            "align_self": null,
            "border": null,
            "bottom": null,
            "display": null,
            "flex": null,
            "flex_flow": null,
            "grid_area": null,
            "grid_auto_columns": null,
            "grid_auto_flow": null,
            "grid_auto_rows": null,
            "grid_column": null,
            "grid_gap": null,
            "grid_row": null,
            "grid_template_areas": null,
            "grid_template_columns": null,
            "grid_template_rows": null,
            "height": null,
            "justify_content": null,
            "justify_items": null,
            "left": null,
            "margin": null,
            "max_height": null,
            "max_width": null,
            "min_height": null,
            "min_width": null,
            "object_fit": null,
            "object_position": null,
            "order": null,
            "overflow": null,
            "overflow_x": null,
            "overflow_y": null,
            "padding": null,
            "right": null,
            "top": null,
            "visibility": null,
            "width": null
          }
        },
        "18179ac13bca41058b1354f5350b351b": {
          "model_module": "@jupyter-widgets/controls",
          "model_name": "DescriptionStyleModel",
          "model_module_version": "1.5.0",
          "state": {
            "_model_module": "@jupyter-widgets/controls",
            "_model_module_version": "1.5.0",
            "_model_name": "DescriptionStyleModel",
            "_view_count": null,
            "_view_module": "@jupyter-widgets/base",
            "_view_module_version": "1.2.0",
            "_view_name": "StyleView",
            "description_width": ""
          }
        },
        "2cffcf4657b246df978ca5680edf5da0": {
          "model_module": "@jupyter-widgets/controls",
          "model_name": "HBoxModel",
          "model_module_version": "1.5.0",
          "state": {
            "_dom_classes": [],
            "_model_module": "@jupyter-widgets/controls",
            "_model_module_version": "1.5.0",
            "_model_name": "HBoxModel",
            "_view_count": null,
            "_view_module": "@jupyter-widgets/controls",
            "_view_module_version": "1.5.0",
            "_view_name": "HBoxView",
            "box_style": "",
            "children": [
              "IPY_MODEL_7a78aad7891f4d50b3667729f1435aad",
              "IPY_MODEL_0ade2b8200f2439186320e31feaafcc7",
              "IPY_MODEL_5bf39eb8a7e2488c8613925f3be683f4"
            ],
            "layout": "IPY_MODEL_8f5c6757edb04799b50a7579fe2c4bb6"
          }
        },
        "7a78aad7891f4d50b3667729f1435aad": {
          "model_module": "@jupyter-widgets/controls",
          "model_name": "HTMLModel",
          "model_module_version": "1.5.0",
          "state": {
            "_dom_classes": [],
            "_model_module": "@jupyter-widgets/controls",
            "_model_module_version": "1.5.0",
            "_model_name": "HTMLModel",
            "_view_count": null,
            "_view_module": "@jupyter-widgets/controls",
            "_view_module_version": "1.5.0",
            "_view_name": "HTMLView",
            "description": "",
            "description_tooltip": null,
            "layout": "IPY_MODEL_defb304eb29a4673bcf0d9c639034d06",
            "placeholder": "​",
            "style": "IPY_MODEL_cf822d8b824e468bafac19d18c86d836",
            "value": "Eliminating: Diff: 100%"
          }
        },
        "0ade2b8200f2439186320e31feaafcc7": {
          "model_module": "@jupyter-widgets/controls",
          "model_name": "FloatProgressModel",
          "model_module_version": "1.5.0",
          "state": {
            "_dom_classes": [],
            "_model_module": "@jupyter-widgets/controls",
            "_model_module_version": "1.5.0",
            "_model_name": "FloatProgressModel",
            "_view_count": null,
            "_view_module": "@jupyter-widgets/controls",
            "_view_module_version": "1.5.0",
            "_view_name": "ProgressView",
            "bar_style": "success",
            "description": "",
            "description_tooltip": null,
            "layout": "IPY_MODEL_63f903e0627342b9acdbb7f97f9d52c7",
            "max": 1,
            "min": 0,
            "orientation": "horizontal",
            "style": "IPY_MODEL_d0f0b426e7bf4cf6b3ca284641d0443d",
            "value": 1
          }
        },
        "5bf39eb8a7e2488c8613925f3be683f4": {
          "model_module": "@jupyter-widgets/controls",
          "model_name": "HTMLModel",
          "model_module_version": "1.5.0",
          "state": {
            "_dom_classes": [],
            "_model_module": "@jupyter-widgets/controls",
            "_model_module_version": "1.5.0",
            "_model_name": "HTMLModel",
            "_view_count": null,
            "_view_module": "@jupyter-widgets/controls",
            "_view_module_version": "1.5.0",
            "_view_name": "HTMLView",
            "description": "",
            "description_tooltip": null,
            "layout": "IPY_MODEL_dcb960b69ba44460afedcc3e3eb09c8e",
            "placeholder": "​",
            "style": "IPY_MODEL_09ada291c9e24096a4575c0c6fac22a5",
            "value": " 1/1 [00:00&lt;00:00,  7.34it/s]"
          }
        },
        "8f5c6757edb04799b50a7579fe2c4bb6": {
          "model_module": "@jupyter-widgets/base",
          "model_name": "LayoutModel",
          "model_module_version": "1.2.0",
          "state": {
            "_model_module": "@jupyter-widgets/base",
            "_model_module_version": "1.2.0",
            "_model_name": "LayoutModel",
            "_view_count": null,
            "_view_module": "@jupyter-widgets/base",
            "_view_module_version": "1.2.0",
            "_view_name": "LayoutView",
            "align_content": null,
            "align_items": null,
            "align_self": null,
            "border": null,
            "bottom": null,
            "display": null,
            "flex": null,
            "flex_flow": null,
            "grid_area": null,
            "grid_auto_columns": null,
            "grid_auto_flow": null,
            "grid_auto_rows": null,
            "grid_column": null,
            "grid_gap": null,
            "grid_row": null,
            "grid_template_areas": null,
            "grid_template_columns": null,
            "grid_template_rows": null,
            "height": null,
            "justify_content": null,
            "justify_items": null,
            "left": null,
            "margin": null,
            "max_height": null,
            "max_width": null,
            "min_height": null,
            "min_width": null,
            "object_fit": null,
            "object_position": null,
            "order": null,
            "overflow": null,
            "overflow_x": null,
            "overflow_y": null,
            "padding": null,
            "right": null,
            "top": null,
            "visibility": null,
            "width": null
          }
        },
        "defb304eb29a4673bcf0d9c639034d06": {
          "model_module": "@jupyter-widgets/base",
          "model_name": "LayoutModel",
          "model_module_version": "1.2.0",
          "state": {
            "_model_module": "@jupyter-widgets/base",
            "_model_module_version": "1.2.0",
            "_model_name": "LayoutModel",
            "_view_count": null,
            "_view_module": "@jupyter-widgets/base",
            "_view_module_version": "1.2.0",
            "_view_name": "LayoutView",
            "align_content": null,
            "align_items": null,
            "align_self": null,
            "border": null,
            "bottom": null,
            "display": null,
            "flex": null,
            "flex_flow": null,
            "grid_area": null,
            "grid_auto_columns": null,
            "grid_auto_flow": null,
            "grid_auto_rows": null,
            "grid_column": null,
            "grid_gap": null,
            "grid_row": null,
            "grid_template_areas": null,
            "grid_template_columns": null,
            "grid_template_rows": null,
            "height": null,
            "justify_content": null,
            "justify_items": null,
            "left": null,
            "margin": null,
            "max_height": null,
            "max_width": null,
            "min_height": null,
            "min_width": null,
            "object_fit": null,
            "object_position": null,
            "order": null,
            "overflow": null,
            "overflow_x": null,
            "overflow_y": null,
            "padding": null,
            "right": null,
            "top": null,
            "visibility": null,
            "width": null
          }
        },
        "cf822d8b824e468bafac19d18c86d836": {
          "model_module": "@jupyter-widgets/controls",
          "model_name": "DescriptionStyleModel",
          "model_module_version": "1.5.0",
          "state": {
            "_model_module": "@jupyter-widgets/controls",
            "_model_module_version": "1.5.0",
            "_model_name": "DescriptionStyleModel",
            "_view_count": null,
            "_view_module": "@jupyter-widgets/base",
            "_view_module_version": "1.2.0",
            "_view_name": "StyleView",
            "description_width": ""
          }
        },
        "63f903e0627342b9acdbb7f97f9d52c7": {
          "model_module": "@jupyter-widgets/base",
          "model_name": "LayoutModel",
          "model_module_version": "1.2.0",
          "state": {
            "_model_module": "@jupyter-widgets/base",
            "_model_module_version": "1.2.0",
            "_model_name": "LayoutModel",
            "_view_count": null,
            "_view_module": "@jupyter-widgets/base",
            "_view_module_version": "1.2.0",
            "_view_name": "LayoutView",
            "align_content": null,
            "align_items": null,
            "align_self": null,
            "border": null,
            "bottom": null,
            "display": null,
            "flex": null,
            "flex_flow": null,
            "grid_area": null,
            "grid_auto_columns": null,
            "grid_auto_flow": null,
            "grid_auto_rows": null,
            "grid_column": null,
            "grid_gap": null,
            "grid_row": null,
            "grid_template_areas": null,
            "grid_template_columns": null,
            "grid_template_rows": null,
            "height": null,
            "justify_content": null,
            "justify_items": null,
            "left": null,
            "margin": null,
            "max_height": null,
            "max_width": null,
            "min_height": null,
            "min_width": null,
            "object_fit": null,
            "object_position": null,
            "order": null,
            "overflow": null,
            "overflow_x": null,
            "overflow_y": null,
            "padding": null,
            "right": null,
            "top": null,
            "visibility": null,
            "width": null
          }
        },
        "d0f0b426e7bf4cf6b3ca284641d0443d": {
          "model_module": "@jupyter-widgets/controls",
          "model_name": "ProgressStyleModel",
          "model_module_version": "1.5.0",
          "state": {
            "_model_module": "@jupyter-widgets/controls",
            "_model_module_version": "1.5.0",
            "_model_name": "ProgressStyleModel",
            "_view_count": null,
            "_view_module": "@jupyter-widgets/base",
            "_view_module_version": "1.2.0",
            "_view_name": "StyleView",
            "bar_color": null,
            "description_width": ""
          }
        },
        "dcb960b69ba44460afedcc3e3eb09c8e": {
          "model_module": "@jupyter-widgets/base",
          "model_name": "LayoutModel",
          "model_module_version": "1.2.0",
          "state": {
            "_model_module": "@jupyter-widgets/base",
            "_model_module_version": "1.2.0",
            "_model_name": "LayoutModel",
            "_view_count": null,
            "_view_module": "@jupyter-widgets/base",
            "_view_module_version": "1.2.0",
            "_view_name": "LayoutView",
            "align_content": null,
            "align_items": null,
            "align_self": null,
            "border": null,
            "bottom": null,
            "display": null,
            "flex": null,
            "flex_flow": null,
            "grid_area": null,
            "grid_auto_columns": null,
            "grid_auto_flow": null,
            "grid_auto_rows": null,
            "grid_column": null,
            "grid_gap": null,
            "grid_row": null,
            "grid_template_areas": null,
            "grid_template_columns": null,
            "grid_template_rows": null,
            "height": null,
            "justify_content": null,
            "justify_items": null,
            "left": null,
            "margin": null,
            "max_height": null,
            "max_width": null,
            "min_height": null,
            "min_width": null,
            "object_fit": null,
            "object_position": null,
            "order": null,
            "overflow": null,
            "overflow_x": null,
            "overflow_y": null,
            "padding": null,
            "right": null,
            "top": null,
            "visibility": null,
            "width": null
          }
        },
        "09ada291c9e24096a4575c0c6fac22a5": {
          "model_module": "@jupyter-widgets/controls",
          "model_name": "DescriptionStyleModel",
          "model_module_version": "1.5.0",
          "state": {
            "_model_module": "@jupyter-widgets/controls",
            "_model_module_version": "1.5.0",
            "_model_name": "DescriptionStyleModel",
            "_view_count": null,
            "_view_module": "@jupyter-widgets/base",
            "_view_module_version": "1.2.0",
            "_view_name": "StyleView",
            "description_width": ""
          }
        },
        "cac3f7417154429d92a9d7a645876c61": {
          "model_module": "@jupyter-widgets/controls",
          "model_name": "HBoxModel",
          "model_module_version": "1.5.0",
          "state": {
            "_dom_classes": [],
            "_model_module": "@jupyter-widgets/controls",
            "_model_module_version": "1.5.0",
            "_model_name": "HBoxModel",
            "_view_count": null,
            "_view_module": "@jupyter-widgets/controls",
            "_view_module_version": "1.5.0",
            "_view_name": "HBoxView",
            "box_style": "",
            "children": [
              "IPY_MODEL_738ad9c9baf845cebd1fb2314e7d7787",
              "IPY_MODEL_50866a93479a4765b9d2c17fcc1b8881",
              "IPY_MODEL_ae9a53e5b4c34d028e0f77afaf70b11e"
            ],
            "layout": "IPY_MODEL_c1bfc08ab4c74c89a9e441491b1f1375"
          }
        },
        "738ad9c9baf845cebd1fb2314e7d7787": {
          "model_module": "@jupyter-widgets/controls",
          "model_name": "HTMLModel",
          "model_module_version": "1.5.0",
          "state": {
            "_dom_classes": [],
            "_model_module": "@jupyter-widgets/controls",
            "_model_module_version": "1.5.0",
            "_model_name": "HTMLModel",
            "_view_count": null,
            "_view_module": "@jupyter-widgets/controls",
            "_view_module_version": "1.5.0",
            "_view_name": "HTMLView",
            "description": "",
            "description_tooltip": null,
            "layout": "IPY_MODEL_15a9db9bd702462d8458e8b7eef25171",
            "placeholder": "​",
            "style": "IPY_MODEL_958803de2a824af699ac6f0092134b9f",
            "value": "Generating for node: Letter: 100%"
          }
        },
        "50866a93479a4765b9d2c17fcc1b8881": {
          "model_module": "@jupyter-widgets/controls",
          "model_name": "FloatProgressModel",
          "model_module_version": "1.5.0",
          "state": {
            "_dom_classes": [],
            "_model_module": "@jupyter-widgets/controls",
            "_model_module_version": "1.5.0",
            "_model_name": "FloatProgressModel",
            "_view_count": null,
            "_view_module": "@jupyter-widgets/controls",
            "_view_module_version": "1.5.0",
            "_view_name": "ProgressView",
            "bar_style": "success",
            "description": "",
            "description_tooltip": null,
            "layout": "IPY_MODEL_48723e32f52a4b089193a7f5f15f2e8e",
            "max": 5,
            "min": 0,
            "orientation": "horizontal",
            "style": "IPY_MODEL_ae45ed5bceb24a118170230228e75f21",
            "value": 5
          }
        },
        "ae9a53e5b4c34d028e0f77afaf70b11e": {
          "model_module": "@jupyter-widgets/controls",
          "model_name": "HTMLModel",
          "model_module_version": "1.5.0",
          "state": {
            "_dom_classes": [],
            "_model_module": "@jupyter-widgets/controls",
            "_model_module_version": "1.5.0",
            "_model_name": "HTMLModel",
            "_view_count": null,
            "_view_module": "@jupyter-widgets/controls",
            "_view_module_version": "1.5.0",
            "_view_name": "HTMLView",
            "description": "",
            "description_tooltip": null,
            "layout": "IPY_MODEL_f88dabc261d24817afeaf25e4737e783",
            "placeholder": "​",
            "style": "IPY_MODEL_8a01fc556eed4737b8285311429bb3cc",
            "value": " 5/5 [00:00&lt;00:00,  5.71it/s]"
          }
        },
        "c1bfc08ab4c74c89a9e441491b1f1375": {
          "model_module": "@jupyter-widgets/base",
          "model_name": "LayoutModel",
          "model_module_version": "1.2.0",
          "state": {
            "_model_module": "@jupyter-widgets/base",
            "_model_module_version": "1.2.0",
            "_model_name": "LayoutModel",
            "_view_count": null,
            "_view_module": "@jupyter-widgets/base",
            "_view_module_version": "1.2.0",
            "_view_name": "LayoutView",
            "align_content": null,
            "align_items": null,
            "align_self": null,
            "border": null,
            "bottom": null,
            "display": null,
            "flex": null,
            "flex_flow": null,
            "grid_area": null,
            "grid_auto_columns": null,
            "grid_auto_flow": null,
            "grid_auto_rows": null,
            "grid_column": null,
            "grid_gap": null,
            "grid_row": null,
            "grid_template_areas": null,
            "grid_template_columns": null,
            "grid_template_rows": null,
            "height": null,
            "justify_content": null,
            "justify_items": null,
            "left": null,
            "margin": null,
            "max_height": null,
            "max_width": null,
            "min_height": null,
            "min_width": null,
            "object_fit": null,
            "object_position": null,
            "order": null,
            "overflow": null,
            "overflow_x": null,
            "overflow_y": null,
            "padding": null,
            "right": null,
            "top": null,
            "visibility": null,
            "width": null
          }
        },
        "15a9db9bd702462d8458e8b7eef25171": {
          "model_module": "@jupyter-widgets/base",
          "model_name": "LayoutModel",
          "model_module_version": "1.2.0",
          "state": {
            "_model_module": "@jupyter-widgets/base",
            "_model_module_version": "1.2.0",
            "_model_name": "LayoutModel",
            "_view_count": null,
            "_view_module": "@jupyter-widgets/base",
            "_view_module_version": "1.2.0",
            "_view_name": "LayoutView",
            "align_content": null,
            "align_items": null,
            "align_self": null,
            "border": null,
            "bottom": null,
            "display": null,
            "flex": null,
            "flex_flow": null,
            "grid_area": null,
            "grid_auto_columns": null,
            "grid_auto_flow": null,
            "grid_auto_rows": null,
            "grid_column": null,
            "grid_gap": null,
            "grid_row": null,
            "grid_template_areas": null,
            "grid_template_columns": null,
            "grid_template_rows": null,
            "height": null,
            "justify_content": null,
            "justify_items": null,
            "left": null,
            "margin": null,
            "max_height": null,
            "max_width": null,
            "min_height": null,
            "min_width": null,
            "object_fit": null,
            "object_position": null,
            "order": null,
            "overflow": null,
            "overflow_x": null,
            "overflow_y": null,
            "padding": null,
            "right": null,
            "top": null,
            "visibility": null,
            "width": null
          }
        },
        "958803de2a824af699ac6f0092134b9f": {
          "model_module": "@jupyter-widgets/controls",
          "model_name": "DescriptionStyleModel",
          "model_module_version": "1.5.0",
          "state": {
            "_model_module": "@jupyter-widgets/controls",
            "_model_module_version": "1.5.0",
            "_model_name": "DescriptionStyleModel",
            "_view_count": null,
            "_view_module": "@jupyter-widgets/base",
            "_view_module_version": "1.2.0",
            "_view_name": "StyleView",
            "description_width": ""
          }
        },
        "48723e32f52a4b089193a7f5f15f2e8e": {
          "model_module": "@jupyter-widgets/base",
          "model_name": "LayoutModel",
          "model_module_version": "1.2.0",
          "state": {
            "_model_module": "@jupyter-widgets/base",
            "_model_module_version": "1.2.0",
            "_model_name": "LayoutModel",
            "_view_count": null,
            "_view_module": "@jupyter-widgets/base",
            "_view_module_version": "1.2.0",
            "_view_name": "LayoutView",
            "align_content": null,
            "align_items": null,
            "align_self": null,
            "border": null,
            "bottom": null,
            "display": null,
            "flex": null,
            "flex_flow": null,
            "grid_area": null,
            "grid_auto_columns": null,
            "grid_auto_flow": null,
            "grid_auto_rows": null,
            "grid_column": null,
            "grid_gap": null,
            "grid_row": null,
            "grid_template_areas": null,
            "grid_template_columns": null,
            "grid_template_rows": null,
            "height": null,
            "justify_content": null,
            "justify_items": null,
            "left": null,
            "margin": null,
            "max_height": null,
            "max_width": null,
            "min_height": null,
            "min_width": null,
            "object_fit": null,
            "object_position": null,
            "order": null,
            "overflow": null,
            "overflow_x": null,
            "overflow_y": null,
            "padding": null,
            "right": null,
            "top": null,
            "visibility": null,
            "width": null
          }
        },
        "ae45ed5bceb24a118170230228e75f21": {
          "model_module": "@jupyter-widgets/controls",
          "model_name": "ProgressStyleModel",
          "model_module_version": "1.5.0",
          "state": {
            "_model_module": "@jupyter-widgets/controls",
            "_model_module_version": "1.5.0",
            "_model_name": "ProgressStyleModel",
            "_view_count": null,
            "_view_module": "@jupyter-widgets/base",
            "_view_module_version": "1.2.0",
            "_view_name": "StyleView",
            "bar_color": null,
            "description_width": ""
          }
        },
        "f88dabc261d24817afeaf25e4737e783": {
          "model_module": "@jupyter-widgets/base",
          "model_name": "LayoutModel",
          "model_module_version": "1.2.0",
          "state": {
            "_model_module": "@jupyter-widgets/base",
            "_model_module_version": "1.2.0",
            "_model_name": "LayoutModel",
            "_view_count": null,
            "_view_module": "@jupyter-widgets/base",
            "_view_module_version": "1.2.0",
            "_view_name": "LayoutView",
            "align_content": null,
            "align_items": null,
            "align_self": null,
            "border": null,
            "bottom": null,
            "display": null,
            "flex": null,
            "flex_flow": null,
            "grid_area": null,
            "grid_auto_columns": null,
            "grid_auto_flow": null,
            "grid_auto_rows": null,
            "grid_column": null,
            "grid_gap": null,
            "grid_row": null,
            "grid_template_areas": null,
            "grid_template_columns": null,
            "grid_template_rows": null,
            "height": null,
            "justify_content": null,
            "justify_items": null,
            "left": null,
            "margin": null,
            "max_height": null,
            "max_width": null,
            "min_height": null,
            "min_width": null,
            "object_fit": null,
            "object_position": null,
            "order": null,
            "overflow": null,
            "overflow_x": null,
            "overflow_y": null,
            "padding": null,
            "right": null,
            "top": null,
            "visibility": null,
            "width": null
          }
        },
        "8a01fc556eed4737b8285311429bb3cc": {
          "model_module": "@jupyter-widgets/controls",
          "model_name": "DescriptionStyleModel",
          "model_module_version": "1.5.0",
          "state": {
            "_model_module": "@jupyter-widgets/controls",
            "_model_module_version": "1.5.0",
            "_model_name": "DescriptionStyleModel",
            "_view_count": null,
            "_view_module": "@jupyter-widgets/base",
            "_view_module_version": "1.2.0",
            "_view_name": "StyleView",
            "description_width": ""
          }
        },
        "1258f81179994376878ea8a81632a960": {
          "model_module": "@jupyter-widgets/controls",
          "model_name": "VBoxModel",
          "model_module_version": "1.5.0",
          "state": {
            "_dom_classes": [
              "widget-interact"
            ],
            "_model_module": "@jupyter-widgets/controls",
            "_model_module_version": "1.5.0",
            "_model_name": "VBoxModel",
            "_view_count": null,
            "_view_module": "@jupyter-widgets/controls",
            "_view_module_version": "1.5.0",
            "_view_name": "VBoxView",
            "box_style": "",
            "children": [
              "IPY_MODEL_ff63c879f00040458c122844f53c3628",
              "IPY_MODEL_cf2e29224d3d4d1f8906b5a2f4b4747b"
            ],
            "layout": "IPY_MODEL_587b319701004cff87d979ed857cc0be"
          }
        },
        "ff63c879f00040458c122844f53c3628": {
          "model_module": "@jupyter-widgets/controls",
          "model_name": "IntSliderModel",
          "model_module_version": "1.5.0",
          "state": {
            "_dom_classes": [],
            "_model_module": "@jupyter-widgets/controls",
            "_model_module_version": "1.5.0",
            "_model_name": "IntSliderModel",
            "_view_count": null,
            "_view_module": "@jupyter-widgets/controls",
            "_view_module_version": "1.5.0",
            "_view_name": "IntSliderView",
            "continuous_update": true,
            "description": "frame",
            "description_tooltip": null,
            "disabled": false,
            "layout": "IPY_MODEL_fed0ffd95aed41ddb7b3da8df3760814",
            "max": 1000,
            "min": 0,
            "orientation": "horizontal",
            "readout": true,
            "readout_format": "d",
            "step": 1,
            "style": "IPY_MODEL_c9d293fe3b9c4ea794dd6aa462eae194",
            "value": 0
          }
        },
        "cf2e29224d3d4d1f8906b5a2f4b4747b": {
          "model_module": "@jupyter-widgets/output",
          "model_name": "OutputModel",
          "model_module_version": "1.0.0",
          "state": {
            "_dom_classes": [],
            "_model_module": "@jupyter-widgets/output",
            "_model_module_version": "1.0.0",
            "_model_name": "OutputModel",
            "_view_count": null,
            "_view_module": "@jupyter-widgets/output",
            "_view_module_version": "1.0.0",
            "_view_name": "OutputView",
            "layout": "IPY_MODEL_532e22f38177402b92df0f6cc244472a",
            "msg_id": "",
            "outputs": [
              {
                "output_type": "display_data",
                "data": {
                  "text/plain": "<PIL.Image.Image image mode=L size=30x30>",
                  "image/png": "iVBORw0KGgoAAAANSUhEUgAAAB4AAAAeCAAAAAAeW/F+AAAAGElEQVR4nGP8z4APMOGVHZUelR6VprE0AA45ATuPAGUNAAAAAElFTkSuQmCC\n"
                },
                "metadata": {}
              }
            ]
          }
        },
        "587b319701004cff87d979ed857cc0be": {
          "model_module": "@jupyter-widgets/base",
          "model_name": "LayoutModel",
          "model_module_version": "1.2.0",
          "state": {
            "_model_module": "@jupyter-widgets/base",
            "_model_module_version": "1.2.0",
            "_model_name": "LayoutModel",
            "_view_count": null,
            "_view_module": "@jupyter-widgets/base",
            "_view_module_version": "1.2.0",
            "_view_name": "LayoutView",
            "align_content": null,
            "align_items": null,
            "align_self": null,
            "border": null,
            "bottom": null,
            "display": null,
            "flex": null,
            "flex_flow": null,
            "grid_area": null,
            "grid_auto_columns": null,
            "grid_auto_flow": null,
            "grid_auto_rows": null,
            "grid_column": null,
            "grid_gap": null,
            "grid_row": null,
            "grid_template_areas": null,
            "grid_template_columns": null,
            "grid_template_rows": null,
            "height": null,
            "justify_content": null,
            "justify_items": null,
            "left": null,
            "margin": null,
            "max_height": null,
            "max_width": null,
            "min_height": null,
            "min_width": null,
            "object_fit": null,
            "object_position": null,
            "order": null,
            "overflow": null,
            "overflow_x": null,
            "overflow_y": null,
            "padding": null,
            "right": null,
            "top": null,
            "visibility": null,
            "width": null
          }
        },
        "fed0ffd95aed41ddb7b3da8df3760814": {
          "model_module": "@jupyter-widgets/base",
          "model_name": "LayoutModel",
          "model_module_version": "1.2.0",
          "state": {
            "_model_module": "@jupyter-widgets/base",
            "_model_module_version": "1.2.0",
            "_model_name": "LayoutModel",
            "_view_count": null,
            "_view_module": "@jupyter-widgets/base",
            "_view_module_version": "1.2.0",
            "_view_name": "LayoutView",
            "align_content": null,
            "align_items": null,
            "align_self": null,
            "border": null,
            "bottom": null,
            "display": null,
            "flex": null,
            "flex_flow": null,
            "grid_area": null,
            "grid_auto_columns": null,
            "grid_auto_flow": null,
            "grid_auto_rows": null,
            "grid_column": null,
            "grid_gap": null,
            "grid_row": null,
            "grid_template_areas": null,
            "grid_template_columns": null,
            "grid_template_rows": null,
            "height": null,
            "justify_content": null,
            "justify_items": null,
            "left": null,
            "margin": null,
            "max_height": null,
            "max_width": null,
            "min_height": null,
            "min_width": null,
            "object_fit": null,
            "object_position": null,
            "order": null,
            "overflow": null,
            "overflow_x": null,
            "overflow_y": null,
            "padding": null,
            "right": null,
            "top": null,
            "visibility": null,
            "width": null
          }
        },
        "c9d293fe3b9c4ea794dd6aa462eae194": {
          "model_module": "@jupyter-widgets/controls",
          "model_name": "SliderStyleModel",
          "model_module_version": "1.5.0",
          "state": {
            "_model_module": "@jupyter-widgets/controls",
            "_model_module_version": "1.5.0",
            "_model_name": "SliderStyleModel",
            "_view_count": null,
            "_view_module": "@jupyter-widgets/base",
            "_view_module_version": "1.2.0",
            "_view_name": "StyleView",
            "description_width": "",
            "handle_color": null
          }
        },
        "532e22f38177402b92df0f6cc244472a": {
          "model_module": "@jupyter-widgets/base",
          "model_name": "LayoutModel",
          "model_module_version": "1.2.0",
          "state": {
            "_model_module": "@jupyter-widgets/base",
            "_model_module_version": "1.2.0",
            "_model_name": "LayoutModel",
            "_view_count": null,
            "_view_module": "@jupyter-widgets/base",
            "_view_module_version": "1.2.0",
            "_view_name": "LayoutView",
            "align_content": null,
            "align_items": null,
            "align_self": null,
            "border": null,
            "bottom": null,
            "display": null,
            "flex": null,
            "flex_flow": null,
            "grid_area": null,
            "grid_auto_columns": null,
            "grid_auto_flow": null,
            "grid_auto_rows": null,
            "grid_column": null,
            "grid_gap": null,
            "grid_row": null,
            "grid_template_areas": null,
            "grid_template_columns": null,
            "grid_template_rows": null,
            "height": null,
            "justify_content": null,
            "justify_items": null,
            "left": null,
            "margin": null,
            "max_height": null,
            "max_width": null,
            "min_height": null,
            "min_width": null,
            "object_fit": null,
            "object_position": null,
            "order": null,
            "overflow": null,
            "overflow_x": null,
            "overflow_y": null,
            "padding": null,
            "right": null,
            "top": null,
            "visibility": null,
            "width": null
          }
        }
      }
    }
  },
  "cells": [
    {
      "cell_type": "markdown",
      "source": [
        "# COMP64101 - Probabalistic Graphical Networks Lab\n",
        "\n",
        "## Goals of this weeks lab:\n",
        "\n",
        "\n",
        "1.   Understand when to use Probabalistic Graphical Networks\n",
        "2.   Learn about Directed PGM's\n",
        "3.   Learn about Undirected PGM's\n",
        "\n",
        "### <font color='289C4E'>Table of contents<font><a class='anchor' id='top'></a>\n",
        "- [1. Introduction to PGM's](#1)\n",
        "- [2. Directed PGM - Bayes Net](#2)\n",
        "- [3. Undirected PGM - Markov Net](#3)\n",
        "- [4. Additional Exercises](#4)\n",
        "\n",
        "\n"
      ],
      "metadata": {
        "id": "iuTvRvGl5cB9"
      }
    },
    {
      "cell_type": "code",
      "source": [
        "# Set up the environment for the exercises in this chapter\n",
        "!python --version\n",
        "\n",
        "!pip install -qq git+https://github.com/probml/probml-utils.git\n",
        "!pip install -qq pgmpy\n",
        "\n",
        "# Notebook wide packages\n",
        "import numpy as np\n",
        "import pandas as pd\n",
        "import pgmpy"
      ],
      "metadata": {
        "id": "rdGJlun-HZVz",
        "colab": {
          "base_uri": "https://localhost:8080/",
          "height": 190
        },
        "outputId": "3c8a6e46-9b21-4823-a3b3-76adcc7cac73"
      },
      "execution_count": null,
      "outputs": [
        {
          "output_type": "stream",
          "name": "stdout",
          "text": [
            "Python 3.10.12\n",
            "  Installing build dependencies ... \u001b[?25l\u001b[?25hdone\n",
            "  Getting requirements to build wheel ... \u001b[?25l\u001b[?25hdone\n",
            "  Preparing metadata (pyproject.toml) ... \u001b[?25l\u001b[?25hdone\n"
          ]
        },
        {
          "output_type": "error",
          "ename": "RuntimeError",
          "evalue": "module was compiled against NumPy C-API version 0x10 (NumPy 1.23) but the running NumPy has C-API version 0xf. Check the section C-API incompatibility at the Troubleshooting ImportError section at https://numpy.org/devdocs/user/troubleshooting-importerror.html#c-api-incompatibility for indications on how to solve this problem.",
          "traceback": [
            "\u001b[0;31m---------------------------------------------------------------------------\u001b[0m",
            "\u001b[0;31mRuntimeError\u001b[0m                              Traceback (most recent call last)",
            "\u001b[0;31mRuntimeError\u001b[0m: module was compiled against NumPy C-API version 0x10 (NumPy 1.23) but the running NumPy has C-API version 0xf. Check the section C-API incompatibility at the Troubleshooting ImportError section at https://numpy.org/devdocs/user/troubleshooting-importerror.html#c-api-incompatibility for indications on how to solve this problem."
          ]
        }
      ]
    },
    {
      "cell_type": "markdown",
      "source": [
        "# 1. An Introduction to PGM's <a class=\"anchor\" id=\"1\"></a>"
      ],
      "metadata": {
        "id": "ZPrmP3gP70KG"
      }
    },
    {
      "cell_type": "markdown",
      "source": [
        "Probabilistic Graphical Models (PGMs) are a modelling technique where random variables are treated as nodes and statistical dependencies as edges. In otherwords, PGM's offer a visual (graphical) way to interpret complex probabilistic systems. Graphs are an intuitive way for us to realise the relationships between many different variables. They can also be considered as mathematical tools which allow us to reason about uncertainty and make predictions.\n",
        "\n",
        "<center>\n",
        "<img src=\"https://danmackinlay.name/images/Graphical_Models_David_Barber.gif\" width=700>\n",
        "\n",
        "Image Source: https://danmackinlay.name/notebook/graphical_models\n",
        "</center>\n",
        "\n",
        "\n",
        "### Why Use PGMs?\n",
        "\n",
        "The key benefits of PGMs include:\n",
        "\n",
        "- **Structured Representation**: PGMs give us a clear way to represent complex relationships between variables. This is because we can clearly state how each variable relates to each other variable.\n",
        "- **Modularity**: The graphical structure allows for modular design, making it easier to update or extend models. If we find a new variable, we can easily connect it into the graph.\n",
        "- **Inference**: PGMs enable us to calculate probabilities, such as the likelihood of an event given observed evidence. In some cases, the probabilities will be intractable. However, we can still approximate.\n",
        "- **Learning**: PGM's facilitate learning from data. This allows us to estimate unknown parameters and find patterns in the underlying structures.\n",
        "\n",
        "### Types of Probabilistic Graphical Models\n",
        "\n",
        "PGMs can be broadly categorized into two types based on the nature of the dependencies between variables:\n",
        "\n",
        "1. **Directed Graphical Models (Bayesian Networks)**: In these models, the edges between nodes represent conditional dependencies, and the graph is a Directed Acyclic Graph (DAG). Each node corresponds to a random variable, and the directed edges imply a conditional dependence structure, often represented as $P(X_i | \\text{Parents}(X_i))$. Example applications include:\n",
        "  - Medical diagnosis\n",
        "  - causal inference\n",
        "  - sequential decision-making.\n",
        "\n",
        "<center>\n",
        "<img src=\"https://miro.medium.com/v2/resize:fit:720/format:webp/1*mQ_XiRNSEuCTsiqrKzAzXg.gif\" width=700>\n",
        "\n",
        "Image Source: https://miro.medium.com/v2/resize:fit:720/format:webp/1*mQ_XiRNSEuCTsiqrKzAzXg.gif\n",
        "</center>\n",
        "   \n",
        "2. **Undirected Graphical Models (Markov Random Fields)**: Unlike directed models, undirected graphical models use undirected edges to represent dependencies between random variables. These models capture the notion of Markov properties and are often used when the direction of dependencies is not explicitly known or when the relationships are symmetric. Example applications include:\n",
        "  - Statistical physics\n",
        "  - Image processing\n",
        "  - Finance\n",
        "  - social network analysis.\n",
        "\n",
        "  We will see an example of image processing in Section 3 of this notebook.\n",
        "\n",
        "<center>\n",
        "<img src=\"https://www.researchgate.net/publication/237134887/figure/fig2/AS:651126194057216@1532251990018/An-acyclic-undirected-graphical-model.png\" width=700>\n",
        "\n",
        "Image Source: https://www.researchgate.net/publication/237134887_Statistical_Inference_in_Graphical_Models\n",
        "</center>\n",
        "\n",
        "Both directed and undirected PGMs have their strengths and are used in different applications based on the nature of the problem. We will see examples of both in the upcoming chapters.\n",
        "\n",
        "## Graph Theory and Probabilistic Models\n",
        "\n",
        "At the core of PGMs lies the interplay between graph theory and probability theory. The graph structure encodes the relationships between random variables, while probability theory quantifies the uncertainty associated with these variables.\n",
        "\n",
        "- **Nodes (Vertices)**: Represent random variables in the model.\n",
        "- **Edges (Links)**: Represent probabilistic dependencies between these variables.\n",
        "  \n",
        "  - In directed models, an edge from node \\(A\\) to node \\(B\\) implies \\(A\\) has a direct influence on \\(B\\).\n",
        "  - In undirected models, an edge between nodes \\(A\\) and \\(B\\) implies a mutual dependence between these variables.\n",
        "\n",
        "\n",
        "In the next chapter, we will begin to understand directed PGM's.\n",
        "\n",
        "<center>\n",
        "<img src=\"https://mathinsight.org/media/image/image/small_undirected_network_labeled.png\" width=500>\n",
        "\n",
        "Image Source: https://mathinsight.org/network_introduction\n",
        "</center>\n",
        "\n"
      ],
      "metadata": {
        "id": "BRKElaXkC1tc"
      }
    },
    {
      "cell_type": "markdown",
      "source": [
        "# 2. Directed PGM - Bayes Net <a class=\"anchor\" id=\"2\"></a>"
      ],
      "metadata": {
        "id": "sE4jaWsX1eMz"
      }
    },
    {
      "cell_type": "code",
      "source": [
        "import probml_utils.pgmpy_utils as pgm\n",
        "# from causalgraphicalmodels import CausalGraphicalModel\n",
        "from pgmpy.models import BayesianNetwork\n",
        "from pgmpy.factors.discrete import TabularCPD\n",
        "import networkx as nx\n",
        "import matplotlib.pyplot as plt"
      ],
      "metadata": {
        "id": "HDlcP_luHkHu"
      },
      "execution_count": null,
      "outputs": []
    },
    {
      "cell_type": "markdown",
      "source": [
        "The material in this part is based on:\n",
        "1. https://github.com/probml/pyprobml/blob/master/notebooks/book2/04/student_pgm.ipynb\n",
        "2. https://github.com/pgmpy/pgmpy/blob/dev/examples/Learning%20Parameters%20in%20Discrete%20Bayesian%20Networks.ipynb"
      ],
      "metadata": {
        "id": "_gBk4J7G3sdx"
      }
    },
    {
      "cell_type": "markdown",
      "source": [
        "## Introduction to Directed PGM's\n",
        "\n",
        "Directed Probabilistic Graphical Models, commonly known as **Bayesian Networks**, are a type of PGM where the relationships between variables are represented using a Directed Acyclic Graph (DAG). In these models, each node corresponds to a random variable, and directed edges between nodes represent conditional dependencies. Bayesian Networks are particularly powerful for modeling causal relationships, where the direction of the edges often reflects the direction of causality.\n",
        "\n",
        "### Key Properties of Directed PGMs\n",
        "\n",
        "1. **Directed Acyclic Graph (DAG)**: This means that while edges are form a pathway from one random variable to another, the graph cannot contain cycles. In other words, we cannot start from one node, follow the directed edges, and return to the same node.\n",
        "\n",
        "2. **Conditional Independence**: If a node \\(X\\) has no direct edge to another node \\(Y\\), it implies that \\(X\\) and \\(Y\\) are conditionally independent given their parents. This property significantly simplifies the computation of joint probabilities.\n",
        "\n",
        "3. **Local Probability Distributions**: Each node in a Bayesian Network is associated with a conditional probability distribution that describes the probability of the variable given its parents in the graph. This local distribution encapsulates how the node's value depends on its parent nodes.\n",
        "\n",
        "### Student network model\n",
        "\n",
        "To understand how Bayesian Networks work in practice, let's consider a simple  example, known as the **Student Network**. Imagine you're trying to model the factors that influence a student's academic performance. Several variables come into play, such as the student's intelligence, the difficulty of the course, whether they studied for the exam, and the grades they receive. These factors are not independent of each other; for example, a more intelligent student might find it easier to achieve good grades, but this could also depend on how difficult the course is and how much effort they put into studying.\n",
        "\n",
        "Lets begin by exploring the structure of the data. We begin by defining the structure as a Bayesian network. This is in the form (parent, child):"
      ],
      "metadata": {
        "id": "tUc4T05nIBQy"
      }
    },
    {
      "cell_type": "code",
      "source": [
        "# Defining the model structure. We can define the network by just passing a list of edges.\n",
        "model = BayesianNetwork([('Diff', 'Grade'), ('Intel', 'Grade'), ('Grade', 'Letter'), ('Intel', 'SAT')])"
      ],
      "metadata": {
        "id": "1flMsnDSZ1lz"
      },
      "execution_count": null,
      "outputs": []
    },
    {
      "cell_type": "markdown",
      "source": [
        "In order to visualise this, we define it as a networkx graph:"
      ],
      "metadata": {
        "id": "mpqx8-SutECW"
      }
    },
    {
      "cell_type": "code",
      "source": [
        "# Define a graph structure\n",
        "edges = [('Diff', 'Grade'), ('Intel', 'Grade'), ('Grade', 'Letter'), ('Intel', 'SAT')]\n",
        "Graph = nx.DiGraph()\n",
        "Graph.add_edges_from(edges)\n",
        "pos = nx.spring_layout(Graph)\n",
        "nx.draw(Graph, pos, with_labels=True, node_size=3000, node_color='lightblue', font_size=10, font_weight='bold', arrowsize=20)\n",
        "plt.show()"
      ],
      "metadata": {
        "colab": {
          "base_uri": "https://localhost:8080/",
          "height": 516
        },
        "id": "lHBPXjqQtJJL",
        "outputId": "028d182b-8484-42a5-9b50-ea86444c717a"
      },
      "execution_count": null,
      "outputs": [
        {
          "output_type": "display_data",
          "data": {
            "text/plain": [
              "<Figure size 640x480 with 1 Axes>"
            ],
            "image/png": "[encoded data removed]"
          },
          "metadata": {}
        }
      ]
    },
    {
      "cell_type": "markdown",
      "source": [
        "We can now build upon the Bayesian network structure by adding in conditional probability distirbutions. In a Bayesian Network, each node (random variable) has an associated CPD that defines the probability of that node given its parents in the graph. If a node has no parents, its CPD is simply its **prior** probability distribution.\n",
        "\n",
        "For a node $X$ with parents $Y_1, Y_2, \\cdots, Y_k$, the CPD specifies $ P(X | Y_1, Y_2, ⋯ Y_k)$. In python, we define these using the state names of the variables. First we begin with Difficulty and Inteligence, since these are based only on their priors."
      ],
      "metadata": {
        "id": "25B2YK3OvNra"
      }
    },
    {
      "cell_type": "code",
      "source": [
        "# TabularCPD(variable=*variable_name*, variable_card=*Number of possible outcomes*, values=*probabilities*, state_names=*The possible states of the random variable* )\n",
        "cpd_d_sn = TabularCPD(variable=\"Diff\", variable_card=2, values=[[0.6], [0.4]], state_names={\"Diff\": [\"Easy\", \"Hard\"]})\n",
        "cpd_i_sn = TabularCPD(variable=\"Intel\", variable_card=2, values=[[0.7], [0.3]], state_names={\"Intel\": [\"Low\", \"High\"]})"
      ],
      "metadata": {
        "id": "wuHcUXW7wyow"
      },
      "execution_count": null,
      "outputs": []
    },
    {
      "cell_type": "markdown",
      "source": [
        "The probability of a student having low intelligence is therefore 0.7. Similarly, the probability of a hard exam is 0.4.\n",
        "\n",
        "Next, we define the child nodes. To do this, we state the parent nodes under evidence as well as the conditional probabilities:"
      ],
      "metadata": {
        "id": "s6YJfVJx0YAr"
      }
    },
    {
      "cell_type": "code",
      "source": [
        "# CPDs can be defined using the state names of the variables. If the state names are not provided pgmpy will automatically assign names as: 0, 1, 2, ....\n",
        "# TabularCPD(variable=*variable_name*, variable_card=*Number of possible outcomes*, values=*probabilities* evidence=*parent nodes*, evidence_card=*number of outcomes for parents*, state_names=*The possible states of the random variable*)\n",
        "\n",
        "cpd_l_sn = TabularCPD(\n",
        "    variable=\"Letter\",\n",
        "    variable_card=2,\n",
        "    values=[[0.1, 0.4, 0.99],  # P(Letter = Bad | Grade)\n",
        "            [0.9, 0.6, 0.01]], # P(Letter = Good| Grade)\n",
        "    evidence=[\"Grade\"],\n",
        "    evidence_card=[3],\n",
        "    state_names={\"Letter\": [\"Bad\", \"Good\"], \"Grade\": [\"A\", \"B\", \"C\"]},\n",
        ")\n",
        "\n",
        "cpd_s_sn = TabularCPD(\n",
        "    variable=\"SAT\",\n",
        "    variable_card=2,\n",
        "    values=[[0.95, 0.2], # P(SAT = Bad | Intel)\n",
        "            [0.05, 0.8]],# P(SAT = Good| Intel)\n",
        "    evidence=[\"Intel\"],\n",
        "    evidence_card=[2],\n",
        "    state_names={\"SAT\": [\"Bad\", \"Good\"], \"Intel\": [\"Low\", \"High\"]},\n",
        ")\n",
        "cpd_g_sn = TabularCPD(\n",
        "    variable=\"Grade\",\n",
        "    variable_card=3,\n",
        "    values=[[0.3, 0.05, 0.9, 0.5],  # P(Grade = A | Intel, Diff)\n",
        "            [0.4, 0.25, 0.08, 0.3], # P(Grade = B | Intel, Diff)\n",
        "            [0.3, 0.7, 0.02, 0.2]], # P(Grade = C | Intel, Diff)\n",
        "    evidence=[\"Intel\", \"Diff\"],\n",
        "    evidence_card=[2, 2],\n",
        "    state_names={\"Grade\": [\"A\", \"B\", \"C\"], \"Intel\": [\"Low\", \"High\"], \"Diff\": [\"Easy\", \"Hard\"]},\n",
        ")\n",
        "\n"
      ],
      "metadata": {
        "id": "U0tGF83bazZu"
      },
      "execution_count": null,
      "outputs": []
    },
    {
      "cell_type": "markdown",
      "source": [
        "Above, we defined 2 dependencies. First, we defined the CPD's of the letter variable. This has variable_card=2 i.e. 2 outcomes which are defined as [\"Bad\", \"Good\"]. Furthermore, it has one parent: Grade (which can be seen in the evidence field) which can take 3 values (evidence_card=[3]) with labels \"Grade\": [\"A\", \"B\", \"C\"].\n",
        "\n",
        "The values field contains two separate lists. Each of these lists corresponds to one of the outcomes i.e. Bad or Good. the probabilities [0.1, 0.4, 0.99] correspond to [P(Bad letter | Grade A), P(Bad letter | Grade B), P(Bad letter | Grade C)], while [0.9, 0.6, 0.01] corresponds to [P(Good letter | Grade A), ...].\n",
        "\n",
        "Next, we associate the CPD's with the network as follows:"
      ],
      "metadata": {
        "id": "HFFLXago19wU"
      }
    },
    {
      "cell_type": "code",
      "source": [
        "# Associating the CPDs with the network\n",
        "model.add_cpds(cpd_d_sn, cpd_i_sn, cpd_g_sn, cpd_l_sn, cpd_s_sn)"
      ],
      "metadata": {
        "id": "T2op3h-r17xM"
      },
      "execution_count": null,
      "outputs": []
    },
    {
      "cell_type": "code",
      "source": [
        "# Printing a CPD with it's state names defined.\n",
        "print(model.get_cpds(\"Grade\"))"
      ],
      "metadata": {
        "id": "_ipoqhLLbHE7",
        "colab": {
          "base_uri": "https://localhost:8080/"
        },
        "outputId": "49617e15-326e-4f47-c27a-ba48f6d3cbba"
      },
      "execution_count": null,
      "outputs": [
        {
          "output_type": "stream",
          "name": "stdout",
          "text": [
            "+----------+------------+------------+-------------+-------------+\n",
            "| Intel    | Intel(Low) | Intel(Low) | Intel(High) | Intel(High) |\n",
            "+----------+------------+------------+-------------+-------------+\n",
            "| Diff     | Diff(Easy) | Diff(Hard) | Diff(Easy)  | Diff(Hard)  |\n",
            "+----------+------------+------------+-------------+-------------+\n",
            "| Grade(A) | 0.3        | 0.05       | 0.9         | 0.5         |\n",
            "+----------+------------+------------+-------------+-------------+\n",
            "| Grade(B) | 0.4        | 0.25       | 0.08        | 0.3         |\n",
            "+----------+------------+------------+-------------+-------------+\n",
            "| Grade(C) | 0.3        | 0.7        | 0.02        | 0.2         |\n",
            "+----------+------------+------------+-------------+-------------+\n"
          ]
        }
      ]
    },
    {
      "cell_type": "code",
      "source": [
        "for cpd in model.get_cpds():\n",
        "    print(cpd)"
      ],
      "metadata": {
        "id": "lsAEeOCXbNXR",
        "colab": {
          "base_uri": "https://localhost:8080/"
        },
        "outputId": "556a1a37-a645-4ae1-d6f3-e4965d2a1d37"
      },
      "execution_count": null,
      "outputs": [
        {
          "output_type": "stream",
          "name": "stdout",
          "text": [
            "+------------+-----+\n",
            "| Diff(Easy) | 0.6 |\n",
            "+------------+-----+\n",
            "| Diff(Hard) | 0.4 |\n",
            "+------------+-----+\n",
            "+-------------+-----+\n",
            "| Intel(Low)  | 0.7 |\n",
            "+-------------+-----+\n",
            "| Intel(High) | 0.3 |\n",
            "+-------------+-----+\n",
            "+----------+------------+------------+-------------+-------------+\n",
            "| Intel    | Intel(Low) | Intel(Low) | Intel(High) | Intel(High) |\n",
            "+----------+------------+------------+-------------+-------------+\n",
            "| Diff     | Diff(Easy) | Diff(Hard) | Diff(Easy)  | Diff(Hard)  |\n",
            "+----------+------------+------------+-------------+-------------+\n",
            "| Grade(A) | 0.3        | 0.05       | 0.9         | 0.5         |\n",
            "+----------+------------+------------+-------------+-------------+\n",
            "| Grade(B) | 0.4        | 0.25       | 0.08        | 0.3         |\n",
            "+----------+------------+------------+-------------+-------------+\n",
            "| Grade(C) | 0.3        | 0.7        | 0.02        | 0.2         |\n",
            "+----------+------------+------------+-------------+-------------+\n",
            "+--------------+----------+----------+----------+\n",
            "| Grade        | Grade(A) | Grade(B) | Grade(C) |\n",
            "+--------------+----------+----------+----------+\n",
            "| Letter(Bad)  | 0.1      | 0.4      | 0.99     |\n",
            "+--------------+----------+----------+----------+\n",
            "| Letter(Good) | 0.9      | 0.6      | 0.01     |\n",
            "+--------------+----------+----------+----------+\n",
            "+-----------+------------+-------------+\n",
            "| Intel     | Intel(Low) | Intel(High) |\n",
            "+-----------+------------+-------------+\n",
            "| SAT(Bad)  | 0.95       | 0.2         |\n",
            "+-----------+------------+-------------+\n",
            "| SAT(Good) | 0.05       | 0.8         |\n",
            "+-----------+------------+-------------+\n"
          ]
        }
      ]
    },
    {
      "cell_type": "markdown",
      "source": [
        "To view this as a graph structure, we can also use the pgm.visualize_model function:"
      ],
      "metadata": {
        "id": "Jb2Vknip600k"
      }
    },
    {
      "cell_type": "code",
      "source": [
        "dot = pgm.visualize_model(model)\n",
        "display(dot)"
      ],
      "metadata": {
        "id": "XGseoeA9bSxk",
        "colab": {
          "base_uri": "https://localhost:8080/",
          "height": 802
        },
        "outputId": "223a5085-18ec-4552-a996-7144fa1dacfe"
      },
      "execution_count": null,
      "outputs": [
        {
          "output_type": "display_data",
          "data": {
            "image/svg+xml": "<?xml version=\"1.0\" encoding=\"UTF-8\" standalone=\"no\"?>\n<!DOCTYPE svg PUBLIC \"-//W3C//DTD SVG 1.1//EN\"\n \"http://www.w3.org/Graphics/SVG/1.1/DTD/svg11.dtd\">\n<!-- Generated by graphviz version 2.43.0 (0)\n -->\n<!-- Title: model_ Pages: 1 -->\n<svg width=\"478pt\" height=\"586pt\"\n viewBox=\"0.00 0.00 477.57 586.29\" xmlns=\"http://www.w3.org/2000/svg\" xmlns:xlink=\"http://www.w3.org/1999/xlink\">\n<g id=\"graph0\" class=\"graph\" transform=\"scale(1 1) rotate(0) translate(4 582.29)\">\n<title>model_</title>\n<polygon fill=\"white\" stroke=\"transparent\" points=\"-4,4 -4,-582.29 473.57,-582.29 473.57,4 -4,4\"/>\n<!-- Diff -->\n<g id=\"node1\" class=\"node\">\n<title>Diff</title>\n<ellipse fill=\"none\" stroke=\"black\" cx=\"135.06\" cy=\"-521.01\" rx=\"64.19\" ry=\"57.05\"/>\n<polygon fill=\"none\" stroke=\"black\" points=\"101.06,-533.01 101.06,-554.01 170.06,-554.01 170.06,-533.01 101.06,-533.01\"/>\n<text text-anchor=\"start\" x=\"120.06\" y=\"-539.81\" font-family=\"Times,serif\" font-size=\"14.00\"> Diff </text>\n<polygon fill=\"none\" stroke=\"black\" points=\"101.06,-510.01 101.06,-531.01 134.06,-531.01 134.06,-510.01 101.06,-510.01\"/>\n<text text-anchor=\"start\" x=\"104.06\" y=\"-516.81\" font-family=\"Times,serif\" font-size=\"14.00\">Easy</text>\n<polygon fill=\"none\" stroke=\"black\" points=\"136.06,-510.01 136.06,-531.01 170.06,-531.01 170.06,-510.01 136.06,-510.01\"/>\n<text text-anchor=\"start\" x=\"139.06\" y=\"-516.81\" font-family=\"Times,serif\" font-size=\"14.00\">Hard</text>\n<polygon fill=\"none\" stroke=\"black\" points=\"101.06,-487.01 101.06,-508.01 134.06,-508.01 134.06,-487.01 101.06,-487.01\"/>\n<text text-anchor=\"start\" x=\"105.06\" y=\"-493.81\" font-family=\"Times,serif\" font-size=\"14.00\">0.60</text>\n<polygon fill=\"none\" stroke=\"black\" points=\"136.06,-487.01 136.06,-508.01 170.06,-508.01 170.06,-487.01 136.06,-487.01\"/>\n<text text-anchor=\"start\" x=\"140.56\" y=\"-493.81\" font-family=\"Times,serif\" font-size=\"14.00\">0.40</text>\n<polygon fill=\"none\" stroke=\"black\" points=\"97.56,-484.51 97.56,-557.51 172.56,-557.51 172.56,-484.51 97.56,-484.51\"/>\n</g>\n<!-- Grade -->\n<g id=\"node3\" class=\"node\">\n<title>Grade</title>\n<ellipse fill=\"none\" stroke=\"black\" cx=\"135.06\" cy=\"-321.67\" rx=\"135.11\" ry=\"106.13\"/>\n<polygon fill=\"none\" stroke=\"black\" points=\"51.06,-368.67 51.06,-389.67 220.06,-389.67 220.06,-368.67 51.06,-368.67\"/>\n<text text-anchor=\"start\" x=\"115.06\" y=\"-375.47\" font-family=\"Times,serif\" font-size=\"14.00\"> Grade </text>\n<polygon fill=\"none\" stroke=\"black\" points=\"51.06,-345.67 51.06,-366.67 119.06,-366.67 119.06,-345.67 51.06,-345.67\"/>\n<text text-anchor=\"start\" x=\"83.06\" y=\"-352.47\" font-family=\"Times,serif\" font-size=\"14.00\"> </text>\n<polygon fill=\"none\" stroke=\"black\" points=\"121.06,-345.67 121.06,-366.67 152.06,-366.67 152.06,-345.67 121.06,-345.67\"/>\n<text text-anchor=\"start\" x=\"131.56\" y=\"-352.47\" font-family=\"Times,serif\" font-size=\"14.00\">A</text>\n<polygon fill=\"none\" stroke=\"black\" points=\"154.06,-345.67 154.06,-366.67 185.06,-366.67 185.06,-345.67 154.06,-345.67\"/>\n<text text-anchor=\"start\" x=\"164.56\" y=\"-352.47\" font-family=\"Times,serif\" font-size=\"14.00\">B</text>\n<polygon fill=\"none\" stroke=\"black\" points=\"187.06,-345.67 187.06,-366.67 218.06,-366.67 218.06,-345.67 187.06,-345.67\"/>\n<text text-anchor=\"start\" x=\"197.56\" y=\"-352.47\" font-family=\"Times,serif\" font-size=\"14.00\">C</text>\n<polygon fill=\"none\" stroke=\"black\" points=\"51.06,-322.67 51.06,-343.67 119.06,-343.67 119.06,-322.67 51.06,-322.67\"/>\n<text text-anchor=\"start\" x=\"56.06\" y=\"-329.47\" font-family=\"Times,serif\" font-size=\"14.00\">Low, Easy</text>\n<polygon fill=\"none\" stroke=\"black\" points=\"121.06,-322.67 121.06,-343.67 152.06,-343.67 152.06,-322.67 121.06,-322.67\"/>\n<text text-anchor=\"start\" x=\"124.06\" y=\"-329.47\" font-family=\"Times,serif\" font-size=\"14.00\">0.30</text>\n<polygon fill=\"none\" stroke=\"black\" points=\"154.06,-322.67 154.06,-343.67 185.06,-343.67 185.06,-322.67 154.06,-322.67\"/>\n<text text-anchor=\"start\" x=\"157.06\" y=\"-329.47\" font-family=\"Times,serif\" font-size=\"14.00\">0.40</text>\n<polygon fill=\"none\" stroke=\"black\" points=\"187.06,-322.67 187.06,-343.67 218.06,-343.67 218.06,-322.67 187.06,-322.67\"/>\n<text text-anchor=\"start\" x=\"190.06\" y=\"-329.47\" font-family=\"Times,serif\" font-size=\"14.00\">0.30</text>\n<polygon fill=\"none\" stroke=\"black\" points=\"51.06,-299.67 51.06,-320.67 119.06,-320.67 119.06,-299.67 51.06,-299.67\"/>\n<text text-anchor=\"start\" x=\"55.56\" y=\"-306.47\" font-family=\"Times,serif\" font-size=\"14.00\">Low, Hard</text>\n<polygon fill=\"none\" stroke=\"black\" points=\"121.06,-299.67 121.06,-320.67 152.06,-320.67 152.06,-299.67 121.06,-299.67\"/>\n<text text-anchor=\"start\" x=\"124.06\" y=\"-306.47\" font-family=\"Times,serif\" font-size=\"14.00\">0.05</text>\n<polygon fill=\"none\" stroke=\"black\" points=\"154.06,-299.67 154.06,-320.67 185.06,-320.67 185.06,-299.67 154.06,-299.67\"/>\n<text text-anchor=\"start\" x=\"157.06\" y=\"-306.47\" font-family=\"Times,serif\" font-size=\"14.00\">0.25</text>\n<polygon fill=\"none\" stroke=\"black\" points=\"187.06,-299.67 187.06,-320.67 218.06,-320.67 218.06,-299.67 187.06,-299.67\"/>\n<text text-anchor=\"start\" x=\"190.06\" y=\"-306.47\" font-family=\"Times,serif\" font-size=\"14.00\">0.70</text>\n<polygon fill=\"none\" stroke=\"black\" points=\"51.06,-276.67 51.06,-297.67 119.06,-297.67 119.06,-276.67 51.06,-276.67\"/>\n<text text-anchor=\"start\" x=\"54.56\" y=\"-283.47\" font-family=\"Times,serif\" font-size=\"14.00\">High, Easy</text>\n<polygon fill=\"none\" stroke=\"black\" points=\"121.06,-276.67 121.06,-297.67 152.06,-297.67 152.06,-276.67 121.06,-276.67\"/>\n<text text-anchor=\"start\" x=\"124.06\" y=\"-283.47\" font-family=\"Times,serif\" font-size=\"14.00\">0.90</text>\n<polygon fill=\"none\" stroke=\"black\" points=\"154.06,-276.67 154.06,-297.67 185.06,-297.67 185.06,-276.67 154.06,-276.67\"/>\n<text text-anchor=\"start\" x=\"157.06\" y=\"-283.47\" font-family=\"Times,serif\" font-size=\"14.00\">0.08</text>\n<polygon fill=\"none\" stroke=\"black\" points=\"187.06,-276.67 187.06,-297.67 218.06,-297.67 218.06,-276.67 187.06,-276.67\"/>\n<text text-anchor=\"start\" x=\"190.06\" y=\"-283.47\" font-family=\"Times,serif\" font-size=\"14.00\">0.02</text>\n<polygon fill=\"none\" stroke=\"black\" points=\"51.06,-253.67 51.06,-274.67 119.06,-274.67 119.06,-253.67 51.06,-253.67\"/>\n<text text-anchor=\"start\" x=\"54.06\" y=\"-260.47\" font-family=\"Times,serif\" font-size=\"14.00\">High, Hard</text>\n<polygon fill=\"none\" stroke=\"black\" points=\"121.06,-253.67 121.06,-274.67 152.06,-274.67 152.06,-253.67 121.06,-253.67\"/>\n<text text-anchor=\"start\" x=\"124.06\" y=\"-260.47\" font-family=\"Times,serif\" font-size=\"14.00\">0.50</text>\n<polygon fill=\"none\" stroke=\"black\" points=\"154.06,-253.67 154.06,-274.67 185.06,-274.67 185.06,-253.67 154.06,-253.67\"/>\n<text text-anchor=\"start\" x=\"157.06\" y=\"-260.47\" font-family=\"Times,serif\" font-size=\"14.00\">0.30</text>\n<polygon fill=\"none\" stroke=\"black\" points=\"187.06,-253.67 187.06,-274.67 218.06,-274.67 218.06,-253.67 187.06,-253.67\"/>\n<text text-anchor=\"start\" x=\"190.06\" y=\"-260.47\" font-family=\"Times,serif\" font-size=\"14.00\">0.20</text>\n<polygon fill=\"none\" stroke=\"black\" points=\"47.56,-250.67 47.56,-392.67 222.56,-392.67 222.56,-250.67 47.56,-250.67\"/>\n</g>\n<!-- Diff&#45;&gt;Grade -->\n<g id=\"edge1\" class=\"edge\">\n<title>Diff&#45;&gt;Grade</title>\n<path fill=\"none\" stroke=\"black\" d=\"M135.06,-463.73C135.06,-455.53 135.06,-446.86 135.06,-438\"/>\n<polygon fill=\"black\" stroke=\"black\" points=\"138.56,-437.93 135.06,-427.93 131.56,-437.93 138.56,-437.93\"/>\n</g>\n<!-- Intel -->\n<g id=\"node2\" class=\"node\">\n<title>Intel</title>\n<ellipse fill=\"none\" stroke=\"black\" cx=\"329.06\" cy=\"-521.01\" rx=\"62.87\" ry=\"57.05\"/>\n<polygon fill=\"none\" stroke=\"black\" points=\"296.06,-533.01 296.06,-554.01 363.06,-554.01 363.06,-533.01 296.06,-533.01\"/>\n<text text-anchor=\"start\" x=\"313.06\" y=\"-539.81\" font-family=\"Times,serif\" font-size=\"14.00\"> Intel </text>\n<polygon fill=\"none\" stroke=\"black\" points=\"296.06,-510.01 296.06,-531.01 327.06,-531.01 327.06,-510.01 296.06,-510.01\"/>\n<text text-anchor=\"start\" x=\"299.06\" y=\"-516.81\" font-family=\"Times,serif\" font-size=\"14.00\">Low</text>\n<polygon fill=\"none\" stroke=\"black\" points=\"329.06,-510.01 329.06,-531.01 363.06,-531.01 363.06,-510.01 329.06,-510.01\"/>\n<text text-anchor=\"start\" x=\"332.06\" y=\"-516.81\" font-family=\"Times,serif\" font-size=\"14.00\">High</text>\n<polygon fill=\"none\" stroke=\"black\" points=\"296.06,-487.01 296.06,-508.01 327.06,-508.01 327.06,-487.01 296.06,-487.01\"/>\n<text text-anchor=\"start\" x=\"299.06\" y=\"-493.81\" font-family=\"Times,serif\" font-size=\"14.00\">0.70</text>\n<polygon fill=\"none\" stroke=\"black\" points=\"329.06,-487.01 329.06,-508.01 363.06,-508.01 363.06,-487.01 329.06,-487.01\"/>\n<text text-anchor=\"start\" x=\"333.56\" y=\"-493.81\" font-family=\"Times,serif\" font-size=\"14.00\">0.30</text>\n<polygon fill=\"none\" stroke=\"black\" points=\"292.56,-484.51 292.56,-557.51 365.56,-557.51 365.56,-484.51 292.56,-484.51\"/>\n</g>\n<!-- Intel&#45;&gt;Grade -->\n<g id=\"edge3\" class=\"edge\">\n<title>Intel&#45;&gt;Grade</title>\n<path fill=\"none\" stroke=\"black\" d=\"M287.44,-477.68C268.95,-458.87 246.43,-435.97 224.44,-413.59\"/>\n<polygon fill=\"black\" stroke=\"black\" points=\"226.83,-411.03 217.32,-406.35 221.84,-415.94 226.83,-411.03\"/>\n</g>\n<!-- SAT -->\n<g id=\"node5\" class=\"node\">\n<title>SAT</title>\n<ellipse fill=\"none\" stroke=\"black\" cx=\"379.06\" cy=\"-321.67\" rx=\"90.52\" ry=\"73.58\"/>\n<polygon fill=\"none\" stroke=\"black\" points=\"326.06,-345.67 326.06,-366.67 432.06,-366.67 432.06,-345.67 326.06,-345.67\"/>\n<text text-anchor=\"start\" x=\"363.06\" y=\"-352.47\" font-family=\"Times,serif\" font-size=\"14.00\"> SAT </text>\n<polygon fill=\"none\" stroke=\"black\" points=\"326.06,-322.67 326.06,-343.67 360.06,-343.67 360.06,-322.67 326.06,-322.67\"/>\n<text text-anchor=\"start\" x=\"341.06\" y=\"-329.47\" font-family=\"Times,serif\" font-size=\"14.00\"> </text>\n<polygon fill=\"none\" stroke=\"black\" points=\"362.06,-322.67 362.06,-343.67 393.06,-343.67 393.06,-322.67 362.06,-322.67\"/>\n<text text-anchor=\"start\" x=\"366.56\" y=\"-329.47\" font-family=\"Times,serif\" font-size=\"14.00\">Bad</text>\n<polygon fill=\"none\" stroke=\"black\" points=\"395.06,-322.67 395.06,-343.67 432.06,-343.67 432.06,-322.67 395.06,-322.67\"/>\n<text text-anchor=\"start\" x=\"398.06\" y=\"-329.47\" font-family=\"Times,serif\" font-size=\"14.00\">Good</text>\n<polygon fill=\"none\" stroke=\"black\" points=\"326.06,-299.67 326.06,-320.67 360.06,-320.67 360.06,-299.67 326.06,-299.67\"/>\n<text text-anchor=\"start\" x=\"330.56\" y=\"-306.47\" font-family=\"Times,serif\" font-size=\"14.00\">Low</text>\n<polygon fill=\"none\" stroke=\"black\" points=\"362.06,-299.67 362.06,-320.67 393.06,-320.67 393.06,-299.67 362.06,-299.67\"/>\n<text text-anchor=\"start\" x=\"365.06\" y=\"-306.47\" font-family=\"Times,serif\" font-size=\"14.00\">0.95</text>\n<polygon fill=\"none\" stroke=\"black\" points=\"395.06,-299.67 395.06,-320.67 432.06,-320.67 432.06,-299.67 395.06,-299.67\"/>\n<text text-anchor=\"start\" x=\"401.06\" y=\"-306.47\" font-family=\"Times,serif\" font-size=\"14.00\">0.05</text>\n<polygon fill=\"none\" stroke=\"black\" points=\"326.06,-276.67 326.06,-297.67 360.06,-297.67 360.06,-276.67 326.06,-276.67\"/>\n<text text-anchor=\"start\" x=\"329.06\" y=\"-283.47\" font-family=\"Times,serif\" font-size=\"14.00\">High</text>\n<polygon fill=\"none\" stroke=\"black\" points=\"362.06,-276.67 362.06,-297.67 393.06,-297.67 393.06,-276.67 362.06,-276.67\"/>\n<text text-anchor=\"start\" x=\"365.06\" y=\"-283.47\" font-family=\"Times,serif\" font-size=\"14.00\">0.20</text>\n<polygon fill=\"none\" stroke=\"black\" points=\"395.06,-276.67 395.06,-297.67 432.06,-297.67 432.06,-276.67 395.06,-276.67\"/>\n<text text-anchor=\"start\" x=\"401.06\" y=\"-283.47\" font-family=\"Times,serif\" font-size=\"14.00\">0.80</text>\n<polygon fill=\"none\" stroke=\"black\" points=\"323.06,-273.67 323.06,-369.67 435.06,-369.67 435.06,-273.67 323.06,-273.67\"/>\n</g>\n<!-- Intel&#45;&gt;SAT -->\n<g id=\"edge4\" class=\"edge\">\n<title>Intel&#45;&gt;SAT</title>\n<path fill=\"none\" stroke=\"black\" d=\"M342.99,-465.04C347.8,-446.04 353.3,-424.33 358.53,-403.68\"/>\n<polygon fill=\"black\" stroke=\"black\" points=\"361.93,-404.52 360.99,-393.97 355.14,-402.8 361.93,-404.52\"/>\n</g>\n<!-- Letter -->\n<g id=\"node4\" class=\"node\">\n<title>Letter</title>\n<ellipse fill=\"none\" stroke=\"black\" cx=\"135.06\" cy=\"-89.8\" rx=\"79.39\" ry=\"89.61\"/>\n<polygon fill=\"none\" stroke=\"black\" points=\"90.06,-124.8 90.06,-145.8 180.06,-145.8 180.06,-124.8 90.06,-124.8\"/>\n<text text-anchor=\"start\" x=\"115.06\" y=\"-131.6\" font-family=\"Times,serif\" font-size=\"14.00\"> Letter </text>\n<polygon fill=\"none\" stroke=\"black\" points=\"90.06,-101.8 90.06,-122.8 106.06,-122.8 106.06,-101.8 90.06,-101.8\"/>\n<text text-anchor=\"start\" x=\"96.06\" y=\"-108.6\" font-family=\"Times,serif\" font-size=\"14.00\"> </text>\n<polygon fill=\"none\" stroke=\"black\" points=\"108.06,-101.8 108.06,-122.8 139.06,-122.8 139.06,-101.8 108.06,-101.8\"/>\n<text text-anchor=\"start\" x=\"112.56\" y=\"-108.6\" font-family=\"Times,serif\" font-size=\"14.00\">Bad</text>\n<polygon fill=\"none\" stroke=\"black\" points=\"141.06,-101.8 141.06,-122.8 178.06,-122.8 178.06,-101.8 141.06,-101.8\"/>\n<text text-anchor=\"start\" x=\"144.06\" y=\"-108.6\" font-family=\"Times,serif\" font-size=\"14.00\">Good</text>\n<polygon fill=\"none\" stroke=\"black\" points=\"90.06,-78.8 90.06,-99.8 106.06,-99.8 106.06,-78.8 90.06,-78.8\"/>\n<text text-anchor=\"start\" x=\"93.06\" y=\"-85.6\" font-family=\"Times,serif\" font-size=\"14.00\">A</text>\n<polygon fill=\"none\" stroke=\"black\" points=\"108.06,-78.8 108.06,-99.8 139.06,-99.8 139.06,-78.8 108.06,-78.8\"/>\n<text text-anchor=\"start\" x=\"111.06\" y=\"-85.6\" font-family=\"Times,serif\" font-size=\"14.00\">0.10</text>\n<polygon fill=\"none\" stroke=\"black\" points=\"141.06,-78.8 141.06,-99.8 178.06,-99.8 178.06,-78.8 141.06,-78.8\"/>\n<text text-anchor=\"start\" x=\"147.06\" y=\"-85.6\" font-family=\"Times,serif\" font-size=\"14.00\">0.90</text>\n<polygon fill=\"none\" stroke=\"black\" points=\"90.06,-55.8 90.06,-76.8 106.06,-76.8 106.06,-55.8 90.06,-55.8\"/>\n<text text-anchor=\"start\" x=\"93.06\" y=\"-62.6\" font-family=\"Times,serif\" font-size=\"14.00\">B</text>\n<polygon fill=\"none\" stroke=\"black\" points=\"108.06,-55.8 108.06,-76.8 139.06,-76.8 139.06,-55.8 108.06,-55.8\"/>\n<text text-anchor=\"start\" x=\"111.06\" y=\"-62.6\" font-family=\"Times,serif\" font-size=\"14.00\">0.40</text>\n<polygon fill=\"none\" stroke=\"black\" points=\"141.06,-55.8 141.06,-76.8 178.06,-76.8 178.06,-55.8 141.06,-55.8\"/>\n<text text-anchor=\"start\" x=\"147.06\" y=\"-62.6\" font-family=\"Times,serif\" font-size=\"14.00\">0.60</text>\n<polygon fill=\"none\" stroke=\"black\" points=\"90.06,-32.8 90.06,-53.8 106.06,-53.8 106.06,-32.8 90.06,-32.8\"/>\n<text text-anchor=\"start\" x=\"93.06\" y=\"-39.6\" font-family=\"Times,serif\" font-size=\"14.00\">C</text>\n<polygon fill=\"none\" stroke=\"black\" points=\"108.06,-32.8 108.06,-53.8 139.06,-53.8 139.06,-32.8 108.06,-32.8\"/>\n<text text-anchor=\"start\" x=\"111.06\" y=\"-39.6\" font-family=\"Times,serif\" font-size=\"14.00\">0.99</text>\n<polygon fill=\"none\" stroke=\"black\" points=\"141.06,-32.8 141.06,-53.8 178.06,-53.8 178.06,-32.8 141.06,-32.8\"/>\n<text text-anchor=\"start\" x=\"147.06\" y=\"-39.6\" font-family=\"Times,serif\" font-size=\"14.00\">0.01</text>\n<polygon fill=\"none\" stroke=\"black\" points=\"87.06,-30.3 87.06,-149.3 183.06,-149.3 183.06,-30.3 87.06,-30.3\"/>\n</g>\n<!-- Grade&#45;&gt;Letter -->\n<g id=\"edge2\" class=\"edge\">\n<title>Grade&#45;&gt;Letter</title>\n<path fill=\"none\" stroke=\"black\" d=\"M135.06,-215.49C135.06,-207 135.06,-198.44 135.06,-190\"/>\n<polygon fill=\"black\" stroke=\"black\" points=\"138.56,-189.77 135.06,-179.77 131.56,-189.77 138.56,-189.77\"/>\n</g>\n</g>\n</svg>\n",
            "text/plain": [
              "<graphviz.graphs.Digraph at 0x7978643f7460>"
            ]
          },
          "metadata": {}
        }
      ]
    },
    {
      "cell_type": "markdown",
      "source": [
        "Now that we have looked at visualising graphical models. We get to the reason why they are useful in the first place. Specifically, we begin to explore inference techniques in Bayes Net's.\n",
        "\n",
        "## Inference\n",
        "\n",
        "Inference in Bayesian Networks involves calculating the probability of certain outcomes given some evidence. This process allows us to answer questions like \"What is the probability that a student is intelligent given that they received an 'A' grade?\" or \"How likely is it that the course was difficult if we know the student got a 'C' grade?\" Inference is one of the most powerful features of Bayesian Networks, as it enables reasoning under uncertainty by updating beliefs based on new evidence.\n",
        "\n",
        "\n",
        "### Types of Inference\n",
        "\n",
        "There are different types of inference that can be performed in a Bayesian Network:\n",
        "\n",
        "1. **Conditional Inference:** This involves calculating the probability of a variable given some observed evidence. For example, what is the probability that the student has a High intelligence (Intel=High) given that they got a B grade (Grade=B)?\n",
        "\n",
        "2. **Marginal Inference:** This involves calculating the probability of a particular variable without any evidence. For instance, in our Student Network, we might want to know the prior probability that a student gets a Letter of recommendation (P(Letter)), regardless of any other information.\n",
        "\n",
        "3. **MAP (Maximum A Posteriori)** Inference: This type of inference finds the most probable state of a set of variables given some evidence. In the Student Network, we might want to determine the most likely intelligence level (Intel) of a student given their Grade and SAT scores.\n",
        "\n",
        "\n",
        "pgmpy has a built in inference package which allows us to easily do inference in the graphs. We begin by importing this!"
      ],
      "metadata": {
        "id": "CSs3R9eJ9kck"
      }
    },
    {
      "cell_type": "code",
      "source": [
        "from pgmpy.inference import VariableElimination"
      ],
      "metadata": {
        "id": "XjE8l4LMbkGU"
      },
      "execution_count": null,
      "outputs": []
    },
    {
      "cell_type": "markdown",
      "source": [
        "**VariableElimination** is a class, which is  provided by pgmpy, that implements the Variable Elimination algorithm for performing exact inference in Bayesian Networks. This is instantiated for our Bayesian model:"
      ],
      "metadata": {
        "id": "3zcqbUv-AqBS"
      }
    },
    {
      "cell_type": "code",
      "source": [
        "infer = VariableElimination(model)"
      ],
      "metadata": {
        "id": "az-U_e9w_dzc"
      },
      "execution_count": null,
      "outputs": []
    },
    {
      "cell_type": "markdown",
      "source": [
        "### Calculating Conditional Probabilities\n",
        "\n",
        "In Bayesian Networks, calculating posterior probabilities is a key aspect of inference that allows us to update our beliefs about the state of a variable based on observed evidence. A posterior probability, such as P(Difficulty = Hard | Grade = C),  represents the probability that the course difficulty is Hard given that a student received a C grade. Posteriors can be calcualted as follows:"
      ],
      "metadata": {
        "id": "RKUPs541bqP1"
      }
    },
    {
      "cell_type": "code",
      "source": [
        "evidence = {\"Grade\": \"C\"}\n",
        "postD = infer.query([\"Diff\"], evidence=evidence).values\n",
        "postI = infer.query([\"Intel\"], evidence=evidence).values\n",
        "\n",
        "print(\"\\n\")\n",
        "print(\"Pr(Difficulty=Hard|Grade=C) = {:0.2f}\".format(postD[1]))\n",
        "print(\"Pr(Intelligence=High|Grade=C) = {:0.2f}\".format(postI[1]))"
      ],
      "metadata": {
        "id": "m2ljyxqxbuhq",
        "colab": {
          "base_uri": "https://localhost:8080/"
        },
        "outputId": "226a77a9-0ebf-4476-9a32-72c8b55b8368"
      },
      "execution_count": null,
      "outputs": [
        {
          "output_type": "stream",
          "name": "stdout",
          "text": [
            "\n",
            "\n",
            "Pr(Difficulty=Hard|Grade=C) = 0.63\n",
            "Pr(Intelligence=High|Grade=C) = 0.08\n"
          ]
        }
      ]
    },
    {
      "cell_type": "markdown",
      "source": [
        "Try to calculate: P(Difficulty=Hard|Grade=C,SAT=Good) and P(Intelligence=High|Grade=C,SAT=Good) in the box below:"
      ],
      "metadata": {
        "id": "dKSfGX2JDcxy"
      }
    },
    {
      "cell_type": "code",
      "source": [
        "# Modify this box to print the probabilities\n",
        "evidence =\n",
        "postD =\n",
        "postI =\n",
        "\n",
        "print(\"\\n\")\n",
        "print(\"Pr(Difficulty=Hard|Grade=C,SAT=Good) = {:0.2f}\".format(postD[1]))\n",
        "print(\"Pr(Intelligence=High|Grade=C,SAT=Good) = {:0.2f}\".format(postI[1]))"
      ],
      "metadata": {
        "id": "OX5PvvtMbjgQ"
      },
      "execution_count": null,
      "outputs": []
    },
    {
      "cell_type": "markdown",
      "source": [
        "### Calculating Marginal Probabilities"
      ],
      "metadata": {
        "id": "8NOq-0ocgm6j"
      }
    },
    {
      "cell_type": "markdown",
      "source": [
        "#### Marginal without evidence\n",
        "\n",
        "Marginal probability without evidence refers to the probability of a single variable in a Bayesian Network without considering any other information or observed evidence. It represents our belief about the possible states of a variable based solely on the prior information encoded in the network. For instance, in the Student example, we might be interested in calculating the probability distribution of the Grade variable across all possible grades (A, B, or C), regardless of other factors like Intelligence or Difficulty. This type of probability is useful for understanding the general tendencies in the model without any additional context. By computing marginal probabilities, we can answer questions such as \"What is the overall probability that a student will get a B grade?\" or \"How likely is it that a student will receive a letter of recommendation (Letter=Yes)?\"\n",
        "\n",
        "\n",
        "To calculate the marginal probability distribution of the grade variable, we can use the following the function:"
      ],
      "metadata": {
        "id": "v0Mi8Ld2dCDF"
      }
    },
    {
      "cell_type": "code",
      "source": [
        "# Calculate the marginal probability distribution of the 'Grade' variable\n",
        "marginal_grade = infer.query(variables=['Grade'])\n",
        "print(marginal_grade)"
      ],
      "metadata": {
        "colab": {
          "base_uri": "https://localhost:8080/"
        },
        "id": "VynLFtpNOnbJ",
        "outputId": "05be3b5e-2cc9-49c0-e314-35be77268b92"
      },
      "execution_count": null,
      "outputs": [
        {
          "output_type": "stream",
          "name": "stdout",
          "text": [
            "+----------+--------------+\n",
            "| Grade    |   phi(Grade) |\n",
            "+==========+==============+\n",
            "| Grade(A) |       0.3620 |\n",
            "+----------+--------------+\n",
            "| Grade(B) |       0.2884 |\n",
            "+----------+--------------+\n",
            "| Grade(C) |       0.3496 |\n",
            "+----------+--------------+\n"
          ]
        }
      ]
    },
    {
      "cell_type": "markdown",
      "source": [
        "Try to do this below for the SAT scores:"
      ],
      "metadata": {
        "id": "2Bm2OGjBOvpD"
      }
    },
    {
      "cell_type": "code",
      "source": [
        "# Calculate the marginal probability distribution of the 'SAT' variable\n",
        "marginal_grade =\n",
        "print(marginal_grade)"
      ],
      "metadata": {
        "id": "uhXsWUbNO5tz"
      },
      "execution_count": null,
      "outputs": []
    },
    {
      "cell_type": "code",
      "source": [
        "# Model sols (Remove before publishing):\n",
        "marginal_grade = infer.query(variables=['Grade'])\n",
        "print(marginal_grade)"
      ],
      "metadata": {
        "id": "vAwubxYbQXJh",
        "colab": {
          "base_uri": "https://localhost:8080/"
        },
        "outputId": "e956f6c3-8603-4b4f-e23c-eb27982f6e8c"
      },
      "execution_count": null,
      "outputs": [
        {
          "output_type": "stream",
          "name": "stdout",
          "text": [
            "+----------+--------------+\n",
            "| Grade    |   phi(Grade) |\n",
            "+==========+==============+\n",
            "| Grade(A) |       0.3620 |\n",
            "+----------+--------------+\n",
            "| Grade(B) |       0.2884 |\n",
            "+----------+--------------+\n",
            "| Grade(C) |       0.3496 |\n",
            "+----------+--------------+\n"
          ]
        }
      ]
    },
    {
      "cell_type": "markdown",
      "source": [
        "This can be verified using the pgm.get_marginals package. Check that your answer matches the output below:"
      ],
      "metadata": {
        "id": "o4r-tlojO-9s"
      }
    },
    {
      "cell_type": "code",
      "source": [
        "evidence = {}\n",
        "marginals = pgm.get_marginals(model, evidence)\n",
        "print(marginals)"
      ],
      "metadata": {
        "id": "_7GmJxdIdNSY",
        "colab": {
          "base_uri": "https://localhost:8080/"
        },
        "outputId": "3bb0a3a0-932c-4835-a3cc-b3c435650486"
      },
      "execution_count": null,
      "outputs": [
        {
          "output_type": "stream",
          "name": "stdout",
          "text": [
            "{'Diff': array([0.6, 0.4]), 'Grade': array([0.362 , 0.2884, 0.3496]), 'Intel': array([0.7, 0.3]), 'Letter': array([0.497664, 0.502336]), 'SAT': array([0.725, 0.275])}\n"
          ]
        }
      ]
    },
    {
      "cell_type": "markdown",
      "source": [
        "We can also visualise the marignals as seen below:"
      ],
      "metadata": {
        "id": "Xidfc9-jPKWe"
      }
    },
    {
      "cell_type": "code",
      "source": [
        "dot = pgm.visualize_marginals(model, evidence, marginals)\n",
        "display(dot)"
      ],
      "metadata": {
        "colab": {
          "base_uri": "https://localhost:8080/",
          "height": 586
        },
        "id": "HwkpRuhhgMfQ",
        "outputId": "a2a6e9eb-0111-43f8-f8f9-5828c0774555"
      },
      "execution_count": null,
      "outputs": [
        {
          "output_type": "display_data",
          "data": {
            "image/svg+xml": "<?xml version=\"1.0\" encoding=\"UTF-8\" standalone=\"no\"?>\n<!DOCTYPE svg PUBLIC \"-//W3C//DTD SVG 1.1//EN\"\n \"http://www.w3.org/Graphics/SVG/1.1/DTD/svg11.dtd\">\n<!-- Generated by graphviz version 2.43.0 (0)\n -->\n<!-- Title: pgm Pages: 1 -->\n<svg width=\"324pt\" height=\"424pt\"\n viewBox=\"0.00 0.00 324.20 423.65\" xmlns=\"http://www.w3.org/2000/svg\" xmlns:xlink=\"http://www.w3.org/1999/xlink\">\n<g id=\"graph0\" class=\"graph\" transform=\"scale(1 1) rotate(0) translate(4 419.65)\">\n<title>pgm</title>\n<polygon fill=\"white\" stroke=\"transparent\" points=\"-4,4 -4,-419.65 320.2,-419.65 320.2,4 -4,4\"/>\n<!-- Diff -->\n<g id=\"node1\" class=\"node\">\n<title>Diff</title>\n<ellipse fill=\"none\" stroke=\"black\" cx=\"84.15\" cy=\"-358.38\" rx=\"64.19\" ry=\"57.05\"/>\n<polygon fill=\"none\" stroke=\"black\" points=\"50.15,-370.38 50.15,-391.38 119.15,-391.38 119.15,-370.38 50.15,-370.38\"/>\n<text text-anchor=\"start\" x=\"69.15\" y=\"-377.18\" font-family=\"Times,serif\" font-size=\"14.00\"> Diff </text>\n<polygon fill=\"none\" stroke=\"black\" points=\"50.15,-347.38 50.15,-368.38 83.15,-368.38 83.15,-347.38 50.15,-347.38\"/>\n<text text-anchor=\"start\" x=\"53.15\" y=\"-354.18\" font-family=\"Times,serif\" font-size=\"14.00\">Easy</text>\n<polygon fill=\"none\" stroke=\"black\" points=\"85.15,-347.38 85.15,-368.38 119.15,-368.38 119.15,-347.38 85.15,-347.38\"/>\n<text text-anchor=\"start\" x=\"88.15\" y=\"-354.18\" font-family=\"Times,serif\" font-size=\"14.00\">Hard</text>\n<polygon fill=\"none\" stroke=\"black\" points=\"50.15,-324.38 50.15,-345.38 83.15,-345.38 83.15,-324.38 50.15,-324.38\"/>\n<text text-anchor=\"start\" x=\"57.65\" y=\"-331.18\" font-family=\"Times,serif\" font-size=\"14.00\">0.6</text>\n<polygon fill=\"none\" stroke=\"black\" points=\"85.15,-324.38 85.15,-345.38 119.15,-345.38 119.15,-324.38 85.15,-324.38\"/>\n<text text-anchor=\"start\" x=\"93.15\" y=\"-331.18\" font-family=\"Times,serif\" font-size=\"14.00\">0.4</text>\n<polygon fill=\"none\" stroke=\"black\" points=\"46.65,-321.88 46.65,-394.88 121.65,-394.88 121.65,-321.88 46.65,-321.88\"/>\n</g>\n<!-- Grade -->\n<g id=\"node2\" class=\"node\">\n<title>Grade</title>\n<ellipse fill=\"none\" stroke=\"black\" cx=\"84.15\" cy=\"-207.83\" rx=\"84.29\" ry=\"57.05\"/>\n<polygon fill=\"none\" stroke=\"black\" points=\"36.15,-219.83 36.15,-240.83 133.15,-240.83 133.15,-219.83 36.15,-219.83\"/>\n<text text-anchor=\"start\" x=\"64.15\" y=\"-226.63\" font-family=\"Times,serif\" font-size=\"14.00\"> Grade </text>\n<polygon fill=\"none\" stroke=\"black\" points=\"36.15,-196.83 36.15,-217.83 67.15,-217.83 67.15,-196.83 36.15,-196.83\"/>\n<text text-anchor=\"start\" x=\"46.65\" y=\"-203.63\" font-family=\"Times,serif\" font-size=\"14.00\">A</text>\n<polygon fill=\"none\" stroke=\"black\" points=\"69.15,-196.83 69.15,-217.83 100.15,-217.83 100.15,-196.83 69.15,-196.83\"/>\n<text text-anchor=\"start\" x=\"79.65\" y=\"-203.63\" font-family=\"Times,serif\" font-size=\"14.00\">B</text>\n<polygon fill=\"none\" stroke=\"black\" points=\"102.15,-196.83 102.15,-217.83 133.15,-217.83 133.15,-196.83 102.15,-196.83\"/>\n<text text-anchor=\"start\" x=\"112.65\" y=\"-203.63\" font-family=\"Times,serif\" font-size=\"14.00\">C</text>\n<polygon fill=\"none\" stroke=\"black\" points=\"36.15,-173.83 36.15,-194.83 67.15,-194.83 67.15,-173.83 36.15,-173.83\"/>\n<text text-anchor=\"start\" x=\"39.15\" y=\"-180.63\" font-family=\"Times,serif\" font-size=\"14.00\">0.36</text>\n<polygon fill=\"none\" stroke=\"black\" points=\"69.15,-173.83 69.15,-194.83 100.15,-194.83 100.15,-173.83 69.15,-173.83\"/>\n<text text-anchor=\"start\" x=\"72.15\" y=\"-180.63\" font-family=\"Times,serif\" font-size=\"14.00\">0.29</text>\n<polygon fill=\"none\" stroke=\"black\" points=\"102.15,-173.83 102.15,-194.83 133.15,-194.83 133.15,-173.83 102.15,-173.83\"/>\n<text text-anchor=\"start\" x=\"105.15\" y=\"-180.63\" font-family=\"Times,serif\" font-size=\"14.00\">0.35</text>\n<polygon fill=\"none\" stroke=\"black\" points=\"32.65,-171.33 32.65,-244.33 135.65,-244.33 135.65,-171.33 32.65,-171.33\"/>\n</g>\n<!-- Diff&#45;&gt;Grade -->\n<g id=\"edge1\" class=\"edge\">\n<title>Diff&#45;&gt;Grade</title>\n<path fill=\"none\" stroke=\"black\" d=\"M84.15,-300.79C84.15,-292.52 84.15,-283.93 84.15,-275.47\"/>\n<polygon fill=\"black\" stroke=\"black\" points=\"87.65,-275.25 84.15,-265.25 80.65,-275.25 87.65,-275.25\"/>\n</g>\n<!-- Letter -->\n<g id=\"node4\" class=\"node\">\n<title>Letter</title>\n<ellipse fill=\"none\" stroke=\"black\" cx=\"84.15\" cy=\"-57.28\" rx=\"62.87\" ry=\"57.05\"/>\n<polygon fill=\"none\" stroke=\"black\" points=\"51.15,-69.28 51.15,-90.28 118.15,-90.28 118.15,-69.28 51.15,-69.28\"/>\n<text text-anchor=\"start\" x=\"64.65\" y=\"-76.08\" font-family=\"Times,serif\" font-size=\"14.00\"> Letter </text>\n<polygon fill=\"none\" stroke=\"black\" points=\"51.15,-46.28 51.15,-67.28 79.15,-67.28 79.15,-46.28 51.15,-46.28\"/>\n<text text-anchor=\"start\" x=\"54.15\" y=\"-53.08\" font-family=\"Times,serif\" font-size=\"14.00\">Bad</text>\n<polygon fill=\"none\" stroke=\"black\" points=\"81.15,-46.28 81.15,-67.28 118.15,-67.28 118.15,-46.28 81.15,-46.28\"/>\n<text text-anchor=\"start\" x=\"84.15\" y=\"-53.08\" font-family=\"Times,serif\" font-size=\"14.00\">Good</text>\n<polygon fill=\"none\" stroke=\"black\" points=\"51.15,-23.28 51.15,-44.28 79.15,-44.28 79.15,-23.28 51.15,-23.28\"/>\n<text text-anchor=\"start\" x=\"56.15\" y=\"-30.08\" font-family=\"Times,serif\" font-size=\"14.00\">0.5</text>\n<polygon fill=\"none\" stroke=\"black\" points=\"81.15,-23.28 81.15,-44.28 118.15,-44.28 118.15,-23.28 81.15,-23.28\"/>\n<text text-anchor=\"start\" x=\"90.65\" y=\"-30.08\" font-family=\"Times,serif\" font-size=\"14.00\">0.5</text>\n<polygon fill=\"none\" stroke=\"black\" points=\"47.65,-20.78 47.65,-93.78 120.65,-93.78 120.65,-20.78 47.65,-20.78\"/>\n</g>\n<!-- Grade&#45;&gt;Letter -->\n<g id=\"edge2\" class=\"edge\">\n<title>Grade&#45;&gt;Letter</title>\n<path fill=\"none\" stroke=\"black\" d=\"M84.15,-150.24C84.15,-141.96 84.15,-133.38 84.15,-124.92\"/>\n<polygon fill=\"black\" stroke=\"black\" points=\"87.65,-124.7 84.15,-114.7 80.65,-124.7 87.65,-124.7\"/>\n</g>\n<!-- Intel -->\n<g id=\"node3\" class=\"node\">\n<title>Intel</title>\n<ellipse fill=\"none\" stroke=\"black\" cx=\"240.15\" cy=\"-358.38\" rx=\"62.87\" ry=\"57.05\"/>\n<polygon fill=\"none\" stroke=\"black\" points=\"207.15,-370.38 207.15,-391.38 274.15,-391.38 274.15,-370.38 207.15,-370.38\"/>\n<text text-anchor=\"start\" x=\"224.15\" y=\"-377.18\" font-family=\"Times,serif\" font-size=\"14.00\"> Intel </text>\n<polygon fill=\"none\" stroke=\"black\" points=\"207.15,-347.38 207.15,-368.38 238.15,-368.38 238.15,-347.38 207.15,-347.38\"/>\n<text text-anchor=\"start\" x=\"210.15\" y=\"-354.18\" font-family=\"Times,serif\" font-size=\"14.00\">Low</text>\n<polygon fill=\"none\" stroke=\"black\" points=\"240.15,-347.38 240.15,-368.38 274.15,-368.38 274.15,-347.38 240.15,-347.38\"/>\n<text text-anchor=\"start\" x=\"243.15\" y=\"-354.18\" font-family=\"Times,serif\" font-size=\"14.00\">High</text>\n<polygon fill=\"none\" stroke=\"black\" points=\"207.15,-324.38 207.15,-345.38 238.15,-345.38 238.15,-324.38 207.15,-324.38\"/>\n<text text-anchor=\"start\" x=\"213.65\" y=\"-331.18\" font-family=\"Times,serif\" font-size=\"14.00\">0.7</text>\n<polygon fill=\"none\" stroke=\"black\" points=\"240.15,-324.38 240.15,-345.38 274.15,-345.38 274.15,-324.38 240.15,-324.38\"/>\n<text text-anchor=\"start\" x=\"248.15\" y=\"-331.18\" font-family=\"Times,serif\" font-size=\"14.00\">0.3</text>\n<polygon fill=\"none\" stroke=\"black\" points=\"203.65,-321.88 203.65,-394.88 276.65,-394.88 276.65,-321.88 203.65,-321.88\"/>\n</g>\n<!-- Intel&#45;&gt;Grade -->\n<g id=\"edge3\" class=\"edge\">\n<title>Intel&#45;&gt;Grade</title>\n<path fill=\"none\" stroke=\"black\" d=\"M197.11,-316.39C179.43,-299.56 158.74,-279.86 139.92,-261.94\"/>\n<polygon fill=\"black\" stroke=\"black\" points=\"142.2,-259.27 132.54,-254.91 137.37,-264.34 142.2,-259.27\"/>\n</g>\n<!-- SAT -->\n<g id=\"node5\" class=\"node\">\n<title>SAT</title>\n<ellipse fill=\"none\" stroke=\"black\" cx=\"251.15\" cy=\"-207.83\" rx=\"65.11\" ry=\"57.05\"/>\n<polygon fill=\"none\" stroke=\"black\" points=\"216.15,-219.83 216.15,-240.83 286.15,-240.83 286.15,-219.83 216.15,-219.83\"/>\n<text text-anchor=\"start\" x=\"235.15\" y=\"-226.63\" font-family=\"Times,serif\" font-size=\"14.00\"> SAT </text>\n<polygon fill=\"none\" stroke=\"black\" points=\"216.15,-196.83 216.15,-217.83 247.15,-217.83 247.15,-196.83 216.15,-196.83\"/>\n<text text-anchor=\"start\" x=\"220.65\" y=\"-203.63\" font-family=\"Times,serif\" font-size=\"14.00\">Bad</text>\n<polygon fill=\"none\" stroke=\"black\" points=\"249.15,-196.83 249.15,-217.83 286.15,-217.83 286.15,-196.83 249.15,-196.83\"/>\n<text text-anchor=\"start\" x=\"252.15\" y=\"-203.63\" font-family=\"Times,serif\" font-size=\"14.00\">Good</text>\n<polygon fill=\"none\" stroke=\"black\" points=\"216.15,-173.83 216.15,-194.83 247.15,-194.83 247.15,-173.83 216.15,-173.83\"/>\n<text text-anchor=\"start\" x=\"219.15\" y=\"-180.63\" font-family=\"Times,serif\" font-size=\"14.00\">0.72</text>\n<polygon fill=\"none\" stroke=\"black\" points=\"249.15,-173.83 249.15,-194.83 286.15,-194.83 286.15,-173.83 249.15,-173.83\"/>\n<text text-anchor=\"start\" x=\"255.15\" y=\"-180.63\" font-family=\"Times,serif\" font-size=\"14.00\">0.27</text>\n<polygon fill=\"none\" stroke=\"black\" points=\"213.15,-171.33 213.15,-244.33 289.15,-244.33 289.15,-171.33 213.15,-171.33\"/>\n</g>\n<!-- Intel&#45;&gt;SAT -->\n<g id=\"edge4\" class=\"edge\">\n<title>Intel&#45;&gt;SAT</title>\n<path fill=\"none\" stroke=\"black\" d=\"M244.3,-301.22C244.93,-292.71 245.59,-283.87 246.23,-275.18\"/>\n<polygon fill=\"black\" stroke=\"black\" points=\"249.73,-275.3 246.98,-265.07 242.75,-274.78 249.73,-275.3\"/>\n</g>\n</g>\n</svg>\n",
            "text/plain": [
              "<graphviz.graphs.Digraph at 0x7978643f61a0>"
            ]
          },
          "metadata": {}
        }
      ]
    },
    {
      "cell_type": "markdown",
      "source": [
        "#### Marginal with evidence\n",
        "\n",
        "Marginal probability with evidence involves calculating the probability distribution of a variable while taking into account observed evidence for other variables. This type of probability reflects our updated belief about a variable given that certain pieces of information are known. For instance, in the Student example, if we want to compute the marginal probability of the Difficulty variable given that a student received a C grade, we would calculate P(Difficulty∣Grade=C). This process involves updating the network with the observed evidence (Grade = C) and then computing the marginal probability for Difficulty. By considering the evidence, we refine our understanding of the probability distribution for the variable of interest, providing insights into how the observed data influences our beliefs about the other variables.\n",
        "\n",
        "To calculate the Marginal porbability of Difficulty given Grade = A:"
      ],
      "metadata": {
        "id": "12WfYw0OdWDU"
      }
    },
    {
      "cell_type": "code",
      "source": [
        "marginal_difficulty = infer.query(variables=['Diff'], evidence={'Grade': 'A'})\n",
        "print(marginal_difficulty)"
      ],
      "metadata": {
        "colab": {
          "base_uri": "https://localhost:8080/"
        },
        "id": "PLnz_1vgP5ly",
        "outputId": "c6e890a8-7256-45a5-b5ab-3afd1d74dbac"
      },
      "execution_count": null,
      "outputs": [
        {
          "output_type": "stream",
          "name": "stdout",
          "text": [
            "+------------+-------------+\n",
            "| Diff       |   phi(Diff) |\n",
            "+============+=============+\n",
            "| Diff(Easy) |      0.7956 |\n",
            "+------------+-------------+\n",
            "| Diff(Hard) |      0.2044 |\n",
            "+------------+-------------+\n"
          ]
        }
      ]
    },
    {
      "cell_type": "markdown",
      "source": [
        "Now try to calculate the marginal of SAT given Grade = B."
      ],
      "metadata": {
        "id": "sjRMG0pPP-H_"
      }
    },
    {
      "cell_type": "code",
      "source": [
        "# Answer here\n",
        "marginal_difficulty =\n",
        "print(marginal_difficulty)"
      ],
      "metadata": {
        "id": "vGzsl79QQH2G"
      },
      "execution_count": null,
      "outputs": []
    },
    {
      "cell_type": "markdown",
      "source": [
        "Similarly to before, this can be verified and visualised using the pgm package. Check that your answer matches the output below:"
      ],
      "metadata": {
        "id": "AoK0g2AHQlrw"
      }
    },
    {
      "cell_type": "code",
      "source": [
        "# Calculate the margionals with evidence\n",
        "evidence = {\"Grade\": \"C\"}\n",
        "marginals = pgm.get_marginals(model, evidence)\n",
        "print(marginals)\n",
        "\n",
        "# Visualise the margionals with evidence\n",
        "dot = pgm.visualize_marginals(model, evidence, marginals)\n",
        "display(dot)"
      ],
      "metadata": {
        "id": "i-cr-YJOdEVY",
        "colab": {
          "base_uri": "https://localhost:8080/",
          "height": 623
        },
        "outputId": "19b01f48-b40e-4320-c827-9b953370240e"
      },
      "execution_count": null,
      "outputs": [
        {
          "output_type": "stream",
          "name": "stdout",
          "text": [
            "{'Diff': array([0.37070938, 0.62929062]), 'Grade': array([0., 0., 1.]), 'Intel': array([0.92105263, 0.07894737]), 'Letter': array([0.99, 0.01]), 'SAT': array([0.89078947, 0.10921053])}\n"
          ]
        },
        {
          "output_type": "display_data",
          "data": {
            "image/svg+xml": "<?xml version=\"1.0\" encoding=\"UTF-8\" standalone=\"no\"?>\n<!DOCTYPE svg PUBLIC \"-//W3C//DTD SVG 1.1//EN\"\n \"http://www.w3.org/Graphics/SVG/1.1/DTD/svg11.dtd\">\n<!-- Generated by graphviz version 2.43.0 (0)\n -->\n<!-- Title: pgm Pages: 1 -->\n<svg width=\"294pt\" height=\"424pt\"\n viewBox=\"0.00 0.00 294.35 423.65\" xmlns=\"http://www.w3.org/2000/svg\" xmlns:xlink=\"http://www.w3.org/1999/xlink\">\n<g id=\"graph0\" class=\"graph\" transform=\"scale(1 1) rotate(0) translate(4 419.65)\">\n<title>pgm</title>\n<polygon fill=\"white\" stroke=\"transparent\" points=\"-4,4 -4,-419.65 290.35,-419.65 290.35,4 -4,4\"/>\n<!-- Diff -->\n<g id=\"node1\" class=\"node\">\n<title>Diff</title>\n<ellipse fill=\"none\" stroke=\"black\" cx=\"69.3\" cy=\"-358.38\" rx=\"64.19\" ry=\"57.05\"/>\n<polygon fill=\"none\" stroke=\"black\" points=\"35.3,-370.38 35.3,-391.38 104.3,-391.38 104.3,-370.38 35.3,-370.38\"/>\n<text text-anchor=\"start\" x=\"54.3\" y=\"-377.18\" font-family=\"Times,serif\" font-size=\"14.00\"> Diff </text>\n<polygon fill=\"none\" stroke=\"black\" points=\"35.3,-347.38 35.3,-368.38 68.3,-368.38 68.3,-347.38 35.3,-347.38\"/>\n<text text-anchor=\"start\" x=\"38.3\" y=\"-354.18\" font-family=\"Times,serif\" font-size=\"14.00\">Easy</text>\n<polygon fill=\"none\" stroke=\"black\" points=\"70.3,-347.38 70.3,-368.38 104.3,-368.38 104.3,-347.38 70.3,-347.38\"/>\n<text text-anchor=\"start\" x=\"73.3\" y=\"-354.18\" font-family=\"Times,serif\" font-size=\"14.00\">Hard</text>\n<polygon fill=\"none\" stroke=\"black\" points=\"35.3,-324.38 35.3,-345.38 68.3,-345.38 68.3,-324.38 35.3,-324.38\"/>\n<text text-anchor=\"start\" x=\"39.3\" y=\"-331.18\" font-family=\"Times,serif\" font-size=\"14.00\">0.37</text>\n<polygon fill=\"none\" stroke=\"black\" points=\"70.3,-324.38 70.3,-345.38 104.3,-345.38 104.3,-324.38 70.3,-324.38\"/>\n<text text-anchor=\"start\" x=\"74.8\" y=\"-331.18\" font-family=\"Times,serif\" font-size=\"14.00\">0.63</text>\n<polygon fill=\"none\" stroke=\"black\" points=\"31.8,-321.88 31.8,-394.88 106.8,-394.88 106.8,-321.88 31.8,-321.88\"/>\n</g>\n<!-- Grade -->\n<g id=\"node2\" class=\"node\">\n<title>Grade</title>\n<ellipse fill=\"none\" stroke=\"black\" cx=\"69.3\" cy=\"-207.83\" rx=\"69.09\" ry=\"57.05\"/>\n<polygon fill=\"#bebebe\" stroke=\"transparent\" points=\"31.3,-219.83 31.3,-240.83 107.3,-240.83 107.3,-219.83 31.3,-219.83\"/>\n<polygon fill=\"none\" stroke=\"black\" points=\"31.3,-219.83 31.3,-240.83 107.3,-240.83 107.3,-219.83 31.3,-219.83\"/>\n<text text-anchor=\"start\" x=\"48.8\" y=\"-226.63\" font-family=\"Times,serif\" font-size=\"14.00\"> Grade </text>\n<polygon fill=\"none\" stroke=\"black\" points=\"31.3,-196.83 31.3,-217.83 55.3,-217.83 55.3,-196.83 31.3,-196.83\"/>\n<text text-anchor=\"start\" x=\"38.3\" y=\"-203.63\" font-family=\"Times,serif\" font-size=\"14.00\">A</text>\n<polygon fill=\"none\" stroke=\"black\" points=\"57.3,-196.83 57.3,-217.83 81.3,-217.83 81.3,-196.83 57.3,-196.83\"/>\n<text text-anchor=\"start\" x=\"64.3\" y=\"-203.63\" font-family=\"Times,serif\" font-size=\"14.00\">B</text>\n<polygon fill=\"none\" stroke=\"black\" points=\"83.3,-196.83 83.3,-217.83 107.3,-217.83 107.3,-196.83 83.3,-196.83\"/>\n<text text-anchor=\"start\" x=\"90.3\" y=\"-203.63\" font-family=\"Times,serif\" font-size=\"14.00\">C</text>\n<polygon fill=\"none\" stroke=\"black\" points=\"31.3,-173.83 31.3,-194.83 55.3,-194.83 55.3,-173.83 31.3,-173.83\"/>\n<text text-anchor=\"start\" x=\"34.3\" y=\"-180.63\" font-family=\"Times,serif\" font-size=\"14.00\">0.0</text>\n<polygon fill=\"none\" stroke=\"black\" points=\"57.3,-173.83 57.3,-194.83 81.3,-194.83 81.3,-173.83 57.3,-173.83\"/>\n<text text-anchor=\"start\" x=\"60.3\" y=\"-180.63\" font-family=\"Times,serif\" font-size=\"14.00\">0.0</text>\n<polygon fill=\"none\" stroke=\"black\" points=\"83.3,-173.83 83.3,-194.83 107.3,-194.83 107.3,-173.83 83.3,-173.83\"/>\n<text text-anchor=\"start\" x=\"86.3\" y=\"-180.63\" font-family=\"Times,serif\" font-size=\"14.00\">1.0</text>\n<polygon fill=\"none\" stroke=\"black\" points=\"28.3,-171.33 28.3,-244.33 110.3,-244.33 110.3,-171.33 28.3,-171.33\"/>\n</g>\n<!-- Diff&#45;&gt;Grade -->\n<g id=\"edge1\" class=\"edge\">\n<title>Diff&#45;&gt;Grade</title>\n<path fill=\"none\" stroke=\"black\" d=\"M69.3,-300.79C69.3,-292.52 69.3,-283.93 69.3,-275.47\"/>\n<polygon fill=\"black\" stroke=\"black\" points=\"72.8,-275.25 69.3,-265.25 65.8,-275.25 72.8,-275.25\"/>\n</g>\n<!-- Letter -->\n<g id=\"node4\" class=\"node\">\n<title>Letter</title>\n<ellipse fill=\"none\" stroke=\"black\" cx=\"69.3\" cy=\"-57.28\" rx=\"65.11\" ry=\"57.05\"/>\n<polygon fill=\"none\" stroke=\"black\" points=\"34.3,-69.28 34.3,-90.28 104.3,-90.28 104.3,-69.28 34.3,-69.28\"/>\n<text text-anchor=\"start\" x=\"49.3\" y=\"-76.08\" font-family=\"Times,serif\" font-size=\"14.00\"> Letter </text>\n<polygon fill=\"none\" stroke=\"black\" points=\"34.3,-46.28 34.3,-67.28 65.3,-67.28 65.3,-46.28 34.3,-46.28\"/>\n<text text-anchor=\"start\" x=\"38.8\" y=\"-53.08\" font-family=\"Times,serif\" font-size=\"14.00\">Bad</text>\n<polygon fill=\"none\" stroke=\"black\" points=\"67.3,-46.28 67.3,-67.28 104.3,-67.28 104.3,-46.28 67.3,-46.28\"/>\n<text text-anchor=\"start\" x=\"70.3\" y=\"-53.08\" font-family=\"Times,serif\" font-size=\"14.00\">Good</text>\n<polygon fill=\"none\" stroke=\"black\" points=\"34.3,-23.28 34.3,-44.28 65.3,-44.28 65.3,-23.28 34.3,-23.28\"/>\n<text text-anchor=\"start\" x=\"37.3\" y=\"-30.08\" font-family=\"Times,serif\" font-size=\"14.00\">0.99</text>\n<polygon fill=\"none\" stroke=\"black\" points=\"67.3,-23.28 67.3,-44.28 104.3,-44.28 104.3,-23.28 67.3,-23.28\"/>\n<text text-anchor=\"start\" x=\"73.3\" y=\"-30.08\" font-family=\"Times,serif\" font-size=\"14.00\">0.01</text>\n<polygon fill=\"none\" stroke=\"black\" points=\"31.3,-20.78 31.3,-93.78 107.3,-93.78 107.3,-20.78 31.3,-20.78\"/>\n</g>\n<!-- Grade&#45;&gt;Letter -->\n<g id=\"edge2\" class=\"edge\">\n<title>Grade&#45;&gt;Letter</title>\n<path fill=\"none\" stroke=\"black\" d=\"M69.3,-150.24C69.3,-141.96 69.3,-133.38 69.3,-124.92\"/>\n<polygon fill=\"black\" stroke=\"black\" points=\"72.8,-124.7 69.3,-114.7 65.8,-124.7 72.8,-124.7\"/>\n</g>\n<!-- Intel -->\n<g id=\"node3\" class=\"node\">\n<title>Intel</title>\n<ellipse fill=\"none\" stroke=\"black\" cx=\"217.3\" cy=\"-358.38\" rx=\"62.87\" ry=\"57.05\"/>\n<polygon fill=\"none\" stroke=\"black\" points=\"184.3,-370.38 184.3,-391.38 251.3,-391.38 251.3,-370.38 184.3,-370.38\"/>\n<text text-anchor=\"start\" x=\"201.3\" y=\"-377.18\" font-family=\"Times,serif\" font-size=\"14.00\"> Intel </text>\n<polygon fill=\"none\" stroke=\"black\" points=\"184.3,-347.38 184.3,-368.38 215.3,-368.38 215.3,-347.38 184.3,-347.38\"/>\n<text text-anchor=\"start\" x=\"187.3\" y=\"-354.18\" font-family=\"Times,serif\" font-size=\"14.00\">Low</text>\n<polygon fill=\"none\" stroke=\"black\" points=\"217.3,-347.38 217.3,-368.38 251.3,-368.38 251.3,-347.38 217.3,-347.38\"/>\n<text text-anchor=\"start\" x=\"220.3\" y=\"-354.18\" font-family=\"Times,serif\" font-size=\"14.00\">High</text>\n<polygon fill=\"none\" stroke=\"black\" points=\"184.3,-324.38 184.3,-345.38 215.3,-345.38 215.3,-324.38 184.3,-324.38\"/>\n<text text-anchor=\"start\" x=\"187.3\" y=\"-331.18\" font-family=\"Times,serif\" font-size=\"14.00\">0.92</text>\n<polygon fill=\"none\" stroke=\"black\" points=\"217.3,-324.38 217.3,-345.38 251.3,-345.38 251.3,-324.38 217.3,-324.38\"/>\n<text text-anchor=\"start\" x=\"221.8\" y=\"-331.18\" font-family=\"Times,serif\" font-size=\"14.00\">0.08</text>\n<polygon fill=\"none\" stroke=\"black\" points=\"180.8,-321.88 180.8,-394.88 253.8,-394.88 253.8,-321.88 180.8,-321.88\"/>\n</g>\n<!-- Intel&#45;&gt;Grade -->\n<g id=\"edge3\" class=\"edge\">\n<title>Intel&#45;&gt;Grade</title>\n<path fill=\"none\" stroke=\"black\" d=\"M175.28,-315.21C158.23,-298.09 138.38,-278.17 120.49,-260.21\"/>\n<polygon fill=\"black\" stroke=\"black\" points=\"122.5,-257.27 112.96,-252.66 117.54,-262.21 122.5,-257.27\"/>\n</g>\n<!-- SAT -->\n<g id=\"node5\" class=\"node\">\n<title>SAT</title>\n<ellipse fill=\"none\" stroke=\"black\" cx=\"221.3\" cy=\"-207.83\" rx=\"65.11\" ry=\"57.05\"/>\n<polygon fill=\"none\" stroke=\"black\" points=\"186.3,-219.83 186.3,-240.83 256.3,-240.83 256.3,-219.83 186.3,-219.83\"/>\n<text text-anchor=\"start\" x=\"205.3\" y=\"-226.63\" font-family=\"Times,serif\" font-size=\"14.00\"> SAT </text>\n<polygon fill=\"none\" stroke=\"black\" points=\"186.3,-196.83 186.3,-217.83 217.3,-217.83 217.3,-196.83 186.3,-196.83\"/>\n<text text-anchor=\"start\" x=\"190.8\" y=\"-203.63\" font-family=\"Times,serif\" font-size=\"14.00\">Bad</text>\n<polygon fill=\"none\" stroke=\"black\" points=\"219.3,-196.83 219.3,-217.83 256.3,-217.83 256.3,-196.83 219.3,-196.83\"/>\n<text text-anchor=\"start\" x=\"222.3\" y=\"-203.63\" font-family=\"Times,serif\" font-size=\"14.00\">Good</text>\n<polygon fill=\"none\" stroke=\"black\" points=\"186.3,-173.83 186.3,-194.83 217.3,-194.83 217.3,-173.83 186.3,-173.83\"/>\n<text text-anchor=\"start\" x=\"189.3\" y=\"-180.63\" font-family=\"Times,serif\" font-size=\"14.00\">0.89</text>\n<polygon fill=\"none\" stroke=\"black\" points=\"219.3,-173.83 219.3,-194.83 256.3,-194.83 256.3,-173.83 219.3,-173.83\"/>\n<text text-anchor=\"start\" x=\"225.3\" y=\"-180.63\" font-family=\"Times,serif\" font-size=\"14.00\">0.11</text>\n<polygon fill=\"none\" stroke=\"black\" points=\"183.3,-171.33 183.3,-244.33 259.3,-244.33 259.3,-171.33 183.3,-171.33\"/>\n</g>\n<!-- Intel&#45;&gt;SAT -->\n<g id=\"edge4\" class=\"edge\">\n<title>Intel&#45;&gt;SAT</title>\n<path fill=\"none\" stroke=\"black\" d=\"M218.82,-300.79C219.04,-292.52 219.27,-283.93 219.5,-275.47\"/>\n<polygon fill=\"black\" stroke=\"black\" points=\"223.01,-275.34 219.78,-265.25 216.01,-275.16 223.01,-275.34\"/>\n</g>\n</g>\n</svg>\n",
            "text/plain": [
              "<graphviz.graphs.Digraph at 0x7978643f59f0>"
            ]
          },
          "metadata": {}
        }
      ]
    },
    {
      "cell_type": "markdown",
      "source": [
        "Try to calculate the marginal for Difficulty with evidence Grade = C and SAT = Good. Verify this using the pgm package."
      ],
      "metadata": {
        "id": "VvnMGUy-Q4Kg"
      }
    },
    {
      "cell_type": "code",
      "source": [
        "# Calculate the margional for Difficulty with both Grade and SAT as evidence\n",
        "\n",
        "# Verify your answer using the pgm package\n",
        "\n",
        "# Visualise the marginals with the pgm package\n"
      ],
      "metadata": {
        "id": "5-cerzZfRU3E"
      },
      "execution_count": null,
      "outputs": []
    },
    {
      "cell_type": "markdown",
      "source": [
        "### MAP (Maximum A Posteriori) in Bayes Net's\n",
        "\n",
        "MAP inference is a method used in Bayesian Networks to find the most probable state of a set of variables given some observed evidence. Unlike marginal probability, which gives the probability distribution of a variable, MAP inference focuses on identifying the specific values of variables that maximize the posterior probability. Essentially, it helps us determine the most likely configuration of variables given the evidence we have. This is particularly useful for making decisions or predictions based on the observed data.\n",
        "\n",
        "Below, there is an example which finds the most likely difficulty given the grade is A:"
      ],
      "metadata": {
        "id": "o3ydb3p5S2oG"
      }
    },
    {
      "cell_type": "code",
      "source": [
        "# Perform MAP inference\n",
        "map_diff_given_grade_a = infer.map_query(variables=['Diff'], evidence={'Grade': 'A'})\n",
        "print(\"Most likely difficulty given Grade = A:\", map_diff_given_grade_a)"
      ],
      "metadata": {
        "colab": {
          "base_uri": "https://localhost:8080/",
          "height": 98,
          "referenced_widgets": [
            "36f8d9590ea34cb1a2baaafc196be110",
            "4d6ec182632c434d875a62a1e953f03b",
            "5c6ca5cde9be4a00a63b49afe174042d",
            "bf6bd7a1b60343619e523321abeaf238",
            "465ecbdba05043c4b07771f9d74083ca",
            "ba9d9d3794ac471180ce7d12aeadcb82",
            "51f6f1ea686f480eb50ec351a178ae41",
            "daec7ab2627c4c439186d4e286a86e08",
            "f55843c0b32a434ca99b7e61019f1ba8",
            "6c6b0415f684407b8b0dd1b17371865b",
            "92dceeda2ba04ee6bdfc2929f698e194",
            "502e4c52d4164005a313ef03c7ad51a4",
            "1cdfe6c5ad3d4c7e8d82c6b59e248ba6",
            "5bbf3ce3451547c5b04ffd9791ce5f17",
            "251daf5a50f844508d4020313cd64ffd",
            "db3824e4dfaa44a2ae2dc8d76a4367d9",
            "47e5772905ec4d9ab7e8a9a958d5f275",
            "2c186171b6344bfba5c1ec73a527df21",
            "f0c7d91821c04e15b4c8c29cd3c42348",
            "47593c5f7f694431b0397cb1fae1ef6d",
            "8ab70f69a977464caf75fcdb45dda027",
            "17c0fbcad9e2437492c7b99af96ad2af"
          ]
        },
        "id": "_M1tap2-T_BS",
        "outputId": "c4b4c7ec-4126-4af0-f570-9935792ad5e9"
      },
      "execution_count": null,
      "outputs": [
        {
          "output_type": "display_data",
          "data": {
            "text/plain": [
              "  0%|          | 0/1 [00:00<?, ?it/s]"
            ],
            "application/vnd.jupyter.widget-view+json": {
              "version_major": 2,
              "version_minor": 0,
              "model_id": "36f8d9590ea34cb1a2baaafc196be110"
            }
          },
          "metadata": {}
        },
        {
          "output_type": "display_data",
          "data": {
            "text/plain": [
              "  0%|          | 0/1 [00:00<?, ?it/s]"
            ],
            "application/vnd.jupyter.widget-view+json": {
              "version_major": 2,
              "version_minor": 0,
              "model_id": "502e4c52d4164005a313ef03c7ad51a4"
            }
          },
          "metadata": {}
        },
        {
          "output_type": "stream",
          "name": "stdout",
          "text": [
            "Most likely difficulty given Grade = A: {'Diff': 'Easy'}\n"
          ]
        }
      ]
    },
    {
      "cell_type": "markdown",
      "source": [
        "Try to have a go at finding the most probable difficulty and inteligence given grade=B and SAT=High"
      ],
      "metadata": {
        "id": "QGtBKSjVULny"
      }
    },
    {
      "cell_type": "code",
      "source": [
        "# Perform MAP inference\n",
        "map_vars_given_evidence =\n",
        "print(\"Most likely Intelligence given Grade = B\", map_vars_given_evidence)\n"
      ],
      "metadata": {
        "id": "qZleNJ6AUYtf"
      },
      "execution_count": null,
      "outputs": []
    },
    {
      "cell_type": "code",
      "source": [
        "# Model sols (Remove before publishing):\n",
        "# Perform MAP inference\n",
        "map_vars_given_evidence = infer.map_query(variables=['Intel'], evidence={'Grade': 'B'})\n",
        "print(\"Most likely Intelligence given Grade = B\", map_vars_given_evidence)\n"
      ],
      "metadata": {
        "colab": {
          "base_uri": "https://localhost:8080/",
          "height": 98,
          "referenced_widgets": [
            "74a1573dbd0f432ea422d486d74f4df7",
            "c260efd8fb904f85b42c9b6cd13918c9",
            "06d5c6a3cab14298a17b88feb9119f0b",
            "bc11307b3670447bb1d331f83338a47f",
            "c90f162c15394dc3829b3db2ab354bd6",
            "d22e00992d0f40cbaf2739ccbbf1d117",
            "c4ee262dfd824d23bb92f39788a30810",
            "ea53e0cde534487ba7c8c72949d26f21",
            "ba8124850f234318bcf935f8799cafdc",
            "5e92fdf7bc894210acf084c9b7851c39",
            "18179ac13bca41058b1354f5350b351b",
            "2cffcf4657b246df978ca5680edf5da0",
            "7a78aad7891f4d50b3667729f1435aad",
            "0ade2b8200f2439186320e31feaafcc7",
            "5bf39eb8a7e2488c8613925f3be683f4",
            "8f5c6757edb04799b50a7579fe2c4bb6",
            "defb304eb29a4673bcf0d9c639034d06",
            "cf822d8b824e468bafac19d18c86d836",
            "63f903e0627342b9acdbb7f97f9d52c7",
            "d0f0b426e7bf4cf6b3ca284641d0443d",
            "dcb960b69ba44460afedcc3e3eb09c8e",
            "09ada291c9e24096a4575c0c6fac22a5"
          ]
        },
        "id": "ctcZfqjMUS2h",
        "outputId": "c552a52b-e4a7-4569-8c68-a1c0980d0d0f"
      },
      "execution_count": null,
      "outputs": [
        {
          "output_type": "display_data",
          "data": {
            "text/plain": [
              "  0%|          | 0/1 [00:00<?, ?it/s]"
            ],
            "application/vnd.jupyter.widget-view+json": {
              "version_major": 2,
              "version_minor": 0,
              "model_id": "74a1573dbd0f432ea422d486d74f4df7"
            }
          },
          "metadata": {}
        },
        {
          "output_type": "display_data",
          "data": {
            "text/plain": [
              "  0%|          | 0/1 [00:00<?, ?it/s]"
            ],
            "application/vnd.jupyter.widget-view+json": {
              "version_major": 2,
              "version_minor": 0,
              "model_id": "2cffcf4657b246df978ca5680edf5da0"
            }
          },
          "metadata": {}
        },
        {
          "output_type": "stream",
          "name": "stdout",
          "text": [
            "Most likely Intelligence given Grade = B {'Intel': 'Low'}\n"
          ]
        }
      ]
    },
    {
      "cell_type": "markdown",
      "source": [
        "## Learning Parameters in Bayesian Networks\n",
        "\n",
        "\n",
        "In Bayesian Networks, parameter learning refers to the process of estimating the Conditional Probability Distributions (CPDs) based on data. These parameters define how the probability of each variable depends on its parents in the network. Learning the parameters is crucial for building accurate models that reflect real-world data. There are two main approaches to parameter learning:\n",
        "\n",
        "1. **Maximum Likelihood Estimation (MLE)**: This approach estimates the parameters by maximizing the likelihood of the observed data given the model. MLE is typically used when you have a complete dataset and want to find the parameters that best fit this data.\n",
        "\n",
        "2. **Bayesian Estimation**: This approach incorporates prior distributions on the parameters and updates these priors based on the observed data to obtain posterior distributions. Bayesian Estimation is useful when you have prior beliefs about the parameters and want to refine these beliefs with data."
      ],
      "metadata": {
        "id": "Bd2PdpDug6Qi"
      }
    },
    {
      "cell_type": "markdown",
      "source": [
        "### **Maximum Likelihood Paramter Estimation**\n",
        "\n",
        "Maximum Likelihood Estimation estimates the parameters of a Bayesian Network by finding the parameter values that maximize the likelihood of the observed data. In other words, MLE chooses the parameters that make the observed data most probable under the model.\n",
        "\n",
        "We begin by generating a dataset for the student model:"
      ],
      "metadata": {
        "id": "qkQfUsgX1rZG"
      }
    },
    {
      "cell_type": "code",
      "source": [
        "from pgmpy.sampling import BayesianModelSampling\n",
        "samples = BayesianModelSampling(model).forward_sample(size=int(1e5))\n"
      ],
      "metadata": {
        "colab": {
          "base_uri": "https://localhost:8080/",
          "height": 49,
          "referenced_widgets": [
            "cac3f7417154429d92a9d7a645876c61",
            "738ad9c9baf845cebd1fb2314e7d7787",
            "50866a93479a4765b9d2c17fcc1b8881",
            "ae9a53e5b4c34d028e0f77afaf70b11e",
            "c1bfc08ab4c74c89a9e441491b1f1375",
            "15a9db9bd702462d8458e8b7eef25171",
            "958803de2a824af699ac6f0092134b9f",
            "48723e32f52a4b089193a7f5f15f2e8e",
            "ae45ed5bceb24a118170230228e75f21",
            "f88dabc261d24817afeaf25e4737e783",
            "8a01fc556eed4737b8285311429bb3cc"
          ]
        },
        "id": "o3ULe1yb1tcC",
        "outputId": "6c942235-8dd3-4dfd-e430-5494a494b784"
      },
      "execution_count": null,
      "outputs": [
        {
          "output_type": "display_data",
          "data": {
            "text/plain": [
              "  0%|          | 0/5 [00:00<?, ?it/s]"
            ],
            "application/vnd.jupyter.widget-view+json": {
              "version_major": 2,
              "version_minor": 0,
              "model_id": "cac3f7417154429d92a9d7a645876c61"
            }
          },
          "metadata": {}
        }
      ]
    },
    {
      "cell_type": "markdown",
      "source": [
        "We can visualise some of the data using the head() function."
      ],
      "metadata": {
        "id": "AzwGZgyQawoW"
      }
    },
    {
      "cell_type": "code",
      "source": [
        "samples.head()"
      ],
      "metadata": {
        "colab": {
          "base_uri": "https://localhost:8080/",
          "height": 204
        },
        "id": "HU51GdyZavvn",
        "outputId": "6b031e23-d90b-4e3e-d0e0-dae0dd1adc8c"
      },
      "execution_count": null,
      "outputs": [
        {
          "output_type": "execute_result",
          "data": {
            "text/plain": [
              "   Diff Grade Intel Letter   SAT\n",
              "0  Easy     C   Low    Bad   Bad\n",
              "1  Easy     C   Low    Bad   Bad\n",
              "2  Easy     A  High    Bad  Good\n",
              "3  Hard     A  High   Good  Good\n",
              "4  Easy     A  High   Good  Good"
            ],
            "text/html": [
              "\n",
              "  <div id=\"df-988bd32a-6b2f-4e57-a394-1244fbf41fa7\" class=\"colab-df-container\">\n",
              "    <div>\n",
              "<style scoped>\n",
              "    .dataframe tbody tr th:only-of-type {\n",
              "        vertical-align: middle;\n",
              "    }\n",
              "\n",
              "    .dataframe tbody tr th {\n",
              "        vertical-align: top;\n",
              "    }\n",
              "\n",
              "    .dataframe thead th {\n",
              "        text-align: right;\n",
              "    }\n",
              "</style>\n",
              "<table border=\"1\" class=\"dataframe\">\n",
              "  <thead>\n",
              "    <tr style=\"text-align: right;\">\n",
              "      <th></th>\n",
              "      <th>Diff</th>\n",
              "      <th>Grade</th>\n",
              "      <th>Intel</th>\n",
              "      <th>Letter</th>\n",
              "      <th>SAT</th>\n",
              "    </tr>\n",
              "  </thead>\n",
              "  <tbody>\n",
              "    <tr>\n",
              "      <th>0</th>\n",
              "      <td>Easy</td>\n",
              "      <td>C</td>\n",
              "      <td>Low</td>\n",
              "      <td>Bad</td>\n",
              "      <td>Bad</td>\n",
              "    </tr>\n",
              "    <tr>\n",
              "      <th>1</th>\n",
              "      <td>Easy</td>\n",
              "      <td>C</td>\n",
              "      <td>Low</td>\n",
              "      <td>Bad</td>\n",
              "      <td>Bad</td>\n",
              "    </tr>\n",
              "    <tr>\n",
              "      <th>2</th>\n",
              "      <td>Easy</td>\n",
              "      <td>A</td>\n",
              "      <td>High</td>\n",
              "      <td>Bad</td>\n",
              "      <td>Good</td>\n",
              "    </tr>\n",
              "    <tr>\n",
              "      <th>3</th>\n",
              "      <td>Hard</td>\n",
              "      <td>A</td>\n",
              "      <td>High</td>\n",
              "      <td>Good</td>\n",
              "      <td>Good</td>\n",
              "    </tr>\n",
              "    <tr>\n",
              "      <th>4</th>\n",
              "      <td>Easy</td>\n",
              "      <td>A</td>\n",
              "      <td>High</td>\n",
              "      <td>Good</td>\n",
              "      <td>Good</td>\n",
              "    </tr>\n",
              "  </tbody>\n",
              "</table>\n",
              "</div>\n",
              "    <div class=\"colab-df-buttons\">\n",
              "\n",
              "  <div class=\"colab-df-container\">\n",
              "    <button class=\"colab-df-convert\" onclick=\"convertToInteractive('df-988bd32a-6b2f-4e57-a394-1244fbf41fa7')\"\n",
              "            title=\"Convert this dataframe to an interactive table.\"\n",
              "            style=\"display:none;\">\n",
              "\n",
              "  <svg xmlns=\"http://www.w3.org/2000/svg\" height=\"24px\" viewBox=\"0 -960 960 960\">\n",
              "    <path d=\"M120-120v-720h720v720H120Zm60-500h600v-160H180v160Zm220 220h160v-160H400v160Zm0 220h160v-160H400v160ZM180-400h160v-160H180v160Zm440 0h160v-160H620v160ZM180-180h160v-160H180v160Zm440 0h160v-160H620v160Z\"/>\n",
              "  </svg>\n",
              "    </button>\n",
              "\n",
              "  <style>\n",
              "    .colab-df-container {\n",
              "      display:flex;\n",
              "      gap: 12px;\n",
              "    }\n",
              "\n",
              "    .colab-df-convert {\n",
              "      background-color: #E8F0FE;\n",
              "      border: none;\n",
              "      border-radius: 50%;\n",
              "      cursor: pointer;\n",
              "      display: none;\n",
              "      fill: #1967D2;\n",
              "      height: 32px;\n",
              "      padding: 0 0 0 0;\n",
              "      width: 32px;\n",
              "    }\n",
              "\n",
              "    .colab-df-convert:hover {\n",
              "      background-color: #E2EBFA;\n",
              "      box-shadow: 0px 1px 2px rgba(60, 64, 67, 0.3), 0px 1px 3px 1px rgba(60, 64, 67, 0.15);\n",
              "      fill: #174EA6;\n",
              "    }\n",
              "\n",
              "    .colab-df-buttons div {\n",
              "      margin-bottom: 4px;\n",
              "    }\n",
              "\n",
              "    [theme=dark] .colab-df-convert {\n",
              "      background-color: #3B4455;\n",
              "      fill: #D2E3FC;\n",
              "    }\n",
              "\n",
              "    [theme=dark] .colab-df-convert:hover {\n",
              "      background-color: #434B5C;\n",
              "      box-shadow: 0px 1px 3px 1px rgba(0, 0, 0, 0.15);\n",
              "      filter: drop-shadow(0px 1px 2px rgba(0, 0, 0, 0.3));\n",
              "      fill: #FFFFFF;\n",
              "    }\n",
              "  </style>\n",
              "\n",
              "    <script>\n",
              "      const buttonEl =\n",
              "        document.querySelector('#df-988bd32a-6b2f-4e57-a394-1244fbf41fa7 button.colab-df-convert');\n",
              "      buttonEl.style.display =\n",
              "        google.colab.kernel.accessAllowed ? 'block' : 'none';\n",
              "\n",
              "      async function convertToInteractive(key) {\n",
              "        const element = document.querySelector('#df-988bd32a-6b2f-4e57-a394-1244fbf41fa7');\n",
              "        const dataTable =\n",
              "          await google.colab.kernel.invokeFunction('convertToInteractive',\n",
              "                                                    [key], {});\n",
              "        if (!dataTable) return;\n",
              "\n",
              "        const docLinkHtml = 'Like what you see? Visit the ' +\n",
              "          '<a target=\"_blank\" href=https://colab.research.google.com/notebooks/data_table.ipynb>data table notebook</a>'\n",
              "          + ' to learn more about interactive tables.';\n",
              "        element.innerHTML = '';\n",
              "        dataTable['output_type'] = 'display_data';\n",
              "        await google.colab.output.renderOutput(dataTable, element);\n",
              "        const docLink = document.createElement('div');\n",
              "        docLink.innerHTML = docLinkHtml;\n",
              "        element.appendChild(docLink);\n",
              "      }\n",
              "    </script>\n",
              "  </div>\n",
              "\n",
              "\n",
              "<div id=\"df-167791e0-bc70-42ca-b9cf-f3dd2ea8665f\">\n",
              "  <button class=\"colab-df-quickchart\" onclick=\"quickchart('df-167791e0-bc70-42ca-b9cf-f3dd2ea8665f')\"\n",
              "            title=\"Suggest charts\"\n",
              "            style=\"display:none;\">\n",
              "\n",
              "<svg xmlns=\"http://www.w3.org/2000/svg\" height=\"24px\"viewBox=\"0 0 24 24\"\n",
              "     width=\"24px\">\n",
              "    <g>\n",
              "        <path d=\"M19 3H5c-1.1 0-2 .9-2 2v14c0 1.1.9 2 2 2h14c1.1 0 2-.9 2-2V5c0-1.1-.9-2-2-2zM9 17H7v-7h2v7zm4 0h-2V7h2v10zm4 0h-2v-4h2v4z\"/>\n",
              "    </g>\n",
              "</svg>\n",
              "  </button>\n",
              "\n",
              "<style>\n",
              "  .colab-df-quickchart {\n",
              "      --bg-color: #E8F0FE;\n",
              "      --fill-color: #1967D2;\n",
              "      --hover-bg-color: #E2EBFA;\n",
              "      --hover-fill-color: #174EA6;\n",
              "      --disabled-fill-color: #AAA;\n",
              "      --disabled-bg-color: #DDD;\n",
              "  }\n",
              "\n",
              "  [theme=dark] .colab-df-quickchart {\n",
              "      --bg-color: #3B4455;\n",
              "      --fill-color: #D2E3FC;\n",
              "      --hover-bg-color: #434B5C;\n",
              "      --hover-fill-color: #FFFFFF;\n",
              "      --disabled-bg-color: #3B4455;\n",
              "      --disabled-fill-color: #666;\n",
              "  }\n",
              "\n",
              "  .colab-df-quickchart {\n",
              "    background-color: var(--bg-color);\n",
              "    border: none;\n",
              "    border-radius: 50%;\n",
              "    cursor: pointer;\n",
              "    display: none;\n",
              "    fill: var(--fill-color);\n",
              "    height: 32px;\n",
              "    padding: 0;\n",
              "    width: 32px;\n",
              "  }\n",
              "\n",
              "  .colab-df-quickchart:hover {\n",
              "    background-color: var(--hover-bg-color);\n",
              "    box-shadow: 0 1px 2px rgba(60, 64, 67, 0.3), 0 1px 3px 1px rgba(60, 64, 67, 0.15);\n",
              "    fill: var(--button-hover-fill-color);\n",
              "  }\n",
              "\n",
              "  .colab-df-quickchart-complete:disabled,\n",
              "  .colab-df-quickchart-complete:disabled:hover {\n",
              "    background-color: var(--disabled-bg-color);\n",
              "    fill: var(--disabled-fill-color);\n",
              "    box-shadow: none;\n",
              "  }\n",
              "\n",
              "  .colab-df-spinner {\n",
              "    border: 2px solid var(--fill-color);\n",
              "    border-color: transparent;\n",
              "    border-bottom-color: var(--fill-color);\n",
              "    animation:\n",
              "      spin 1s steps(1) infinite;\n",
              "  }\n",
              "\n",
              "  @keyframes spin {\n",
              "    0% {\n",
              "      border-color: transparent;\n",
              "      border-bottom-color: var(--fill-color);\n",
              "      border-left-color: var(--fill-color);\n",
              "    }\n",
              "    20% {\n",
              "      border-color: transparent;\n",
              "      border-left-color: var(--fill-color);\n",
              "      border-top-color: var(--fill-color);\n",
              "    }\n",
              "    30% {\n",
              "      border-color: transparent;\n",
              "      border-left-color: var(--fill-color);\n",
              "      border-top-color: var(--fill-color);\n",
              "      border-right-color: var(--fill-color);\n",
              "    }\n",
              "    40% {\n",
              "      border-color: transparent;\n",
              "      border-right-color: var(--fill-color);\n",
              "      border-top-color: var(--fill-color);\n",
              "    }\n",
              "    60% {\n",
              "      border-color: transparent;\n",
              "      border-right-color: var(--fill-color);\n",
              "    }\n",
              "    80% {\n",
              "      border-color: transparent;\n",
              "      border-right-color: var(--fill-color);\n",
              "      border-bottom-color: var(--fill-color);\n",
              "    }\n",
              "    90% {\n",
              "      border-color: transparent;\n",
              "      border-bottom-color: var(--fill-color);\n",
              "    }\n",
              "  }\n",
              "</style>\n",
              "\n",
              "  <script>\n",
              "    async function quickchart(key) {\n",
              "      const quickchartButtonEl =\n",
              "        document.querySelector('#' + key + ' button');\n",
              "      quickchartButtonEl.disabled = true;  // To prevent multiple clicks.\n",
              "      quickchartButtonEl.classList.add('colab-df-spinner');\n",
              "      try {\n",
              "        const charts = await google.colab.kernel.invokeFunction(\n",
              "            'suggestCharts', [key], {});\n",
              "      } catch (error) {\n",
              "        console.error('Error during call to suggestCharts:', error);\n",
              "      }\n",
              "      quickchartButtonEl.classList.remove('colab-df-spinner');\n",
              "      quickchartButtonEl.classList.add('colab-df-quickchart-complete');\n",
              "    }\n",
              "    (() => {\n",
              "      let quickchartButtonEl =\n",
              "        document.querySelector('#df-167791e0-bc70-42ca-b9cf-f3dd2ea8665f button');\n",
              "      quickchartButtonEl.style.display =\n",
              "        google.colab.kernel.accessAllowed ? 'block' : 'none';\n",
              "    })();\n",
              "  </script>\n",
              "</div>\n",
              "\n",
              "    </div>\n",
              "  </div>\n"
            ],
            "application/vnd.google.colaboratory.intrinsic+json": {
              "type": "dataframe",
              "variable_name": "samples",
              "summary": "{\n  \"name\": \"samples\",\n  \"rows\": 100000,\n  \"fields\": [\n    {\n      \"column\": \"Diff\",\n      \"properties\": {\n        \"dtype\": \"category\",\n        \"num_unique_values\": 2,\n        \"samples\": [\n          \"Hard\",\n          \"Easy\"\n        ],\n        \"semantic_type\": \"\",\n        \"description\": \"\"\n      }\n    },\n    {\n      \"column\": \"Grade\",\n      \"properties\": {\n        \"dtype\": \"category\",\n        \"num_unique_values\": 3,\n        \"samples\": [\n          \"C\",\n          \"A\"\n        ],\n        \"semantic_type\": \"\",\n        \"description\": \"\"\n      }\n    },\n    {\n      \"column\": \"Intel\",\n      \"properties\": {\n        \"dtype\": \"category\",\n        \"num_unique_values\": 2,\n        \"samples\": [\n          \"High\",\n          \"Low\"\n        ],\n        \"semantic_type\": \"\",\n        \"description\": \"\"\n      }\n    },\n    {\n      \"column\": \"Letter\",\n      \"properties\": {\n        \"dtype\": \"category\",\n        \"num_unique_values\": 2,\n        \"samples\": [\n          \"Good\",\n          \"Bad\"\n        ],\n        \"semantic_type\": \"\",\n        \"description\": \"\"\n      }\n    },\n    {\n      \"column\": \"SAT\",\n      \"properties\": {\n        \"dtype\": \"category\",\n        \"num_unique_values\": 2,\n        \"samples\": [\n          \"Good\",\n          \"Bad\"\n        ],\n        \"semantic_type\": \"\",\n        \"description\": \"\"\n      }\n    }\n  ]\n}"
            }
          },
          "metadata": {},
          "execution_count": 29
        }
      ]
    },
    {
      "cell_type": "markdown",
      "source": [
        "Similarly to before, we generate a model structure which contains the base graph. The goal is to learn the values of nodes and edges of this graph."
      ],
      "metadata": {
        "id": "vPizyLET2M0G"
      }
    },
    {
      "cell_type": "code",
      "source": [
        "model_struct = BayesianNetwork(ebunch=model.edges())\n",
        "model_struct.nodes()"
      ],
      "metadata": {
        "colab": {
          "base_uri": "https://localhost:8080/"
        },
        "id": "9O6XziZs2AP6",
        "outputId": "12d47873-7be0-499d-f170-f0b71b1c1651"
      },
      "execution_count": null,
      "outputs": [
        {
          "output_type": "execute_result",
          "data": {
            "text/plain": [
              "NodeView(('Diff', 'Grade', 'Letter', 'Intel', 'SAT'))"
            ]
          },
          "metadata": {},
          "execution_count": 30
        }
      ]
    },
    {
      "cell_type": "markdown",
      "source": [
        "#### Learning the model parameters\n",
        "\n",
        "We can now begin learning the parameters of the model:"
      ],
      "metadata": {
        "id": "VeaPpbyK2Jp7"
      }
    },
    {
      "cell_type": "code",
      "source": [
        "# Fitting the model using Maximum Likelihood Estimator\n",
        "\n",
        "from pgmpy.estimators import MaximumLikelihoodEstimator\n",
        "\n",
        "mle = MaximumLikelihoodEstimator(model=model_struct, data=samples)\n",
        "\n",
        "# Estimating the CPD for a single node.\n",
        "print(mle.estimate_cpd(node=\"Diff\"))\n",
        "print(mle.estimate_cpd(node=\"Grade\"))\n",
        "\n",
        "# Estimating CPDs for all the nodes in the model\n",
        "mle.get_parameters()"
      ],
      "metadata": {
        "colab": {
          "base_uri": "https://localhost:8080/",
          "height": 374
        },
        "id": "A4zMUe752Gw_",
        "outputId": "85460dbf-f42d-4d77-9ddd-a8da9766284a"
      },
      "execution_count": null,
      "outputs": [
        {
          "output_type": "stream",
          "name": "stdout",
          "text": [
            "+------------+---------+\n",
            "| Diff(Easy) | 0.60206 |\n",
            "+------------+---------+\n",
            "| Diff(Hard) | 0.39794 |\n",
            "+------------+---------+\n",
            "+----------+----------------------+-----+---------------------+---------------------+\n",
            "| Diff     | Diff(Easy)           | ... | Diff(Hard)          | Diff(Hard)          |\n",
            "+----------+----------------------+-----+---------------------+---------------------+\n",
            "| Intel    | Intel(High)          | ... | Intel(High)         | Intel(Low)          |\n",
            "+----------+----------------------+-----+---------------------+---------------------+\n",
            "| Grade(A) | 0.9008347245409015   | ... | 0.5006672226855713  | 0.04920155373327579 |\n",
            "+----------+----------------------+-----+---------------------+---------------------+\n",
            "| Grade(B) | 0.07762938230383973  | ... | 0.29599666388657214 | 0.24881312041432888 |\n",
            "+----------+----------------------+-----+---------------------+---------------------+\n",
            "| Grade(C) | 0.021535893155258765 | ... | 0.20333611342785654 | 0.7019853258523954  |\n",
            "+----------+----------------------+-----+---------------------+---------------------+\n"
          ]
        },
        {
          "output_type": "execute_result",
          "data": {
            "text/plain": [
              "[<TabularCPD representing P(Diff:2) at 0x79786445bc70>,\n",
              " <TabularCPD representing P(Grade:3 | Diff:2, Intel:2) at 0x79786428f7c0>,\n",
              " <TabularCPD representing P(Letter:2 | Grade:3) at 0x79786428fe20>,\n",
              " <TabularCPD representing P(Intel:2) at 0x79786428f820>,\n",
              " <TabularCPD representing P(SAT:2 | Intel:2) at 0x79785c5cfeb0>]"
            ]
          },
          "metadata": {},
          "execution_count": 31
        }
      ]
    },
    {
      "cell_type": "code",
      "source": [
        "# Verifying that the learned parameters are almost equal.\n",
        "\n",
        "np.allclose(\n",
        "    model.get_cpds(\"Diff\").values, mle.estimate_cpd(\"Diff\").values, atol=0.01\n",
        ")"
      ],
      "metadata": {
        "colab": {
          "base_uri": "https://localhost:8080/"
        },
        "id": "aWc0pesj2m8g",
        "outputId": "b67aa6b4-ec06-4393-f9fe-549200b095ea"
      },
      "execution_count": null,
      "outputs": [
        {
          "output_type": "execute_result",
          "data": {
            "text/plain": [
              "True"
            ]
          },
          "metadata": {},
          "execution_count": 32
        }
      ]
    },
    {
      "cell_type": "markdown",
      "source": [
        "\n",
        "### **Bayesian Estimation**\n",
        "\n",
        "Bayesian Estimation estimates the parameters by updating prior distributions with observed data to obtain posterior distributions. This method provides a probabilistic view of the parameters, which includes uncertainty about their values. pgmpy also has a built in class to handle this:"
      ],
      "metadata": {
        "id": "GzqoQHnEcAkv"
      }
    },
    {
      "cell_type": "code",
      "source": [
        "# Fitting the using Bayesian Estimator\n",
        "\n",
        "from pgmpy.estimators import BayesianEstimator\n",
        "\n",
        "bayesian_model = BayesianEstimator(model=model_struct, data=samples)\n",
        "\n",
        "# Uniform pseudo count for each state. Can also accept an array of the size of CPD.\n",
        "print(bayesian_model.estimate_cpd(node=\"Diff\", prior_type=\"dirichlet\", pseudo_counts=100))\n"
      ],
      "metadata": {
        "colab": {
          "base_uri": "https://localhost:8080/"
        },
        "id": "nNe3Wg_55V9M",
        "outputId": "02e17c64-fd1b-4b64-a6e4-7553e97f2e06"
      },
      "execution_count": null,
      "outputs": [
        {
          "output_type": "stream",
          "name": "stdout",
          "text": [
            "+------------+----------+\n",
            "| Diff(Easy) | 0.601856 |\n",
            "+------------+----------+\n",
            "| Diff(Hard) | 0.398144 |\n",
            "+------------+----------+\n"
          ]
        }
      ]
    },
    {
      "cell_type": "markdown",
      "source": [
        "# 3. Undirected PGM - Markov Net <a class=\"anchor\" id=\"3\"></a>\n",
        "The material in this chapter is based on:\n",
        "1. https://www.youtube.com/watch?v=rN7g4gzO2sk&list=PLcKyTzEkOa-gxU14ehctpaQdhE2GOFpeb\n",
        "2. https://github.com/probml/pyprobml/blob/master/notebooks/book2/04/gibbs_demo_ising.ipynb\n",
        "\n",
        "\n",
        "Undirected Probabilistic Graphical Models (PGMs), also known as Markov Networks or Markov Random Fields, are a class of models used to represent the joint distribution of a set of random variables without specifying direct causal relationships between them. Unlike directed PGMs, which use directed edges to denote causal dependencies, undirected PGMs use undirected edges to capture the dependencies and conditional independencies among the variables.\n",
        "\n",
        "## Key Properties of Undirected PGM's\n",
        "\n",
        "\n",
        "- **Undirected Graphs**: In undirected PGMs, edges do not have a direction. They simply indicate that the connected variables are dependent on each other.\n",
        "- **Clique**: A subset of variables in a Markov Network where every pair of variables is directly connected by an edge. The joint probability distribution can be expressed in terms of these cliques.\n",
        "- **Potential Functions**: Instead of conditional probability tables (CPTs), undirected PGMs use potential functions or factors to define the joint distribution over cliques. These functions capture how variables interact with each other.\n",
        "\n",
        "\n",
        "Consider a simple undirected graph with three variables: `A`, `B`, and `C`. The edges are undirected and connect each pair of variables, forming a complete graph. In this graph, `A` is connected to `B`, `B` is connected to `C`, and `A` is connected to `C`. This represents a fully connected system where each variable influences every other variable, but the exact nature of these influences is captured by potential functions.\n",
        "\n",
        "\n",
        "To visualize an undirected PGM, you can use libraries such as `networkx`. Here’s a brief example of how you might represent and visualize a simple undirected PGM using `networkx`:\n"
      ],
      "metadata": {
        "id": "ifcN8EI71nt9"
      }
    },
    {
      "cell_type": "code",
      "source": [
        "# Create an undirected graph\n",
        "G = nx.Graph()\n",
        "\n",
        "# Add nodes\n",
        "G.add_nodes_from(['A', 'B', 'C'])\n",
        "\n",
        "# Add edges\n",
        "G.add_edges_from([('A', 'B'), ('B', 'C'), ('A', 'C')])\n",
        "\n",
        "# Draw the graph\n",
        "pos = nx.spring_layout(G)\n",
        "nx.draw(G, pos, with_labels=True, node_color='lightblue', edge_color='gray', node_size=2000, font_size=15, font_weight='bold')\n",
        "plt.title('Undirected PGM: A Simple Complete Graph')\n",
        "plt.show()"
      ],
      "metadata": {
        "colab": {
          "base_uri": "https://localhost:8080/",
          "height": 539
        },
        "id": "9c4A0g9nfZw7",
        "outputId": "5ac5c5f9-e1cc-4c12-efef-a2e2a3f4adac"
      },
      "execution_count": null,
      "outputs": [
        {
          "output_type": "display_data",
          "data": {
            "text/plain": [
              "<Figure size 640x480 with 1 Axes>"
            ],
            "image/png": "[encoded data removed]"
          },
          "metadata": {}
        }
      ]
    },
    {
      "cell_type": "markdown",
      "source": [
        "In undirected PGMs, the joint probability distribution over the variables is expressed as a product of potential functions over cliques. This representation allows for a flexible way of modeling dependencies without assuming a specific direction of influence. Inference in undirected PGMs often involves summing over variables to compute marginal distributions or using algorithms like Belief Propagation to perform approximate inference.\n",
        "\n",
        "To describe these concepts further, we will consider an Ising model."
      ],
      "metadata": {
        "id": "DtXODaRHffYu"
      }
    },
    {
      "cell_type": "markdown",
      "source": [
        "## Ising model"
      ],
      "metadata": {
        "id": "TGK-64pLUJc_"
      }
    },
    {
      "cell_type": "markdown",
      "source": [
        "The Ising Model is a type of undirected probabilistic graphical model used to study the behavior of magnetic materials. It consists of a grid of binary variables, each representing the spin of an electron (that can be either +1 (up) or -1 (down)). These spins interact with their neighbors, and the goal is to understand the collective behavior of the spins given certain interactions and external influences.\n",
        "\n",
        "\n",
        "### Key Concepts\n",
        "\n",
        "- **Binary Variables**: Each variable (or spin) in the Ising model can be in one of two states: +1 or -1.\n",
        "- **Neighbors**: Spins are arranged in a lattice, and each spin interacts with its neighboring spins. The interactions between neighboring spins are described by coupling constants.\n",
        "- **Potential Function**: The energy of a configuration in the Ising model is defined by a potential function that captures the interaction between neighboring spins.\n",
        "\n",
        "\n",
        "Let’s consider a simple 2D Ising model with a 4x4 grid. Each spin interacts with its nearest neighbors (left, right, top, bottom). Red represents a spin of +1 while blue represents a spin of -1."
      ],
      "metadata": {
        "id": "Hasd9z7kSsRc"
      }
    },
    {
      "cell_type": "code",
      "source": [
        "# Define the size of the grid\n",
        "size = 4\n",
        "\n",
        "# Create a grid graph to represent the Ising model\n",
        "G = nx.grid_2d_graph(size, size, periodic=False)\n",
        "\n",
        "# Define a random configuration of spins (+1 or -1)\n",
        "np.random.seed(0)\n",
        "spins = np.random.choice([-1, 1], size=(size, size))\n",
        "\n",
        "# Plot the grid and the spins\n",
        "pos = {(x, y): (y, -x) for x, y in G.nodes()}\n",
        "colors = ['red' if spins[x, y] == 1 else 'blue' for x, y in G.nodes()]\n",
        "\n",
        "plt.figure(figsize=(7, 7))\n",
        "nx.draw(G, pos, node_color=colors, with_labels=True, node_size=800, font_size=15, font_weight='bold')\n",
        "plt.title('2D Ising Model: Spin Configuration')\n",
        "plt.show()\n",
        "\n",
        "# Calculate the energy of the configuration\n",
        "def compute_energy(spins, J=1):\n",
        "    energy = 0\n",
        "    for (i, j) in G.edges():\n",
        "        energy -= J * spins[i] * spins[j]\n",
        "    return energy\n",
        "\n",
        "# Compute and print the energy of the configuration\n",
        "energy = compute_energy(spins)\n",
        "print(\"Energy of the configuration:\", energy)"
      ],
      "metadata": {
        "colab": {
          "base_uri": "https://localhost:8080/",
          "height": 776
        },
        "id": "jk-s13mAhKIW",
        "outputId": "8fb5b14e-6c70-426b-f87d-d4f40d5448d0"
      },
      "execution_count": null,
      "outputs": [
        {
          "output_type": "display_data",
          "data": {
            "text/plain": [
              "<Figure size 700x700 with 1 Axes>"
            ],
            "image/png": "[encoded data removed]"
          },
          "metadata": {}
        },
        {
          "output_type": "stream",
          "name": "stdout",
          "text": [
            "Energy of the configuration: -4\n"
          ]
        }
      ]
    },
    {
      "cell_type": "markdown",
      "source": [
        "### Scaling up\n",
        "We can now scale this up to a general case. In the Ising model, the probability of a given configuration of spins \\( X \\) is defined by the Boltzmann distribution. The probability is proportional to the exponential of the negative energy of the configuration, normalized by the partition function.\n",
        "\n",
        "Consider the 2d lattice $X \\in \\mathbb{R}^{N \\times M}$, where $x_{nm}$ is a random variable, taking values from $\\{-1, +1\\}$. The formula is:\n",
        "\n",
        "$$ P(X; J) = \\frac{1}{Z(J)} \\exp(-E(X; J)) $$\n",
        "\n",
        "\n",
        "Where:\n",
        "-  $P(X; J)$ is the probability of the spin configuration \\( X \\) given the coupling constant \\( J \\). In the study of the behavior of magnetic materials, the temperature affects the coupling stength \\( J \\). The lower temperature leads to more tightly coupled (larger J), and higher temperature means less tightly coupled (smaller J).\n",
        "-  $E(X; J)$ is the energy of the configuration \\( X \\), which is a function of the spins and their interactions.\n",
        "-  $Z(J)$ is the partition function, a normalization constant that ensures the probabilities sum to 1: $ Z(J) = \\sum_{X} \\exp(-E(X; J)) $"
      ],
      "metadata": {
        "id": "4H_FhVHFhcqu"
      }
    },
    {
      "cell_type": "markdown",
      "source": [
        "### Gibbs sampling for Inference:\n",
        "\n",
        "Gibbs Sampling is a Markov Chain Monte Carlo (MCMC) method used to approximate the distribution of a set of variables. In the context of the Ising model, Gibbs Sampling helps in approximating the posterior distribution of spins given the interactions and external fields.\n",
        "\n",
        "\n",
        "#### Steps for Gibbs Sampling\n",
        "\n",
        "1. **Initialization**: Start with an initial configuration of spins.\n",
        "2. **Sampling**: Update each spin sequentially based on the conditional distribution of that spin given the current values of its neighbors.\n",
        "3. **Iteration**: Repeat the sampling process for a large number of iterations to approximate the distribution.\n",
        "\n",
        "\n",
        "The gibbs formula is:\n",
        "\n",
        "$$p(x_{nm}=+1 \\mid X_{\\setminus nm}) = \\frac{p(x_{nm}=+1, X_{\\setminus nm})}{p(x_{nm}=+1, X_{\\setminus nm}) + p(x_{nm}=-1, X_{\\setminus nm})} = \\frac{1}{1 + \\exp[-e(x_{nm}=-1;J)+e(x_{nm}=+1; J)]} = \\frac{1}{1 + \\exp[2e(x_{nm}=+1;J)]}$$\n",
        "\n",
        "where we use notation $X_{\\setminus nm}$ to represent all variables in $X$ but $x_{nm}$. The notation $e(x_{nm}; J) = \\sum_{x^{\\prime} \\text{that are connected to node } x_{nm}} -J x^{\\prime}x_{nm}$.\n",
        "We also use the fact: $e(x_{nm}=+1; J) = - e(x_{nm}=-1; J).$"
      ],
      "metadata": {
        "id": "gkIWdUIWivbo"
      }
    },
    {
      "cell_type": "code",
      "source": [
        "# 3 options of initial configuration of spins.\n",
        "\n",
        "def positive_spin_field(N, M):\n",
        "    return np.ones((N, M))\n",
        "\n",
        "def negative_spin_field(N, M):\n",
        "    return -1 * np.ones((N, M))\n",
        "\n",
        "def random_spin_field(N, M):\n",
        "    return np.random.choice([-1, 1], size=(N, M))\n",
        "\n",
        "# You may write your own initial configuration..."
      ],
      "metadata": {
        "id": "_MTamkgZUbF-"
      },
      "execution_count": null,
      "outputs": []
    },
    {
      "cell_type": "code",
      "source": [
        "from PIL import Image\n",
        "\n",
        "def display_spin_field(field):\n",
        "    return Image.fromarray(np.uint8((field + 1) / 2 * 255))\n",
        "\n",
        "display_spin_field(random_spin_field(200, 200))"
      ],
      "metadata": {
        "colab": {
          "base_uri": "https://localhost:8080/",
          "height": 217
        },
        "id": "ooPUKm8VecRh",
        "outputId": "fdd5acc7-4371-464b-e646-abde9d020968"
      },
      "execution_count": null,
      "outputs": [
        {
          "output_type": "execute_result",
          "data": {
            "text/plain": [
              "<PIL.Image.Image image mode=L size=200x200>"
            ],
            "image/png": "[encoded data removed]"
          },
          "metadata": {},
          "execution_count": 40
        }
      ]
    },
    {
      "cell_type": "code",
      "source": [
        "def ising_step(field, J=0.4):\n",
        "    \"\"\"Perform Ising Update over entire lattice\"\"\"\n",
        "    N, M = field.shape\n",
        "    for n_offset in range(2):\n",
        "        for m_offset in range(2):\n",
        "             for n in range(n_offset, N, 2):\n",
        "                for m in range(m_offset, M, 2) :\n",
        "                    _ising_update(field, n, m, J)\n",
        "    return field\n",
        "\n",
        "def _energy(field, n, m, J):\n",
        "    \"\"\"\n",
        "    Calculate Energy of a single site (n, m) assuming x_nm = 1.\n",
        "    \"\"\"\n",
        "    total = 0\n",
        "    N, M = field.shape\n",
        "    # be careful of the boundary\n",
        "    for i in range(max(0, n - 1), min(N, n + 2)):\n",
        "        for j in range(max(0, m - 1), min(M, m + 2)):\n",
        "            if i == n and j == m:\n",
        "                continue\n",
        "            total += field[i, j]\n",
        "    total *= -J\n",
        "    return total\n",
        "\n",
        "def _ising_update(field, n, m, J):\n",
        "    \"\"\"\n",
        "    Perform Ising Update (Gibbs sampling) for a single site (n, m)\n",
        "    \"\"\"\n",
        "    if np.random.rand() < 1 / (1 + np.exp(2 * _energy(field, n, m, J))):\n",
        "        field[n, m] = 1\n",
        "    else:\n",
        "        field[n, m] = -1"
      ],
      "metadata": {
        "id": "LXsZV-enfIIZ"
      },
      "execution_count": null,
      "outputs": []
    },
    {
      "cell_type": "markdown",
      "source": [
        "### Animate Sequence with ipywidgets"
      ],
      "metadata": {
        "id": "2dzseV9o0teO"
      }
    },
    {
      "cell_type": "code",
      "source": [
        "from ipywidgets import interact\n",
        "\n",
        "# animate the evolution of the Ising model\n",
        "def display_ising_sequence(images):\n",
        "    def _show(frame=(0, len(images) - 1)):\n",
        "        return display_spin_field(images[frame])\n",
        "\n",
        "    return interact(_show)"
      ],
      "metadata": {
        "id": "u-3Xb2Bxzlvu"
      },
      "execution_count": null,
      "outputs": []
    },
    {
      "cell_type": "code",
      "source": [
        "np.random.seed(44)                     # Try different random seeds, e.g. 44, 46\n",
        "images = [positive_spin_field(30, 30)] # Try different initial configs, such as negative_spin_field, random_spin_field etc\n",
        "J0, T0, Tf = 10., 1., 100.             # J0: base coupling strength; TO: initial temperature; Tf: the highest temperature\n",
        "temp = [T0]\n",
        "num_iter = 1000                        # number of iterations to run\n",
        "\n",
        "# This loop will take some time, please be patient.\n",
        "for i in range(num_iter):\n",
        "\n",
        "    if i < num_iter / 2:\n",
        "        # during the first half of iters, as the temperature increase (smaller coupling strength),\n",
        "        # the distribution becomes more entropic, losing magnestism.\n",
        "        T = T0 + (Tf - T0) * (i + 1) / (num_iter / 2)\n",
        "\n",
        "    elif i >= num_iter / 2:\n",
        "        # after the first half of iters, the temperature start decreasing (larger coupling strength),\n",
        "        # the distribution becomes less entropic, recovering magnestism.\n",
        "        T = Tf - (Tf - T0) * (i + 1 - (num_iter / 2)) / (num_iter / 2)\n",
        "\n",
        "    J = J0 / T\n",
        "    images.append(ising_step(images[-1].copy(), J=J))\n",
        "    temp.append(T)\n",
        "\n",
        "display_ising_sequence(images)"
      ],
      "metadata": {
        "colab": {
          "base_uri": "https://localhost:8080/",
          "height": 182,
          "referenced_widgets": [
            "1258f81179994376878ea8a81632a960",
            "ff63c879f00040458c122844f53c3628",
            "cf2e29224d3d4d1f8906b5a2f4b4747b",
            "587b319701004cff87d979ed857cc0be",
            "fed0ffd95aed41ddb7b3da8df3760814",
            "c9d293fe3b9c4ea794dd6aa462eae194",
            "532e22f38177402b92df0f6cc244472a"
          ]
        },
        "id": "mkeBwlGmzz7X",
        "outputId": "1b97ca4b-01ee-4aa1-e9bc-535959624ba2"
      },
      "execution_count": null,
      "outputs": [
        {
          "output_type": "display_data",
          "data": {
            "text/plain": [
              "interactive(children=(IntSlider(value=500, description='frame', max=1000), Output()), _dom_classes=('widget-in…"
            ],
            "application/vnd.jupyter.widget-view+json": {
              "version_major": 2,
              "version_minor": 0,
              "model_id": "1258f81179994376878ea8a81632a960"
            }
          },
          "metadata": {}
        },
        {
          "output_type": "execute_result",
          "data": {
            "text/plain": [
              "<function __main__.display_ising_sequence.<locals>._show(frame=(0, 1000))>"
            ],
            "text/html": [
              "<div style=\"max-width:800px; border: 1px solid var(--colab-border-color);\"><style>\n",
              "      pre.function-repr-contents {\n",
              "        overflow-x: auto;\n",
              "        padding: 8px 12px;\n",
              "        max-height: 500px;\n",
              "      }\n",
              "\n",
              "      pre.function-repr-contents.function-repr-contents-collapsed {\n",
              "        cursor: pointer;\n",
              "        max-height: 100px;\n",
              "      }\n",
              "    </style>\n",
              "    <pre style=\"white-space: initial; background:\n",
              "         var(--colab-secondary-surface-color); padding: 8px 12px;\n",
              "         border-bottom: 1px solid var(--colab-border-color);\"><b>display_ising_sequence.&lt;locals&gt;._show</b><br/>def _show(frame=(0, len(images) - 1))</pre><pre class=\"function-repr-contents function-repr-contents-collapsed\" style=\"\"><a class=\"filepath\" style=\"display:none\" href=\"#\">/tmp/ipykernel_2636/3384753632.py</a>&lt;no docstring&gt;</pre>\n",
              "      <script>\n",
              "      if (google.colab.kernel.accessAllowed && google.colab.files && google.colab.files.view) {\n",
              "        for (const element of document.querySelectorAll('.filepath')) {\n",
              "          element.style.display = 'block'\n",
              "          element.onclick = (event) => {\n",
              "            event.preventDefault();\n",
              "            event.stopPropagation();\n",
              "            google.colab.files.view(element.textContent, 5);\n",
              "          };\n",
              "        }\n",
              "      }\n",
              "      for (const element of document.querySelectorAll('.function-repr-contents')) {\n",
              "        element.onclick = (event) => {\n",
              "          event.preventDefault();\n",
              "          event.stopPropagation();\n",
              "          element.classList.toggle('function-repr-contents-collapsed');\n",
              "        };\n",
              "      }\n",
              "      </script>\n",
              "      </div>"
            ]
          },
          "metadata": {},
          "execution_count": 48
        }
      ]
    },
    {
      "cell_type": "code",
      "source": [
        "import matplotlib.pyplot as plt\n",
        "\n",
        "# Plot the evolution of the magnetization\n",
        "plt.subplot(1, 2, 1)\n",
        "plt.plot(range(len(images)), [images[i].mean() for i in range(len(images))])\n",
        "plt.xlabel('Iteration')\n",
        "plt.ylabel('Magnestism')\n",
        "\n",
        "plt.subplot(1, 2, 2)\n",
        "plt.plot(range(len(images)), temp)\n",
        "plt.xlabel('Iteration')\n",
        "plt.ylabel('Temperature')\n",
        "plt.tight_layout()\n",
        "plt.show()"
      ],
      "metadata": {
        "colab": {
          "base_uri": "https://localhost:8080/",
          "height": 487
        },
        "id": "TSME0x1vZNHa",
        "outputId": "2184f4ad-58f6-492b-8fba-08f48223111c"
      },
      "execution_count": null,
      "outputs": [
        {
          "output_type": "display_data",
          "data": {
            "text/plain": [
              "<Figure size 640x480 with 2 Axes>"
            ],
            "image/png": "[encoded data removed]"
          },
          "metadata": {}
        }
      ]
    },
    {
      "cell_type": "markdown",
      "source": [
        "In the Ising model, the temperature T plays an important role. At low temperatures, thermal fluctuations are minimal, and the system tends to minimize its energy by aligning spins (strong coupling, large J), resulting in a net magnetization (ferromagnetic state). However, as the temperature increases, thermal energy can overcome the interaction energy between spins (weak coupling, small J), leading to more random spin orientations and a reduction in net magnetization.\n",
        "\n",
        "One may notice that there is a critical temperature in the above evolution ($T_c \\in $60~80), known as the Curie temperature in magnetic materials, is a pivotal point in the Ising model. Below $T_c$, the material exhibits spontaneous magnetization, where even without an external magnetic field, the spins tend to align, creating a magnetized state. Above $T_c$, the thermal agitation becomes dominant, and the system transitions to a paramagnetic state, where the spins are randomly oriented, and the net magnetization vanishes.\n",
        "\n",
        "When the temperature is decreased from a high value (above $T_c$) back down, the system might not immediately return to its original magnetized state. This lag is known as hysteresis. The material may retain some magnetization due to the history of its thermal evolution, demonstrating the irreversible nature of some processes in magnetic materials. Under certain conditions, the direction of magnetization can reverse during the cooling process (e.g. random seed=46)."
      ],
      "metadata": {
        "id": "XaqMm-NXv7mq"
      }
    },
    {
      "cell_type": "markdown",
      "source": [
        "##Image denoising with Ising model"
      ],
      "metadata": {
        "id": "0-i-ygHKUNRK"
      }
    },
    {
      "cell_type": "markdown",
      "source": [
        "In this section, we provide an toy application for image denoising with Ising model prior. Given an image, we treat image pixels as random variables, denoted as $X \\in \\mathbb{R}^{N \\times M}$. To capture the correlation between pixels, we put Ising model prior on $X$. The original image $X$ can sometime be corrputed in many senarios, such as during data transmission, resulting to a noisy image denoted as $Y$. Our goal here is to recover \"clean\" image $X$ given noisy observation $Y$, with the help of Ising model. This example is inspired by Kevin's book Section 4.3.9."
      ],
      "metadata": {
        "id": "GnUJOkz04VJW"
      }
    },
    {
      "cell_type": "code",
      "source": [
        "import pandas as pd\n",
        "\n",
        "img = pd.read_csv('https://raw.githubusercontent.com/probml/probml-data/main/data/letterA.csv').to_numpy()"
      ],
      "metadata": {
        "id": "ZaQJAQ4iJ8z4"
      },
      "execution_count": null,
      "outputs": []
    },
    {
      "cell_type": "code",
      "source": [
        "mean = np.mean(img)\n",
        "img_clean = np.where(img > mean, 1, -1)\n",
        "\n",
        "display_spin_field(img_clean)"
      ],
      "metadata": {
        "colab": {
          "base_uri": "https://localhost:8080/",
          "height": 144
        },
        "id": "1jN6ubqAMa7j",
        "outputId": "31eb629e-9d30-44bf-e1d0-ad72246d9e6e"
      },
      "execution_count": null,
      "outputs": [
        {
          "output_type": "execute_result",
          "data": {
            "text/plain": [
              "<PIL.Image.Image image mode=L size=128x127>"
            ],
            "image/png": "[encoded data removed]"
          },
          "metadata": {},
          "execution_count": 60
        }
      ]
    },
    {
      "cell_type": "markdown",
      "source": [
        "We can artificially inject random noise to original clean image. The noise level is the standard deviation of the Gaussian noise."
      ],
      "metadata": {
        "id": "J1bV5hAE32TI"
      }
    },
    {
      "cell_type": "code",
      "source": [
        "noise_level = 0.01\n",
        "img_noisy = img_clean.astype('float') + np.random.randn(*img_clean.shape) * noise_level # try different noise level\n",
        "\n",
        "display_spin_field(img_noisy)"
      ],
      "metadata": {
        "colab": {
          "base_uri": "https://localhost:8080/",
          "height": 144
        },
        "id": "EYRgoynmepQV",
        "outputId": "ca5db713-b109-4068-9418-718b7bd85e03"
      },
      "execution_count": null,
      "outputs": [
        {
          "output_type": "execute_result",
          "data": {
            "text/plain": [
              "<PIL.Image.Image image mode=L size=128x127>"
            ],
            "image/png": "[encoded data removed]"
          },
          "metadata": {},
          "execution_count": 61
        }
      ]
    },
    {
      "cell_type": "markdown",
      "source": [
        "As mentioned above, the prior $p(X)$ is modelled as a Ising model. We can freely determine the observation likelihood $p(Y \\mid X)$. The simplest choice is Gaussian likelihood: $p(Y \\mid X) = \\mathcal{N}(Y \\mid X, \\sigma^2I)$. Our denoising target can be achieved by optimizing log posterior $\\log p(X \\mid Y)$ w.r.t. $X$.\n",
        "\n",
        "$$X_{*} = \\arg \\max_{X} \\log p(X \\mid Y) \\propto \\arg \\max_{X} \\{-\\log Z(J) + J \\cdot \\sum_{i \\sim j} x_{i} x_{j} + \\sum_{n} \\sum_{m} \\log p(y_{nm} \\mid x_{nm})\\}$$\n",
        "\n",
        "where the $i \\sim j$ notation means edges in the Ising model."
      ],
      "metadata": {
        "id": "zwGn-ZHXU_J9"
      }
    },
    {
      "cell_type": "code",
      "source": [
        "def gaussian_log_likelihood(obs, mean, std=1.):\n",
        "    return -0.5 * np.log(2 * np.pi) - np.log(std) - (obs - mean) ** 2 / (2 * std ** 2)\n",
        "\n",
        "def laplace_log_likelihood(obs, mean, b=1.):\n",
        "    return -np.log(2 * b) - np.abs(obs - mean) / b\n",
        "\n",
        "# You may try some other log likelihood functions ..."
      ],
      "metadata": {
        "id": "0jpy3leFaThY"
      },
      "execution_count": null,
      "outputs": []
    },
    {
      "cell_type": "code",
      "source": [
        "def denoising_step(noisy_img, field, log_obs_likelihood, J=0.4, num_iter=1):\n",
        "    \"\"\"\n",
        "    A heuristic approach for maximizing :math: '\\log p(X|Y)'.\n",
        "    \"\"\"\n",
        "    assert noisy_img.shape == field.shape\n",
        "    N, M = noisy_img.shape\n",
        "    for iter in range(num_iter):\n",
        "      for n in range(N):\n",
        "          for m in range(M):\n",
        "              _denoising_step(noisy_img[n, m], field, n, m, log_obs_likelihood, J)\n",
        "\n",
        "    return field\n",
        "\n",
        "def _denoising_step(noisy_value, field, n, m, log_obs_likelihood, J=0.4):\n",
        "    \"\"\"\n",
        "    Decide pixel value (-1 or +1) at a single location (n, m) by maximizing :math:'\\log p(X|Y)'\n",
        "    \"\"\"\n",
        "\n",
        "    energy_term = _energy(field, n, m, J)\n",
        "\n",
        "    # if x_nm = 1\n",
        "    v1 = - energy_term + log_obs_likelihood(noisy_value, 1)\n",
        "\n",
        "    # if x_nm = -1\n",
        "    v2 = energy_term + log_obs_likelihood(noisy_value, -1)\n",
        "\n",
        "    if v1 > v2:\n",
        "        field[n, m] = 1\n",
        "\n",
        "    else:\n",
        "        field[n, m] = -1\n"
      ],
      "metadata": {
        "id": "XLa0hej4QN25"
      },
      "execution_count": null,
      "outputs": []
    },
    {
      "cell_type": "markdown",
      "source": [
        "We can now optimize $X$ with a random initialization."
      ],
      "metadata": {
        "id": "4tZEiA0O-G_G"
      }
    },
    {
      "cell_type": "code",
      "source": [
        "display_spin_field(denoising_step(noisy_img=img_noisy,\n",
        "                                  field=random_spin_field(*img.shape),\n",
        "                                  log_obs_likelihood=gaussian_log_likelihood,\n",
        "                                  J=0.4,\n",
        "                                  num_iter=1))                        # you may tune hyper-parameters in log_obs_likelihood function, J, and num_iter etc."
      ],
      "metadata": {
        "colab": {
          "base_uri": "https://localhost:8080/",
          "height": 144
        },
        "id": "4GJlxIJSYGcv",
        "outputId": "7e12ec0b-d1a6-4b21-bb8d-1c5b9ad0fd85"
      },
      "execution_count": null,
      "outputs": [
        {
          "output_type": "execute_result",
          "data": {
            "text/plain": [
              "<PIL.Image.Image image mode=L size=128x127>"
            ],
            "image/png": "[encoded data removed]"
          },
          "metadata": {},
          "execution_count": 66
        }
      ]
    },
    {
      "cell_type": "markdown",
      "source": [
        "Beside denoing image with injected Gaussian noise, you may explore other settings: such as upsampling an image ...\n",
        "\n",
        "Can you think up a setting where this model (completely) fails? Why?"
      ],
      "metadata": {
        "id": "k1WrkquzAUYR"
      }
    },
    {
      "cell_type": "markdown",
      "source": [
        "### Image upsampling"
      ],
      "metadata": {
        "id": "rfU4gYOE9gTn"
      }
    },
    {
      "cell_type": "code",
      "source": [
        "img_subsample = img_clean.astype('float')\n",
        "img_subsample[::2, ::2] = -1 # or 1\n",
        "\n",
        "display_spin_field(img_subsample)"
      ],
      "metadata": {
        "colab": {
          "base_uri": "https://localhost:8080/",
          "height": 144
        },
        "id": "hw7pXfBf-eda",
        "outputId": "bbb5afb7-ea86-47db-e4e7-f92835c140fe"
      },
      "execution_count": null,
      "outputs": [
        {
          "output_type": "execute_result",
          "data": {
            "text/plain": [
              "<PIL.Image.Image image mode=L size=128x127>"
            ],
            "image/png": "[encoded data removed]"
          },
          "metadata": {},
          "execution_count": 86
        }
      ]
    },
    {
      "cell_type": "code",
      "source": [
        "display_spin_field(denoising_step(noisy_img=img_subsample,\n",
        "                                  field=random_spin_field(*img.shape),\n",
        "                                  log_obs_likelihood=gaussian_log_likelihood,\n",
        "                                  J=0.4,\n",
        "                                  num_iter=5))"
      ],
      "metadata": {
        "colab": {
          "base_uri": "https://localhost:8080/",
          "height": 144
        },
        "id": "I_C5U2PY-3aC",
        "outputId": "ea823400-cb00-49be-aa67-a5db35ede606"
      },
      "execution_count": null,
      "outputs": [
        {
          "output_type": "execute_result",
          "data": {
            "text/plain": [
              "<PIL.Image.Image image mode=L size=128x127>"
            ],
            "image/png": "[encoded data removed]"
          },
          "metadata": {},
          "execution_count": 87
        }
      ]
    },
    {
      "cell_type": "markdown",
      "source": [
        "### One example setting where this model completely fails: image completion"
      ],
      "metadata": {
        "id": "0ltBgtKCA40l"
      }
    },
    {
      "cell_type": "code",
      "source": [
        "img_shelter = img_clean.astype('float')\n",
        "img_shelter[50:90, 50:90] = -1\n",
        "\n",
        "display_spin_field(img_shelter)"
      ],
      "metadata": {
        "colab": {
          "base_uri": "https://localhost:8080/",
          "height": 144
        },
        "id": "5Pq-uJTiBS4w",
        "outputId": "03cd0bab-21f3-407b-ac46-e72180e44ecf"
      },
      "execution_count": null,
      "outputs": [
        {
          "output_type": "execute_result",
          "data": {
            "text/plain": [
              "<PIL.Image.Image image mode=L size=128x127>"
            ],
            "image/png": "[encoded data removed]"
          },
          "metadata": {},
          "execution_count": 88
        }
      ]
    },
    {
      "cell_type": "code",
      "source": [
        "display_spin_field(denoising_step(noisy_img=img_shelter,\n",
        "                                  field=random_spin_field(*img.shape),\n",
        "                                  log_obs_likelihood=gaussian_log_likelihood,\n",
        "                                  J=0.4,\n",
        "                                  num_iter=5))"
      ],
      "metadata": {
        "colab": {
          "base_uri": "https://localhost:8080/",
          "height": 144
        },
        "id": "oao8KZM2BeVx",
        "outputId": "1019b39c-68fc-402b-9222-6d0d02144f2a"
      },
      "execution_count": null,
      "outputs": [
        {
          "output_type": "execute_result",
          "data": {
            "text/plain": [
              "<PIL.Image.Image image mode=L size=128x127>"
            ],
            "image/png": "[encoded data removed]"
          },
          "metadata": {},
          "execution_count": 91
        }
      ]
    },
    {
      "cell_type": "markdown",
      "source": [
        "To elucidate the reasons behind our model's complete failure in image completion when confronted with block occlusion, it is essential to revisit the fundamental assumption of the Ising model. In the Ising model, each variable, taking on a value of either -1 or +1, is conditionally independent of all other variables, provided the values of its neighboring variables. Our model's effectiveness in image denoising is similarly rooted in its ability to exploit neighboring information, as aligned with the principles of the Ising model. However, in the context of image completion where an entire block of the image is missing, the model is unable to utilize nearby pixel information, ultimately leading to its failure in performing this task.\n",
        "\n",
        "\n",
        " Extra Exercise: For Ising model example, one may also consider putting an external magnetic field over the lattice, which leads to a new energy formulation. How to modify the above code to accomodate this change?"
      ],
      "metadata": {
        "id": "FyPzftvcDmbs"
      }
    },
    {
      "cell_type": "markdown",
      "source": [
        "hint: You may change the _energy part."
      ],
      "metadata": {
        "id": "nVc1orvQpjsK"
      }
    }
  ]
}